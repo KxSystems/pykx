{
 "cells": [
  {
   "cell_type": "markdown",
   "id": "5c1e9b66",
   "metadata": {},
   "source": [
    "# Jupyter Notebooks\n",
    "\n",
    "_This notebook demonstrates how to use the q Magic command in a Jupyter notebook._\n",
    "\n",
    "\n",
    "The Jupyter q magic command in PyKX allows you to execute q code within a Jupyter notebook. It provides seamless integration with the q programming language.\n",
    "\n",
    "This example Notebook has the following sections:\n",
    "\n",
    "1. [Import PyKX](#1-import-pykx)\n",
    "1. [Create the external q process](#2-create-the-external-q-process)\n",
    "1. [Execute against Embedded q](#3-execute-against-embedded-q)\n",
    "1. [SQL interface](#4-sql-interface)\n",
    "1. [q namespaces](#5-q-namespaces)\n",
    "1. [(Advanced) q over IPC](#6-advanced-q-over-ipc)"
   ]
  },
  {
   "cell_type": "code",
   "execution_count": null,
   "id": "e2748405",
   "metadata": {
    "tags": [
     "hide_code"
    ]
   },
   "outputs": [],
   "source": [
    "import os\n",
    "os.environ['PYKX_IGNORE_QHOME'] = '1' # Ignore symlinking PyKX q libraries to QHOME\n",
    "os.environ['PYKX_Q_LOADED_MARKER'] = '' # Only used here for running Notebook under mkdocs-jupyter during document generation."
   ]
  },
  {
   "cell_type": "markdown",
   "id": "688b9ed0",
   "metadata": {},
   "source": [
    "## 1. Import PyKX\n",
    "\n",
    "To run this example, first import the PyKX library:"
   ]
  },
  {
   "cell_type": "code",
   "execution_count": null,
   "id": "d4d3694e",
   "metadata": {},
   "outputs": [],
   "source": [
    "import pykx as kx"
   ]
  },
  {
   "cell_type": "markdown",
   "id": "9c520c21",
   "metadata": {},
   "source": [
    "##  2. Create the external q process\n",
    "\n",
    "You can run an external q process by using the following Python code:"
   ]
  },
  {
   "cell_type": "code",
   "execution_count": null,
   "id": "57e66aca",
   "metadata": {},
   "outputs": [],
   "source": [
    "import subprocess\n",
    "import time\n",
    "\n",
    "try:\n",
    "    with kx.PyKXReimport():\n",
    "        proc = subprocess.Popen(\n",
    "            ('q', '-p', '5000')\n",
    "        )\n",
    "    time.sleep(2)\n",
    "except:\n",
    "    raise kx.QError('Unable to create q process on port 5000')"
   ]
  },
  {
   "cell_type": "markdown",
   "id": "1b318ba2",
   "metadata": {},
   "source": [
    "\n",
    "Or execute this command in a terminal:\n",
    "\n",
    "```sh\n",
    "$ q -p 5000\n",
    "```\n"
   ]
  },
  {
   "cell_type": "markdown",
   "id": "bc7219fb",
   "metadata": {},
   "source": [
    "##  3. Execute against Embedded q\n",
    "\n",
    "To execute q code within PyKX's `EmbeddedQ` module, type `%%q` at the beginning of the cell:"
   ]
  },
  {
   "cell_type": "code",
   "execution_count": null,
   "id": "ff309a5a",
   "metadata": {},
   "outputs": [],
   "source": [
    "%%q\n",
    "til 10"
   ]
  },
  {
   "cell_type": "markdown",
   "id": "89ec26e4",
   "metadata": {},
   "source": [
    "After `%%q` you can further add two execution options:\n",
    "\n",
    "| **Execution option** | **Description**     |\n",
    "|---------------|----------------------------------------------------|\n",
    "| --debug       | Prints the q backtrace before raising a QError if the cell gives an error.|\n",
    "| --display     | Calls display rather than the default print on returned objects.|"
   ]
  },
  {
   "cell_type": "code",
   "execution_count": null,
   "id": "2c168914",
   "metadata": {},
   "outputs": [],
   "source": [
    "%%q\n",
    "([] a: 1 2 3)"
   ]
  },
  {
   "cell_type": "code",
   "execution_count": null,
   "id": "4c5c2f85",
   "metadata": {},
   "outputs": [],
   "source": [
    "%%q --display\n",
    "([] a: 1 2 3)"
   ]
  },
  {
   "cell_type": "markdown",
   "id": "cda0d38a",
   "metadata": {},
   "source": [
    "####  Executing against an external q process over IPC\n",
    "\n",
    "Connection information can also be included after the `%%q` to connect to a remote `q` process over\n",
    "IPC.\n",
    "\n",
    "Here is the list of currently supported connection parameters.\n",
    "If they specify a type a second value is expected to follow them to be used as the parameter.\n",
    "If no type follows them they can be used as a stand alone flag.\n",
    "\n",
    "```\n",
    "--host: A string object denoting the host to connect to\n",
    "--port: An int object denoting the port to connect over\n",
    "--user: A str object denoting the username to use when connecting\n",
    "--password: A str object denoting the password to use when connecting\n",
    "--timeout: A float object denoting the time in seconds before the query\n",
    "      times out, defaults to no timeout\n",
    "--nolarge: Disable messages over 2GB being sent / received\n",
    "--tls: Use a tls connection\n",
    "--unix: Use a unix connection\n",
    "--reconnection_attempts: An int object denoting how many\n",
    "      reconnection attempts to make\n",
    "--noctx: Disable the context interface\n",
    "```\n",
    "\n",
    "Connect to a q server running on `localhost` at port `5001` as `user` using password `password`\n",
    "and disable the context interface."
   ]
  },
  {
   "cell_type": "code",
   "execution_count": null,
   "id": "1faca1e1",
   "metadata": {},
   "outputs": [],
   "source": [
    "%%q --host localhost --port 5000 --user user --pass password --noctx\n",
    "til 10"
   ]
  },
  {
   "cell_type": "markdown",
   "id": "f046ebb6",
   "metadata": {},
   "source": [
    "All connection arguments are optional with the exception of the `--port` argument. If `--host` is not provided `localhost` will be used as the default host."
   ]
  },
  {
   "cell_type": "code",
   "execution_count": null,
   "id": "615d7d2e",
   "metadata": {},
   "outputs": [],
   "source": [
    "%%q --port 5000\n",
    "tab:([]a:1000?1000; b:1000?500.0; c:1000?`AAPL`MSFT`GOOG);"
   ]
  },
  {
   "cell_type": "markdown",
   "id": "d756f342",
   "metadata": {},
   "source": [
    "It is possible to execute `q` code spanning multiple lines."
   ]
  },
  {
   "cell_type": "code",
   "execution_count": null,
   "id": "c739a80a",
   "metadata": {
    "scrolled": true
   },
   "outputs": [],
   "source": [
    "%%q --port 5000\n",
    "afunc: {[x; y]\n",
    "  x + y  \n",
    "  };\n",
    "afunc[0; 1]\n",
    "afunc[2; 3]"
   ]
  },
  {
   "cell_type": "markdown",
   "id": "2905895e",
   "metadata": {},
   "source": [
    "##  4. SQL interface\n",
    "\n",
    "The `s)` syntax runs SQL queries against local tables within the `q` process.\n",
    "\n",
    "Note: To use the SQL interface, first you need to load the `s.k_` library."
   ]
  },
  {
   "cell_type": "code",
   "execution_count": null,
   "id": "56220bb5",
   "metadata": {
    "scrolled": true
   },
   "outputs": [],
   "source": [
    "%%q\n",
    "\\l s.k_\n",
    "tab:([]a:1000?1000; b:1000?500.0; c:1000?`AAPL`MSFT`GOOG);\n",
    "s) select * from tab where a>500 and b<250.0 limit 5"
   ]
  },
  {
   "cell_type": "markdown",
   "id": "da906296",
   "metadata": {},
   "source": [
    "##  5. q namespaces\n",
    "\n",
    "You can use `q` namespaces, and switch between them with `\\d`.\n",
    "\n",
    "Note: The namespace is reset back to the base namespace `.` between cells."
   ]
  },
  {
   "cell_type": "code",
   "execution_count": null,
   "id": "502af937",
   "metadata": {},
   "outputs": [],
   "source": [
    "%%q\n",
    "\\d .example\n",
    "f: {[x] til x};"
   ]
  },
  {
   "cell_type": "code",
   "execution_count": null,
   "id": "58d0c7c9",
   "metadata": {},
   "outputs": [],
   "source": [
    "%%q\n",
    "\\d\n",
    ".example.f[10]"
   ]
  },
  {
   "cell_type": "markdown",
   "id": "52ca850e",
   "metadata": {},
   "source": [
    "##  6. (Advanced) q over IPC\n",
    "\n",
    "After `%%q` you can include connection information, if you wish to connect to a remote `q` process over IPC. \n",
    "\n",
    "The list of supported connection parameters is below. The rule is:\n",
    "\n",
    "- If they have a type, it must be followed by a second value/parameter.\n",
    "- If there's no type after them, you can use them as a standalone flag.\n",
    "\n",
    "| **Parameter** &nbsp; &nbsp; &nbsp; &nbsp; &nbsp; &nbsp; &nbsp; &nbsp; &nbsp; &nbsp; &nbsp; &nbsp;| **Object type and description**|\n",
    "|-----------------------|-----------------------------------------------|\n",
    "|--host                 | (string) The host to connect to. |\n",
    "|--port                 | (integer) The port to connect over. |\n",
    "|--user                 | (string) The username to use when connecting. |\n",
    "|--password             | (string) The password to use when connecting. |\n",
    "|--timeout              | (float) The time in seconds before the query times out. Defaults to no timeout.|\n",
    "|--nolarge              | Disable messages over 2GB being sent / received. |\n",
    "|--tls                  | Use a tls connection.                            |\n",
    "|--unix                 | Use a unix connection.                           |\n",
    "|--reconnection_attempts| (integer) How many reconnection attempts to make.|\n",
    "|--noctx                | Disable the context interface.                   |\n",
    "\n",
    "Connect to a q server running on `localhost` at port `5000` as `user` using password `password`\n",
    "and disable the context interface."
   ]
  },
  {
   "cell_type": "code",
   "execution_count": null,
   "id": "a282e069",
   "metadata": {},
   "outputs": [],
   "source": [
    "%%q --host localhost --port 5000 --user user --pass password --noctx\n",
    "til 10"
   ]
  },
  {
   "cell_type": "markdown",
   "id": "a1fe3b8e",
   "metadata": {},
   "source": [
    "All connection arguments are optional, except the `--port` argument. If `--host` is not provided `localhost` is the default host."
   ]
  },
  {
   "cell_type": "code",
   "execution_count": null,
   "id": "18d8416b",
   "metadata": {},
   "outputs": [],
   "source": [
    "%%q --port 5000\n",
    "tab:([]a:1000?1000; b:1000?500.0; c:1000?`AAPL`MSFT`GOOG);"
   ]
  },
  {
   "cell_type": "markdown",
   "id": "e143c382",
   "metadata": {},
   "source": [
    "Note that it's possible to execute `q` code spanning multiple lines:"
   ]
  },
  {
   "cell_type": "code",
   "execution_count": null,
   "id": "ccb197e8",
   "metadata": {},
   "outputs": [],
   "source": [
    "%%q --port 5000\n",
    "afunc: {[x; y]\n",
    "  x + y  \n",
    "  };\n",
    "afunc[0; 1]\n",
    "afunc[2; 3]"
   ]
  },
  {
   "cell_type": "code",
   "execution_count": null,
   "id": "c12a7d38",
   "metadata": {},
   "outputs": [],
   "source": [
    "# Shutdown the q process we were connected to for the IPC demo\n",
    "proc.kill()"
   ]
  },
  {
   "cell_type": "markdown",
   "id": "607997ac-e7d7-4cc9-a06f-aa1cd3d742ce",
   "metadata": {},
   "source": [
    "#### q first mode\n",
    "q first mode can be enabled by importing PyKX after setting the environment variable `PYKX_JUPYTERQ` to `true`, or at runtime use:"
   ]
  },
  {
   "cell_type": "code",
   "execution_count": null,
   "id": "1aaa78ff-d3a7-4c57-8064-57994d0cbd9f",
   "metadata": {},
   "outputs": [],
   "source": [
    "kx.util.jupyter_qfirst_enable()"
   ]
  },
  {
   "cell_type": "markdown",
   "id": "d7c06591-e272-4a7c-9fcb-278687c33598",
   "metadata": {},
   "source": [
    "Once enabled, you can call `q` code without needing to include `%%q` at the beginning of a cell."
   ]
  },
  {
   "cell_type": "code",
   "execution_count": null,
   "id": "c8575f62-a801-42cd-bd45-07b153c513e6",
   "metadata": {},
   "outputs": [],
   "source": [
    "t:3?15t*3\n",
    "t"
   ]
  },
  {
   "cell_type": "markdown",
   "id": "dec08871-a771-4848-8283-f88206f54785",
   "metadata": {},
   "source": [
    "In this state, you can execute Python code as well, but those cells must include `%%python`."
   ]
  },
  {
   "cell_type": "code",
   "execution_count": null,
   "id": "99ba8ac4-4c82-4819-846d-0a835feeb869",
   "metadata": {},
   "outputs": [],
   "source": [
    "%%python\n",
    "for fruit in ['apple', 'orange', 'banana']:\n",
    "    print(fruit)"
   ]
  },
  {
   "cell_type": "markdown",
   "id": "6236ce20-598b-4216-bd53-ad2ccffc539d",
   "metadata": {},
   "source": [
    "If you wish to exit q first mode, simply run the following code and the notebook will revert back to default, Python first execution. "
   ]
  },
  {
   "cell_type": "code",
   "execution_count": null,
   "id": "c989a184-1990-4492-9344-3eeb5d673d36",
   "metadata": {},
   "outputs": [],
   "source": [
    "%%python\n",
    "kx.util.jupyter_qfirst_disable()"
   ]
  },
  {
   "cell_type": "code",
   "execution_count": null,
   "id": "2b2ae217-4c0f-47b1-be8c-1e43b1955c52",
   "metadata": {},
   "outputs": [],
   "source": [
    "for x in range(3):\n",
    "    print(x * 1.5)"
   ]
  },
  {
   "cell_type": "markdown",
   "id": "9a8e9850-2f75-462c-adc0-ebaf24c70744",
   "metadata": {},
   "source": [
    "To enable qfirst mode from q, run the following."
   ]
  },
  {
   "cell_type": "code",
   "execution_count": null,
   "id": "d68fe60b-0abc-4171-b6e2-8487d483f28f",
   "metadata": {},
   "outputs": [],
   "source": [
    "%%q\n",
    ".pykx.enableJupyter()"
   ]
  },
  {
   "cell_type": "markdown",
   "id": "ea6d07a7-3c7c-4eab-8312-4e7800fca766",
   "metadata": {},
   "source": [
    "And to return to Python first execution run the code below."
   ]
  },
  {
   "cell_type": "code",
   "execution_count": null,
   "id": "e5110ccd-d117-45a4-be6a-002ff8627372",
   "metadata": {},
   "outputs": [],
   "source": [
    ".pykx.disableJupyter()"
   ]
  },
  {
   "cell_type": "markdown",
   "id": "080dd085-e54f-478c-a305-eac9f23db020",
   "metadata": {},
   "source": [
    "#### Saving code blocks\n",
    "The `--save` feature allows user to save code in a cell as a q file.\n",
    "\n",
    "To use this feature, include `--save` followed by the `path` of the file.\n",
    "\n",
    "*Note:* If the `q` script errors the file will not be saved.\n",
    "\n",
    "*Note:* Using `--save` on an IPC connection cell will save the file on the remote host."
   ]
  },
  {
   "cell_type": "code",
   "execution_count": null,
   "id": "f69436e6-8ce2-4583-befb-69310be60bae",
   "metadata": {},
   "outputs": [],
   "source": [
    "%%q --save ../../new_file.q\n",
    "vals:til 10\n",
    "vals * 3"
   ]
  },
  {
   "cell_type": "markdown",
   "id": "5f96985a-235b-4d01-bd5d-38ed4122d28e",
   "metadata": {},
   "source": [
    "If the user wants to save a code block without executing them first, they can include `--execute False` at beginning of a cell.\n",
    "\n",
    "*Note:* Nothing is outputted when the code below is ran."
   ]
  },
  {
   "cell_type": "code",
   "execution_count": null,
   "id": "db295305-2006-494d-8f2d-3e81cac0226f",
   "metadata": {},
   "outputs": [],
   "source": [
    "%%q --save ../../new_file.q --execute False\n",
    "new_val:3 6 9\n",
    "new_val"
   ]
  },
  {
   "cell_type": "markdown",
   "id": "ca9cd0ae-e726-48a8-bdc7-9c2df40d95d7",
   "metadata": {},
   "source": [
    "File paths that end in `.q_` will automatically be created as locked files without the need for any additional input."
   ]
  },
  {
   "cell_type": "code",
   "execution_count": null,
   "id": "0251b387-ed38-45d0-acaa-e9bcaaebc3fe",
   "metadata": {},
   "outputs": [],
   "source": [
    "%%q --save ../../new_secretfile.q_\n",
    "pub_vals:til 10\n",
    "secret_func:{x+7}\n",
    "secret_func pub_vals"
   ]
  },
  {
   "cell_type": "code",
   "execution_count": null,
   "id": "3047a416",
   "metadata": {
    "tags": [
     "hide_code"
    ]
   },
   "outputs": [],
   "source": [
    "os.remove('../../new_file.q')\n",
    "os.remove('../../new_secretfile.q_')"
   ]
  }
 ],
 "metadata": {
  "kernelspec": {
   "display_name": "Python 3 (ipykernel)",
   "language": "python",
   "name": "python3"
  },
  "language_info": {
   "codemirror_mode": {
    "name": "ipython",
    "version": 3
   },
   "file_extension": ".py",
   "mimetype": "text/x-python",
   "name": "python",
   "nbconvert_exporter": "python",
   "pygments_lexer": "ipython3",
   "version": "3.10.12"
  }
 },
 "nbformat": 4,
 "nbformat_minor": 5
}
