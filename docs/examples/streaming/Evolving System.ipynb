{
 "cells": [
  {
   "cell_type": "markdown",
   "id": "9ef8ef6d",
   "metadata": {},
   "source": [
    "## Example Summary\n",
    "\n",
    "The following example shows an end-to-end real-time data ingest and persistence framework orchestrated from Python which once running will allow:\n",
    "\n",
    "1. Ingestion of trade and quote data in real-time from a data feed\n",
    "2. Derivation of analytic insights into this data\n",
    "3. Persistence of the raw and derived data at end-of-day\n",
    "4. Querying across multiple real-time and historical process via a password protected gateway\n",
    "5. Subscription to raw datasets for users requiring access to the data in real-time\n",
    "    \n",
    "The full infrastructure we will build will look as follows:\n",
    "\n",
    "<img src=\"./images/evolving-system/full-infra.png\" alt=\"Drawing\" style=\"width: 750px;\"/>\n",
    "\n",
    "For a full breakdown on streaming within PyKX see our documentation [here](https://code.kx.com/pykx/user-guide/advanced/streaming/index.html) to start your journey."
   ]
  },
  {
   "cell_type": "markdown",
   "id": "8345fa7e",
   "metadata": {},
   "source": [
    "#### Initialise PyKX"
   ]
  },
  {
   "cell_type": "code",
   "execution_count": null,
   "id": "a2171df2",
   "metadata": {},
   "outputs": [],
   "source": [
    "import pykx as kx\n",
    "import subprocess"
   ]
  },
  {
   "cell_type": "code",
   "execution_count": null,
   "id": "92e87fee",
   "metadata": {},
   "outputs": [],
   "source": [
    "import os\n",
    "os.environ['QHOME'] = '/usr/local/anaconda3/envs/qenv/q'"
   ]
  },
  {
   "cell_type": "markdown",
   "id": "dd189d64",
   "metadata": {},
   "source": [
    "#### Create a Historical Database\n",
    "\n",
    "To test queries across multiple processes and database types (in-memory vs on-disk) you can generate a Historical Database in the below cell by calling the Python script `generate_hdb.py` available within your zip file."
   ]
  },
  {
   "cell_type": "code",
   "execution_count": null,
   "id": "b1c75f13",
   "metadata": {},
   "outputs": [],
   "source": [
    "with kx.PyKXReimport():\n",
    "    db = subprocess.Popen(\n",
    "        ['python', 'generate_hdb.py',\n",
    "         '--datapoints', '100000',\n",
    "         '--days', '5',\n",
    "         '--name', 'db'],\n",
    "        stdin=subprocess.PIPE,\n",
    "        stdout=None,\n",
    "        stderr=None,\n",
    "    )\n",
    "\n",
    "rc = db.wait()\n",
    "if rc !=0:\n",
    "    db.stdin.close()\n",
    "    db.kill()\n",
    "    raise Exception('Generating HDB failed')\n",
    "else:\n",
    "    db.stdin.close()\n",
    "    db.kill()"
   ]
  },
  {
   "cell_type": "markdown",
   "id": "3b1475ac",
   "metadata": {},
   "source": [
    "#### Define Required Schemas\n",
    "\n",
    "The data published to the real-time system comes in the form of a `trade` and `quote` table with derived analytics stored in an `aggregate` table.\n",
    "\n",
    "This functionality makes use of the `kx.schema.builder` functionality, see [here](https://code.kx.com/pykx/api/schema.md#builder) for full API definition."
   ]
  },
  {
   "cell_type": "code",
   "execution_count": null,
   "id": "454f21b8",
   "metadata": {},
   "outputs": [],
   "source": [
    "trade = kx.schema.builder({\n",
    "    'time': kx.TimespanAtom  , 'sym': kx.SymbolAtom,\n",
    "    'exchange': kx.SymbolAtom, 'sz': kx.LongAtom,\n",
    "    'px': kx.FloatAtom})\n",
    "\n",
    "quote = kx.schema.builder({\n",
    "    'time': kx.TimespanAtom  , 'sym': kx.SymbolAtom,\n",
    "    'exchange': kx.SymbolAtom, 'bid': kx.FloatAtom,\n",
    "    'ask': kx.FloatAtom      , 'bidsz': kx.LongAtom,\n",
    "    'asksz': kx.LongAtom})\n",
    "\n",
    "aggregate = kx.schema.builder({\n",
    "    'time': kx.TimespanAtom, 'sym': kx.SymbolAtom,\n",
    "    'trdvol': kx.FloatAtom , 'maxpx': kx.FloatAtom,\n",
    "    'minpx': kx.FloatAtom  , 'maxbpx': kx.FloatAtom,\n",
    "    'minapx': kx.FloatAtom , 'baspread': kx.FloatAtom})"
   ]
  },
  {
   "cell_type": "markdown",
   "id": "6d0994d1",
   "metadata": {},
   "source": [
    "#### Core Ingest framework\n",
    "\n",
    "The central pillar of the ingestion framework is composed of three connected processes a Tickerplant, Real-Time Database(RDB) and Historical Database(HDB). For this example each of these processes is configured using a single function call to the class [`kx.tick.BASIC`](https://code.kx.com/pykx/api/tick.html#BASIC). A full breakdown of these processes and how they interact can be found [here](https://code.kx.com/pykx/user-guide/advanced/streaming/basic.html). "
   ]
  },
  {
   "cell_type": "markdown",
   "id": "46d81811",
   "metadata": {},
   "source": [
    "<img src=\"./images/evolving-system/simple-no-feed.png\" alt=\"Drawing\" style=\"width: 500px;\"/>\n",
    "\n",
    "The library functions called in this cell are as follows:\n",
    "\n",
    "- [kx.tick.BASIC](https://code.kx.com/pykx/api/tick.html#pykx.tick.BASIC)\n",
    "- [simple.start](https://code.kx.com/pykx/api/tick.html#pykx.tick.BASIC.start)"
   ]
  },
  {
   "cell_type": "code",
   "execution_count": null,
   "id": "3e96731e",
   "metadata": {},
   "outputs": [],
   "source": [
    "simple = kx.tick.BASIC(\n",
    "    tables = {'trade': trade, 'quote': quote, 'aggregate': aggregate},\n",
    "    ports={'tickerplant': 5010, 'rdb': 5012, 'hdb': 5011},\n",
    "    log_directory = 'log',\n",
    "    database = 'db'\n",
    ")\n",
    "simple.start()"
   ]
  },
  {
   "cell_type": "markdown",
   "id": "c839f02d",
   "metadata": {},
   "source": [
    "---"
   ]
  },
  {
   "cell_type": "markdown",
   "id": "581ea672",
   "metadata": {},
   "source": [
    "### Add Data Feed and Python Subscriber\n",
    "\n",
    "The following section adds a data-feed which publishes data to the trade and quote tables and a subscriber which validates that the data is available to subscribers.\n",
    "\n",
    "<img src=\"./images/evolving-system/feed-sub.png\" alt=\"Drawing\" style=\"width: 750px;\"/>\n",
    "\n",
    "Firstly let's generate a data feed which publishes trade and quote messages to the Tickerplant on port 5010."
   ]
  },
  {
   "cell_type": "code",
   "execution_count": null,
   "id": "d5b1ee89",
   "metadata": {},
   "outputs": [],
   "source": [
    "with kx.PyKXReimport():\n",
    "    feed = subprocess.Popen(\n",
    "        ['python', 'feed.py'],\n",
    "        stdin=subprocess.PIPE,\n",
    "        stdout=None,\n",
    "        stderr=None,\n",
    "    )"
   ]
  },
  {
   "cell_type": "markdown",
   "id": "d810ed9c",
   "metadata": {},
   "source": [
    "Now that data is being published to our system you can generate a subscribing process to get access to the latest trade information printing the number of datapoints which have been processed."
   ]
  },
  {
   "cell_type": "code",
   "execution_count": null,
   "id": "5f4fce8f",
   "metadata": {},
   "outputs": [],
   "source": [
    "with kx.PyKXReimport():\n",
    "    subscriber = subprocess.Popen(\n",
    "        ['python', 'subscriber.py'],\n",
    "        stdin=subprocess.PIPE,\n",
    "        stdout=None,\n",
    "        stderr=None,\n",
    "    )"
   ]
  },
  {
   "cell_type": "markdown",
   "id": "3341000b",
   "metadata": {},
   "source": [
    "The above cell provides real-time information about the number of messages that have been processed. Printing to standard out in later cells will introduce noise that may be unwanted, you can stop printing your subscriber by running the following cell"
   ]
  },
  {
   "cell_type": "code",
   "execution_count": null,
   "id": "cca35b9b",
   "metadata": {},
   "outputs": [],
   "source": [
    "subscriber.stdin.close()\n",
    "subscriber.kill()"
   ]
  },
  {
   "cell_type": "markdown",
   "id": "cc6a7953",
   "metadata": {},
   "source": [
    "---"
   ]
  },
  {
   "cell_type": "markdown",
   "id": "b9ed4a97",
   "metadata": {},
   "source": [
    "### Add Chained Tickerplant and Real-Time Event Processor\n",
    "\n",
    "As highlighted [here](https://code.kx.com/pykx/user-guide/advanced/streaming/rta.html) the application of real-time analytics on your data can result in issues with slow subscribers which can be potentially lead to data corruption and loss.\n",
    "\n",
    "A common usage pattern to avoid this is the addition of a [`chained tickerplant`](https://code.kx.com/pykx/user-guide/advanced/streaming/rta.html#protecting-data-ingest). In the below cells we will build a chained tickerplant which subscribes to the primary data ingestion pipeline and to which a real-time analytic process subscribes creating analytics which join information from the trade and quote table to derive analytic insights.\n",
    "\n",
    "<img src=\"./images/evolving-system/analytic-addition.png\" alt=\"Drawing\" style=\"width: 500px;\"/>\n",
    "\n",
    "The library functions called in this cell are as follows:\n",
    "\n",
    "- [kx.tick.TICK](https://code.kx.com/pykx/api/tick.html#pykx.tick.TICK)\n",
    "- [chained_tp.start](https://code.kx.com/pykx/api/tick.html#pykx.tick.TICK.start)"
   ]
  },
  {
   "cell_type": "code",
   "execution_count": null,
   "id": "6c2a1503",
   "metadata": {},
   "outputs": [],
   "source": [
    "chained_tp = kx.tick.TICK(port=5013, chained=True)\n",
    "chained_tp.start({'tickerplant': 'localhost:5010'})"
   ]
  },
  {
   "cell_type": "markdown",
   "id": "40bb7526",
   "metadata": {},
   "source": [
    "Now that your chained tickerplant is started we can initialize a real-time processor which subscribes to `trade` and `quote` data\n",
    "\n",
    "The library functions called in this cell are as follows:\n",
    "\n",
    "- [kx.tick.RTP](https://code.kx.com/pykx/api/tick.html#pykx.tick.RTP)"
   ]
  },
  {
   "cell_type": "code",
   "execution_count": null,
   "id": "4b73aa78",
   "metadata": {},
   "outputs": [],
   "source": [
    "rte = kx.tick.RTP(port=5014, subscriptions = ['trade', 'quote'], vanilla=False)"
   ]
  },
  {
   "cell_type": "markdown",
   "id": "75588b4d",
   "metadata": {},
   "source": [
    "In our real-time processor we are looking to achieve three things:\n",
    "\n",
    "1. Filter out any messages from tables other than `trade`/`quote` if received\n",
    "2. Apply a post-processing function which derives aggregate information about all `trade`/`quote` data seen in the current day to keep up-to-date information about the market.\n",
    "3. Publish the aggregate data back to the primary tickerplant on port 5010 to ensure that the information is persisted. "
   ]
  },
  {
   "cell_type": "code",
   "execution_count": null,
   "id": "43bdeea2",
   "metadata": {},
   "outputs": [],
   "source": [
    "def pre_processor(table, message):\n",
    "    if table in ['trade', 'quote']:\n",
    "        return message\n",
    "    return None\n",
    "\n",
    "# Define a Python post-processing function which publishes back to\n",
    "# the tickerplant\n",
    "def post_processor(table, message):\n",
    "    tradeagg = kx.q.qsql.select('trade',\n",
    "                                 columns={'trdvol': 'sum px*sz',\n",
    "                                          'maxpx': 'max px',\n",
    "                                          'minpx': 'min px'},\n",
    "                                 by='sym')\n",
    "    quoteagg = kx.q.qsql.select('quote',\n",
    "                                 columns={'maxbpx': 'max bid',\n",
    "                                          'minapx': 'min ask',\n",
    "                                          'baspread': 'max[bid]-min[ask]'},\n",
    "                                 by='sym')\n",
    "    tab = tradeagg.merge(quoteagg, how='left', q_join=True).reset_index()\n",
    "    tab['time'] = kx.TimespanAtom('now')\n",
    "    aggregate = kx.q.xcols(['time', 'sym'], tab)\n",
    "    kx.q['aggregate'] = aggregate\n",
    "    with kx.SyncQConnection(port=5010, wait=False, no_ctx=True) as q:\n",
    "        q('.u.upd', 'aggregate', aggregate._values)\n",
    "    return None"
   ]
  },
  {
   "cell_type": "markdown",
   "id": "bd611d83",
   "metadata": {},
   "source": [
    "Now that the functions to be used are defined can do the following:\n",
    "\n",
    "1. Specify that the process requires the Python libraries `pykx` to be available as `kx`\n",
    "2. Register the pre and post processing functions\n",
    "\n",
    "The library functions called in this cell are as follows:\n",
    "\n",
    "- [rte.libraries](https://code.kx.com/pykx/api/tick.html#pykx.tick.RTP.start)\n",
    "- [rte.pre_processor](https://code.kx.com/pykx/api/tick.html#pykx.tick.RTP.pre_processor)\n",
    "- [rte.post_processor](https://code.kx.com/pykx/api/tick.html#pykx.tick.RTP.post_processor)"
   ]
  },
  {
   "cell_type": "code",
   "execution_count": null,
   "id": "6b1f5d07",
   "metadata": {},
   "outputs": [],
   "source": [
    "rte.libraries({'kx': 'pykx'})\n",
    "rte.pre_processor(pre_processor)\n",
    "rte.post_processor(post_processor)"
   ]
  },
  {
   "cell_type": "markdown",
   "id": "8d19367e",
   "metadata": {},
   "source": [
    "Finally we can  start the real-time processor listening for messages from the chained-tickerplant on port 5013\n",
    "\n",
    "The library functions called in this cell are as follows:\n",
    "\n",
    "- [rte.start](https://code.kx.com/pykx/api/tick.html#pykx.tick.RTP.start)"
   ]
  },
  {
   "cell_type": "code",
   "execution_count": null,
   "id": "8991f86b",
   "metadata": {},
   "outputs": [],
   "source": [
    "rte.start({'tickerplant': 'localhost:5013'})"
   ]
  },
  {
   "cell_type": "markdown",
   "id": "416146aa",
   "metadata": {},
   "source": [
    "While the above steps allow this processing to be possible it can all be configured in two steps when setting up your real-time processor. This is outlined [here](https://code.kx.com/pykx/user-guide/advanced/streaming/rta.html#running-all-setup-at-once)."
   ]
  },
  {
   "cell_type": "markdown",
   "id": "9b7856bb",
   "metadata": {},
   "source": [
    "#### Add a Query API across real-time and historical data\n",
    "\n",
    "The following section adds query APIs to the existing real-time processor and historical database processes which in each case queries the trade table to calculate the the number of trades for a specific symbol. How this is done varies slightly for each process type:\n",
    "\n",
    "- Real-Time Processor: Query the in-memory table using SQL\n",
    "- Historical Database: Query using QSQL the on-disk database limiting the search to N-Days in the past"
   ]
  },
  {
   "cell_type": "code",
   "execution_count": null,
   "id": "ceb4b05f",
   "metadata": {},
   "outputs": [],
   "source": [
    "def RTE_query(sym):\n",
    "    return kx.q.sql('select count(sym) from trade where sym=$1', sym)\n",
    "\n",
    "def HDB_query(sym, n):\n",
    "    today = kx.DateAtom('today')\n",
    "    return kx.q.qsql.select('trade', {'sym':'count sym'}, where = [f'date in({today-n};{today})', f'sym like \"{sym}\"'])"
   ]
  },
  {
   "cell_type": "markdown",
   "id": "4c69919f",
   "metadata": {},
   "source": [
    "The library functions called in the following cells are:\n",
    "\n",
    "- [rte.register_api](https://code.kx.com/pykx/api/tick.html#pykx.tick.STREAMING.register_api)\n",
    "- [simple.hdb.libraries](https://code.kx.com/pykx/api/tick.html#pykx.tick.STREAMING.libraries)\n",
    "- [simple.hdb.register_api](https://code.kx.com/pykx/api/tick.html#pykx.tick.STREAMING.register_api)"
   ]
  },
  {
   "cell_type": "code",
   "execution_count": null,
   "id": "82071757",
   "metadata": {},
   "outputs": [],
   "source": [
    "rte.register_api('custom_rte', RTE_query)"
   ]
  },
  {
   "cell_type": "code",
   "execution_count": null,
   "id": "998906fe",
   "metadata": {},
   "outputs": [],
   "source": [
    "simple.hdb.libraries({'kx': 'pykx'})\n",
    "simple.hdb.register_api('custom_hdb', HDB_query)"
   ]
  },
  {
   "cell_type": "markdown",
   "id": "b2875f05",
   "metadata": {},
   "source": [
    "### Add a gateway to allow querying across the real-time and historical datasets\n",
    "\n",
    "As a final step we will add a gateway process to which all users querying the system will connect and will allow data to be queried from both the real-time and historical datasets\n",
    "\n",
    "<img src=\"./images/evolving-system/gateway.png\" alt=\"Drawing\" style=\"width: 750px;\"/>\n"
   ]
  },
  {
   "cell_type": "markdown",
   "id": "52664d1a",
   "metadata": {},
   "source": [
    "The following cell defines a function which can call named functions on the `custom_rte` and `custom_hdb` defined on ports named at initialization of the gateway below."
   ]
  },
  {
   "cell_type": "code",
   "execution_count": null,
   "id": "de4e6d52",
   "metadata": {},
   "outputs": [],
   "source": [
    "def gateway_function(sym, n_days=0):\n",
    "    rte_data = gateway.call_port('rte', 'custom_rte', sym)\n",
    "    if n_days>0:\n",
    "        hdb_data = gateway.call_port('hdb', 'custom_hdb', sym, n_days)\n",
    "    else:\n",
    "        hdb_data = kx.Table(data={'sym': [0]})\n",
    "    return rte_data + hdb_data"
   ]
  },
  {
   "cell_type": "markdown",
   "id": "658af4c7",
   "metadata": {},
   "source": [
    "Additionally we can define a function which specifies the username/password information required by users querying the gateway."
   ]
  },
  {
   "cell_type": "code",
   "execution_count": null,
   "id": "9b299983",
   "metadata": {},
   "outputs": [],
   "source": [
    "def user_validation(username, password):\n",
    "    if username == 'test_user':\n",
    "        return True\n",
    "    return False"
   ]
  },
  {
   "cell_type": "markdown",
   "id": "0c85449b",
   "metadata": {},
   "source": [
    "The library functions called in the following cells are:\n",
    "\n",
    "- [kx.tick.GATEWAY](https://code.kx.com/pykx/api/tick.html#pykx.tick.GATEWAY)\n",
    "- [gateway.start](https://code.kx.com/pykx/api/tick.html#pykx.tick.GATEWAY.start)"
   ]
  },
  {
   "cell_type": "code",
   "execution_count": null,
   "id": "59f76ae4",
   "metadata": {},
   "outputs": [],
   "source": [
    "gateway = kx.tick.GATEWAY(\n",
    "    port=5015,\n",
    "    libraries = {'kx': 'pykx'},\n",
    "    apis = {'gateway_function': gateway_function},\n",
    "    connections={'hdb': 'localhost:5011', 'rte': 'localhost:5014'},\n",
    "    connection_validator = user_validation\n",
    ")\n",
    "gateway.start()"
   ]
  },
  {
   "cell_type": "markdown",
   "id": "e291f3b0",
   "metadata": {},
   "source": [
    "We can now emulate a user querying the gateway as follows"
   ]
  },
  {
   "cell_type": "code",
   "execution_count": null,
   "id": "797dc756",
   "metadata": {},
   "outputs": [],
   "source": [
    "with kx.SyncQConnection(port=5015, no_ctx=True, username='test_user') as q:\n",
    "    data = q('gateway_function', 'AAPL', 0)"
   ]
  },
  {
   "cell_type": "code",
   "execution_count": null,
   "id": "3bba8cce",
   "metadata": {},
   "outputs": [],
   "source": [
    "data"
   ]
  },
  {
   "cell_type": "markdown",
   "id": "06667df5",
   "metadata": {},
   "source": [
    "### Infrastructure shutdown\n",
    "\n",
    "To finish this notebook we can finally stop each of the specified processes and the data feed established."
   ]
  },
  {
   "cell_type": "code",
   "execution_count": null,
   "id": "69c4c1e7",
   "metadata": {},
   "outputs": [],
   "source": [
    "feed.stdin.close()\n",
    "feed.kill()"
   ]
  },
  {
   "cell_type": "markdown",
   "id": "daa51d16",
   "metadata": {},
   "source": [
    "The library functions called in the following cells are:\n",
    "\n",
    "- [rte.stop](https://code.kx.com/pykx/api/tick.html#pykx.tick.STREAMING.stop)\n",
    "- [chained_tp.stop](https://code.kx.com/pykx/api/tick.html#pykx.tick.STREAMING.stop)\n",
    "- [gateway.stop](https://code.kx.com/pykx/api/tick.html#pykx.tick.STREAMING.stop)\n",
    "- [simple.stop](https://code.kx.com/pykx/api/tick.html#pykx.tick.BASIC.stop)"
   ]
  },
  {
   "cell_type": "code",
   "execution_count": null,
   "id": "5725a693",
   "metadata": {},
   "outputs": [],
   "source": [
    "rte.stop()\n",
    "chained_tp.stop()\n",
    "simple.stop()\n",
    "gateway.stop()"
   ]
  }
 ],
 "metadata": {
  "kernelspec": {
   "display_name": "Python 3 (ipykernel)",
   "language": "python",
   "name": "python3"
  },
  "language_info": {
   "codemirror_mode": {
    "name": "ipython",
    "version": 3
   },
   "file_extension": ".py",
   "mimetype": "text/x-python",
   "name": "python",
   "nbconvert_exporter": "python",
   "pygments_lexer": "ipython3",
   "version": "3.12.3"
  }
 },
 "nbformat": 4,
 "nbformat_minor": 5
}
