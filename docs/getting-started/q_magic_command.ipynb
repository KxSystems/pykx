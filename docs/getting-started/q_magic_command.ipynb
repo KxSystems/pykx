{
 "cells": [
  {
   "cell_type": "code",
   "execution_count": null,
   "id": "d4d3694e",
   "metadata": {},
   "outputs": [],
   "source": [
    "import os\n",
    "os.environ['PYKX_Q_LOADED_MARKER'] = '' # Only used here for running Notebook under mkdocs-jupyter during document generation.\n",
    "import pykx as kx"
   ]
  },
  {
   "cell_type": "markdown",
   "id": "9c520c21",
   "metadata": {},
   "source": [
    "####  Create the external q process\n",
    "To run this example, the Python code in the following cell will do the equivalent to executing the following in a terminal:\n",
    "\n",
    "```\n",
    "$ q -p 5001\n",
    "```"
   ]
  },
  {
   "cell_type": "code",
   "execution_count": null,
   "id": "57e66aca",
   "metadata": {},
   "outputs": [],
   "source": [
    "import subprocess\n",
    "import time\n",
    "proc = subprocess.Popen(\n",
    "    ('q', '-p', '5001')\n",
    ")\n",
    "time.sleep(5)"
   ]
  },
  {
   "cell_type": "markdown",
   "id": "bc7219fb",
   "metadata": {},
   "source": [
    "####  Executing against Embedded q\n",
    "A cell beginning with `%%q` will execute q within `PyKX`'s `EmbeddedQ` module."
   ]
  },
  {
   "cell_type": "code",
   "execution_count": null,
   "id": "ff309a5a",
   "metadata": {},
   "outputs": [],
   "source": [
    "%%q\n",
    "til 10"
   ]
  },
  {
   "cell_type": "markdown",
   "metadata": {},
   "source": [
    "`print` is the default method called on returned objects. To use `display` you can instead pass `--display`"
   ]
  },
  {
   "cell_type": "code",
   "execution_count": null,
   "metadata": {},
   "outputs": [],
   "source": [
    "%%q\n",
    "([] a: 1 2 3)"
   ]
  },
  {
   "cell_type": "code",
   "execution_count": null,
   "metadata": {},
   "outputs": [],
   "source": [
    "%%q --display\n",
    "([] a: 1 2 3)"
   ]
  },
  {
   "cell_type": "markdown",
   "id": "89ec26e4",
   "metadata": {},
   "source": [
    "####  Executing against an external q process over IPC\n",
    "\n",
    "Connection information can also be included after the `%%q` to connect to a remote `q` process over\n",
    "IPC.\n",
    "\n",
    "Here is the list of currently supported connection parameters.\n",
    "If they specify a type a second value is expected to follow them to be used as the parameter.\n",
    "If no type follows them they can be used as a stand alone flag.\n",
    "\n",
    "```\n",
    "--host: A string object denoting the host to connect to\n",
    "--port: An int object denoting the port to connect over\n",
    "--user: A str object denoting the username to use when connecting\n",
    "--password: A str object denoting the password to use when connecting\n",
    "--timeout: A float object denoting the time in seconds before the query\n",
    "      times out, defaults to no timeout\n",
    "--nolarge: Disable messages over 2GB being sent / received\n",
    "--tls: Use a tls connection\n",
    "--unix: Use a unix connection\n",
    "--noctx: Disable the context interface\n",
    "```\n",
    "\n",
    "Connect to a q server running on `localhost` at port `5001` as `user` using password `password`\n",
    "and disable the context interface."
   ]
  },
  {
   "cell_type": "code",
   "execution_count": null,
   "id": "1faca1e1",
   "metadata": {},
   "outputs": [],
   "source": [
    "%%q --host localhost --port 5001 --user user --pass password --noctx\n",
    "til 10"
   ]
  },
  {
   "cell_type": "markdown",
   "id": "f046ebb6",
   "metadata": {},
   "source": [
    "All connection arguments are optional with the exception of the `--port` argument. If `--host` is not provided `localhost` will be used as the default host."
   ]
  },
  {
   "cell_type": "code",
   "execution_count": null,
   "id": "615d7d2e",
   "metadata": {},
   "outputs": [],
   "source": [
    "%%q --port 5001\n",
    "tab:([]a:1000?1000; b:1000?500.0; c:1000?`AAPL`MSFT`GOOG);"
   ]
  },
  {
   "cell_type": "markdown",
   "id": "d756f342",
   "metadata": {},
   "source": [
    "It is possible to execute `q` code spanning multiple lines."
   ]
  },
  {
   "cell_type": "code",
   "execution_count": null,
   "id": "c739a80a",
   "metadata": {
    "scrolled": true
   },
   "outputs": [],
   "source": [
    "%%q --port 5001\n",
    "afunc: {[x; y]\n",
    "  x + y  \n",
    "  };\n",
    "afunc[0; 1]\n",
    "afunc[2; 3]"
   ]
  },
  {
   "cell_type": "markdown",
   "id": "2905895e",
   "metadata": {},
   "source": [
    "####  Using the SQL interface\n",
    "The `s)` syntax to run SQL queries against local tables within the `q` process.\n",
    "\n",
    "Note: The `s.k_` library must be loaded first to use the SQL interface"
   ]
  },
  {
   "cell_type": "code",
   "execution_count": null,
   "id": "56220bb5",
   "metadata": {
    "scrolled": true
   },
   "outputs": [],
   "source": [
    "%%q --port 5001\n",
    "\\l s.k_\n",
    "s) select * from tab where a>500 and b<250.0 limit 5"
   ]
  },
  {
   "cell_type": "markdown",
   "id": "da906296",
   "metadata": {},
   "source": [
    "####  Using namespaces\n",
    "You can also use `q` namespaces, and switch between them using `\\d`.\n",
    "\n",
    "Note: The namespace is reset back to the base namespace `.` between cells."
   ]
  },
  {
   "cell_type": "code",
   "execution_count": null,
   "id": "502af937",
   "metadata": {},
   "outputs": [],
   "source": [
    "%%q --port 5001\n",
    "\\d .example\n",
    "f: {[x] til x};"
   ]
  },
  {
   "cell_type": "code",
   "execution_count": null,
   "id": "58d0c7c9",
   "metadata": {},
   "outputs": [],
   "source": [
    "%%q --port 5001\n",
    "\\d\n",
    ".example.f[10]"
   ]
  },
  {
   "cell_type": "code",
   "execution_count": null,
   "id": "334d0ac5",
   "metadata": {},
   "outputs": [],
   "source": [
    "# Shutdown the q process we were connected to for the IPC demo\n",
    "proc.kill()"
   ]
  }
 ],
 "metadata": {
  "kernelspec": {
   "display_name": "Python 3 (ipykernel)",
   "language": "python",
   "name": "python3"
  },
  "language_info": {
   "codemirror_mode": {
    "name": "ipython",
    "version": 3
   },
   "file_extension": ".py",
   "mimetype": "text/x-python",
   "name": "python",
   "nbconvert_exporter": "python",
   "pygments_lexer": "ipython3",
   "version": "3.10.5"
  }
 },
 "nbformat": 4,
 "nbformat_minor": 5
}
