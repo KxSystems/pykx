{
 "cells": [
  {
   "cell_type": "markdown",
   "id": "5c1e9b66",
   "metadata": {},
   "source": [
    "# Jupyter q Magic Command Notebook\n",
    "\n",
    "_The purpose of this notebook is to exemplify how to use the q Magic command in a Jupyter notebook._\n",
    "\n",
    "\n",
    "The Jupyter q magic command in PyKX allows you to execute q code within a Jupyter notebook. It provides seamless integration with the q programming language.\n",
    "\n",
    "This example Notebook has the following sections:\n",
    "\n",
    "1. [Import PyKX](#1-import-pykx)\n",
    "1. [Create the external q process](#2-create-the-external-q-process)\n",
    "1. [Execute against Embedded q](#3-execute-against-embedded-q)\n",
    "1. [SQL interface](#4-sql-interface)\n",
    "1. [q namespaces](#5-q-namespaces)\n",
    "1. [(Advanced) q over IPC](#6-advanced-q-over-ipc)"
   ]
  },
  {
   "cell_type": "code",
   "execution_count": null,
   "id": "2f25482a",
   "metadata": {
    "tags": [
     "hide_code"
    ]
   },
   "outputs": [],
   "source": [
    "import os\n",
    "os.environ['IGNORE_QHOME'] = '1' # Ignore symlinking PyKX q libraries to QHOME\n",
    "os.environ['PYKX_Q_LOADED_MARKER'] = '' # Only used here for running Notebook under mkdocs-jupyter during document generation."
   ]
  },
  {
   "cell_type": "markdown",
   "id": "688b9ed0",
   "metadata": {},
   "source": [
    "## 1. Import PyKX\n",
    "\n",
    "To run this example, first import the PyKX library:"
   ]
  },
  {
   "cell_type": "code",
   "execution_count": null,
   "id": "d4d3694e",
   "metadata": {},
   "outputs": [],
   "source": [
    "import pykx as kx"
   ]
  },
  {
   "cell_type": "markdown",
   "id": "9c520c21",
   "metadata": {},
   "source": [
    "##  2. Create the external q process\n",
    "\n",
    "You can run an external q process by using the following Python code:"
   ]
  },
  {
   "cell_type": "code",
   "execution_count": null,
   "id": "57e66aca",
   "metadata": {},
   "outputs": [],
   "source": [
    "import subprocess\n",
    "import time\n",
    "\n",
    "try:\n",
    "    with kx.PyKXReimport():\n",
    "        proc = subprocess.Popen(\n",
    "            ('q', '-p', '5000')\n",
    "        )\n",
    "    time.sleep(2)\n",
    "except:\n",
    "    raise kx.QError('Unable to create q process on port 5000')"
   ]
  },
  {
   "cell_type": "markdown",
   "id": "1b318ba2",
   "metadata": {},
   "source": [
    "\n",
    "Or execute this command in a terminal:\n",
    "\n",
    "```sh\n",
    "$ q -p 5000\n",
    "```\n"
   ]
  },
  {
   "cell_type": "markdown",
   "id": "bc7219fb",
   "metadata": {},
   "source": [
    "##  3. Execute against Embedded q\n",
    "\n",
    "To execute q code within PyKX's `EmbeddedQ` module, type `%%q` at the beginning of the cell:"
   ]
  },
  {
   "cell_type": "code",
   "execution_count": null,
   "id": "ff309a5a",
   "metadata": {},
   "outputs": [],
   "source": [
    "%%q\n",
    "til 10"
   ]
  },
  {
   "cell_type": "markdown",
   "id": "89ec26e4",
   "metadata": {},
   "source": [
    "After `%%q` you can further add two execution options:\n",
    "\n",
    "| **Execution option** | **Description**     |\n",
    "|---------------|----------------------------------------------------|\n",
    "| --debug       | Prints the q backtrace before raising a QError if the cell gives an error.|\n",
    "| --display     | Calls display rather than the default print on returned objects.|"
   ]
  },
  {
   "cell_type": "code",
   "execution_count": null,
   "id": "f9ed8310",
   "metadata": {},
   "outputs": [],
   "source": [
    "%%q\n",
    "([] a: 1 2 3)"
   ]
  },
  {
   "cell_type": "code",
   "execution_count": null,
   "id": "daa9a196",
   "metadata": {},
   "outputs": [],
   "source": [
    "%%q --display\n",
    "([] a: 1 2 3)"
   ]
  },
  {
   "cell_type": "markdown",
   "id": "2905895e",
   "metadata": {},
   "source": [
    "##  4. SQL interface\n",
    "\n",
    "The `s)` syntax runs SQL queries against local tables within the `q` process.\n",
    "\n",
    "Note: To use the SQL interface, first you need to load the `s.k_` library."
   ]
  },
  {
   "cell_type": "code",
   "execution_count": null,
   "id": "56220bb5",
   "metadata": {
    "scrolled": true
   },
   "outputs": [],
   "source": [
    "%%q\n",
    "\\l s.k_\n",
    "tab:([]a:1000?1000; b:1000?500.0; c:1000?`AAPL`MSFT`GOOG);\n",
    "s) select * from tab where a>500 and b<250.0 limit 5"
   ]
  },
  {
   "cell_type": "markdown",
   "id": "da906296",
   "metadata": {},
   "source": [
    "##  5. q namespaces\n",
    "\n",
    "You can use `q` namespaces, and switch between them with `\\d`.\n",
    "\n",
    "Note: The namespace is reset back to the base namespace `.` between cells."
   ]
  },
  {
   "cell_type": "code",
   "execution_count": null,
   "id": "502af937",
   "metadata": {},
   "outputs": [],
   "source": [
    "%%q\n",
    "\\d .example\n",
    "f: {[x] til x};"
   ]
  },
  {
   "cell_type": "code",
   "execution_count": null,
   "id": "58d0c7c9",
   "metadata": {},
   "outputs": [],
   "source": [
    "%%q\n",
    "\\d\n",
    ".example.f[10]"
   ]
  },
  {
   "cell_type": "markdown",
   "id": "52ca850e",
   "metadata": {},
   "source": [
    "##  6. (Advanced) q over IPC\n",
    "\n",
    "After `%%q` you can include connection information, if you wish to connect to a remote `q` process over IPC. \n",
    "\n",
    "The list of supported connection parameters is below. The rule is:\n",
    "\n",
    "- If they have a type, it must be followed by a second value/parameter.\n",
    "- If there's no type after them, you can use them as a standalone flag.\n",
    "\n",
    "| **Parameter** &nbsp; &nbsp; &nbsp; &nbsp; &nbsp; &nbsp; &nbsp; &nbsp; &nbsp; &nbsp; &nbsp; &nbsp;| **Object type and description**|\n",
    "|-----------------------|-----------------------------------------------|\n",
    "|--host                 | (string) The host to connect to. |\n",
    "|--port                 | (integer) The port to connect over. |\n",
    "|--user                 | (string) The username to use when connecting. |\n",
    "|--password             | (string) The password to use when connecting. |\n",
    "|--timeout              | (float) The time in seconds before the query times out. Defaults to no timeout.|\n",
    "|--nolarge              | Disable messages over 2GB being sent / received. |\n",
    "|--tls                  | Use a tls connection.                            |\n",
    "|--unix                 | Use a unix connection.                           |\n",
    "|--reconnection_attempts| (integer) How many reconnection attempts to make.|\n",
    "|--noctx                | Disable the context interface.                   |\n",
    "\n",
    "Connect to a q server running on `localhost` at port `5000` as `user` using password `password`\n",
    "and disable the context interface."
   ]
  },
  {
   "cell_type": "code",
   "execution_count": null,
   "id": "a282e069",
   "metadata": {},
   "outputs": [],
   "source": [
    "%%q --host localhost --port 5000 --user user --pass password --noctx\n",
    "til 10"
   ]
  },
  {
   "cell_type": "markdown",
   "id": "a1fe3b8e",
   "metadata": {},
   "source": [
    "All connection arguments are optional, except the `--port` argument. If `--host` is not provided `localhost` is the default host."
   ]
  },
  {
   "cell_type": "code",
   "execution_count": null,
   "id": "18d8416b",
   "metadata": {},
   "outputs": [],
   "source": [
    "%%q --port 5000\n",
    "tab:([]a:1000?1000; b:1000?500.0; c:1000?`AAPL`MSFT`GOOG);"
   ]
  },
  {
   "cell_type": "markdown",
   "id": "e143c382",
   "metadata": {},
   "source": [
    "Note that it's possible to execute `q` code spanning multiple lines:"
   ]
  },
  {
   "cell_type": "code",
   "execution_count": null,
   "id": "ccb197e8",
   "metadata": {},
   "outputs": [],
   "source": [
    "%%q --port 5000\n",
    "afunc: {[x; y]\n",
    "  x + y  \n",
    "  };\n",
    "afunc[0; 1]\n",
    "afunc[2; 3]"
   ]
  },
  {
   "cell_type": "code",
   "execution_count": null,
   "id": "c12a7d38",
   "metadata": {},
   "outputs": [],
   "source": [
    "# Shutdown the q process we were connected to for the IPC demo\n",
    "proc.kill()"
   ]
  }
 ],
 "metadata": {
  "kernelspec": {
   "display_name": "Python 3 (ipykernel)",
   "language": "python",
   "name": "python3"
  },
  "language_info": {
   "codemirror_mode": {
    "name": "ipython",
    "version": 3
   },
   "file_extension": ".py",
   "mimetype": "text/x-python",
   "name": "python",
   "nbconvert_exporter": "python",
   "pygments_lexer": "ipython3",
   "version": "3.10.12"
  }
 },
 "nbformat": 4,
 "nbformat_minor": 5
}
