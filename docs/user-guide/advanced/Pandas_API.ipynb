{
 "cells": [
  {
   "cell_type": "markdown",
   "id": "dfa26ef1",
   "metadata": {},
   "source": [
    "# Pandas API\n",
    "The purpose of this notebook is to provide a demonstration of the capabilities of the pandas like API for PyKX Table objects.\n",
    "\n",
    "To follow along please download this notebook using the following <a href=\"./Pandas_API.ipynb\" download>link</a>.\n",
    "\n",
    "This demonstration will outline the following\n",
    "\n",
    "1. [Constructing Tables](#Constructing-Tables)\n",
    "2. [Metadata](#Metadata)\n",
    "3. [Querying and Data Interrogation](#Querying-and-Data-Interrogation)\n",
    "4. [Data Joins/Merging](#Data-Joins/Merging)\n",
    "5. [Analytic Functionality](#Analytic-functionality)\n",
    "6. [Data Preprocessing](#Data-Preprocessing)"
   ]
  },
  {
   "cell_type": "code",
   "execution_count": null,
   "id": "5b2f27e1",
   "metadata": {
    "tags": [
     "hide_code"
    ]
   },
   "outputs": [],
   "source": [
    "import os\n",
    "os.environ['IGNORE_QHOME'] = '1' # Ignore symlinking PyKX q libraries to QHOME \n",
    "os.environ['PYKX_Q_LOADED_MARKER'] = '' # Only used here for running Notebook under mkdocs-jupyter during document generation.\n"
   ]
  },
  {
   "cell_type": "code",
   "execution_count": null,
   "id": "356b337c",
   "metadata": {},
   "outputs": [],
   "source": [
    "import pykx as kx\n",
    "import numpy as np\n",
    "import pandas as pd\n",
    "kx.q.system.console_size = [10, 80]"
   ]
  },
  {
   "cell_type": "markdown",
   "id": "b5c9b878",
   "metadata": {},
   "source": [
    "## Constructing Tables"
   ]
  },
  {
   "cell_type": "markdown",
   "id": "15884a6f",
   "metadata": {},
   "source": [
    "### Table\n",
    "\n",
    "Create a table from a list of rows or by converting a Python dictionary object\n",
    "\n",
    "**Parameters:**\n",
    "\n",
    "| Name    | Type               | Description                                                            | Default  |\n",
    "| :-----: | :----------------: | :--------------------------------------------------------------------- | :------: |\n",
    "| x       | Union[list, array] | An array like object containing the contents of each row of the table. | None     |\n",
    "| data    | dict               | A dictionary to be converted into a Table object.                      | None     |\n",
    "| columns | list[str]          | A list of column names to use when constructing from an array of rows. | None     |\n",
    "\n",
    "**Returns:**\n",
    "\n",
    "| Type  | Description                         |\n",
    "| :---: | :---------------------------------- |\n",
    "| Table | The newly constructed table object. |\n",
    "\n",
    "**Examples:**\n",
    "\n",
    "Create a table from a dictionary object."
   ]
  },
  {
   "cell_type": "code",
   "execution_count": null,
   "id": "a3d8e590",
   "metadata": {},
   "outputs": [],
   "source": [
    "kx.Table(data={'x': list(range(10)), 'y': [10 - x for x in range(10)]})"
   ]
  },
  {
   "cell_type": "markdown",
   "id": "1967dbd6",
   "metadata": {},
   "source": [
    "Create a Table from an array like object."
   ]
  },
  {
   "cell_type": "code",
   "execution_count": null,
   "id": "b8c67d04",
   "metadata": {},
   "outputs": [],
   "source": [
    "kx.Table([[0, 1], [2, 3], [4, 5], [6, 7], [8, 9]])"
   ]
  },
  {
   "cell_type": "markdown",
   "id": "b59c678b",
   "metadata": {},
   "source": [
    "Create a Table from an array like object and provide names for the columns to use."
   ]
  },
  {
   "cell_type": "code",
   "execution_count": null,
   "id": "6469f77e",
   "metadata": {},
   "outputs": [],
   "source": [
    "kx.Table([[0, 1, 2], [3, 4, 5], [6, 7, 8], [9, 10, 11]], columns=['x', 'y', 'z'])"
   ]
  },
  {
   "cell_type": "markdown",
   "id": "a3074cc5",
   "metadata": {},
   "source": [
    "### Keyed Table\n",
    "\n",
    "Create a keyed table from a list of rows or by converting a Python dictionary object\n",
    "\n",
    "**Parameters:**\n",
    "\n",
    "| Name    | Type               | Description                                                            | Default  |\n",
    "| :-----: | :----------------: | :--------------------------------------------------------------------- | :------: |\n",
    "| x       | Union[list, array] | An array like object containing the contents of each row of the table. | None     |\n",
    "| data    | dict               | A dictionary to be converted into a Table object.                      | None     |\n",
    "| columns | list[str]          | A list of column names to use when constructing from an array of rows. | None     |\n",
    "| index   | list[Any]          | An array like object to use as the index column of the table.          | None     |\n",
    "\n",
    "**Returns:**\n",
    "\n",
    "| Type       | Description                               |\n",
    "| :--------: | :---------------------------------------- |\n",
    "| KeyedTable | The newly constructed keyed table object. |\n",
    "\n",
    "**Examples:**\n",
    "\n",
    "Create a keyed table from a dictionary object."
   ]
  },
  {
   "cell_type": "code",
   "execution_count": null,
   "id": "03162ab2",
   "metadata": {},
   "outputs": [],
   "source": [
    "kx.KeyedTable(data={'x': list(range(10)), 'y': list(10 - x for x in range(10))})"
   ]
  },
  {
   "cell_type": "markdown",
   "id": "eda04de8",
   "metadata": {},
   "source": [
    "Create a keyed table from a list of rows."
   ]
  },
  {
   "cell_type": "code",
   "execution_count": null,
   "id": "de9fcc81",
   "metadata": {},
   "outputs": [],
   "source": [
    "kx.KeyedTable([[0, 1], [2, 3], [4, 5], [6, 7], [8, 9]])"
   ]
  },
  {
   "cell_type": "markdown",
   "id": "ab5393c3",
   "metadata": {},
   "source": [
    "Create a keyed table from a list of rows and provide names for the resulting columns."
   ]
  },
  {
   "cell_type": "code",
   "execution_count": null,
   "id": "576e4254",
   "metadata": {},
   "outputs": [],
   "source": [
    "kx.KeyedTable([[0, 1, 2], [3, 4, 5], [6, 7, 8], [9, 10, 11]], columns=['x', 'y', 'z'])"
   ]
  },
  {
   "cell_type": "markdown",
   "id": "cca4e246",
   "metadata": {},
   "source": [
    "Create a keyed table with a specified index column."
   ]
  },
  {
   "cell_type": "code",
   "execution_count": null,
   "id": "a29d1521",
   "metadata": {},
   "outputs": [],
   "source": [
    "kx.KeyedTable(data={'x': list(range(10)), 'y': list(10 - x for x in range(10))}, index=[2 * x for x in range(10)])"
   ]
  },
  {
   "cell_type": "markdown",
   "id": "73bf284f",
   "metadata": {},
   "source": [
    "## Metadata"
   ]
  },
  {
   "cell_type": "code",
   "execution_count": null,
   "id": "4b363f07",
   "metadata": {},
   "outputs": [],
   "source": [
    "kx.q('N: 1000')\n",
    "tab = kx.q('([] x: til N; y: N?`AAPL`GOOG`MSFT; z: N?500f; w: N?1000; v: N?(0N 0 50 100 200 250))')\n",
    "tab"
   ]
  },
  {
   "cell_type": "markdown",
   "id": "40155b78",
   "metadata": {},
   "source": [
    "### Table.columns\n",
    "\n",
    "Get the name of each column in the table"
   ]
  },
  {
   "cell_type": "code",
   "execution_count": null,
   "id": "e8a0395e",
   "metadata": {},
   "outputs": [],
   "source": [
    "tab.columns"
   ]
  },
  {
   "cell_type": "markdown",
   "id": "13516f56",
   "metadata": {},
   "source": [
    "### Table.dtypes\n",
    "\n",
    "Get the pandas dtype of each column"
   ]
  },
  {
   "cell_type": "code",
   "execution_count": null,
   "id": "5a312477",
   "metadata": {},
   "outputs": [],
   "source": [
    "tab.dtypes"
   ]
  },
  {
   "cell_type": "markdown",
   "id": "10124c07",
   "metadata": {},
   "source": [
    "### Table.empty\n",
    "\n",
    "Returns True if the table is empty otherwise returns False."
   ]
  },
  {
   "cell_type": "code",
   "execution_count": null,
   "id": "751fc442",
   "metadata": {},
   "outputs": [],
   "source": [
    "tab.empty"
   ]
  },
  {
   "cell_type": "markdown",
   "id": "c973fb82",
   "metadata": {},
   "source": [
    "### Table.ndim\n",
    "\n",
    "Get the nuber of columns within the table."
   ]
  },
  {
   "cell_type": "code",
   "execution_count": null,
   "id": "ee6b55a0",
   "metadata": {},
   "outputs": [],
   "source": [
    "tab.ndim"
   ]
  },
  {
   "cell_type": "markdown",
   "id": "07ac8e54",
   "metadata": {},
   "source": [
    "### Table.shape\n",
    "\n",
    "Get the shape of the table as a tuple (number of rows, number of columns)."
   ]
  },
  {
   "cell_type": "code",
   "execution_count": null,
   "id": "8d6f890c",
   "metadata": {},
   "outputs": [],
   "source": [
    "tab.shape"
   ]
  },
  {
   "cell_type": "markdown",
   "id": "654129cc",
   "metadata": {},
   "source": [
    "### Table.size\n",
    "\n",
    "Get the number of values in the table (rows * cols)."
   ]
  },
  {
   "cell_type": "code",
   "execution_count": null,
   "id": "0e621250",
   "metadata": {},
   "outputs": [],
   "source": [
    "tab.size"
   ]
  },
  {
   "cell_type": "markdown",
   "id": "8e210a91",
   "metadata": {},
   "source": [
    "## Querying and Data Interrogation"
   ]
  },
  {
   "cell_type": "code",
   "execution_count": null,
   "id": "603d5534",
   "metadata": {},
   "outputs": [],
   "source": [
    "# The examples in this section will use this example table filled with random data\n",
    "kx.q('N: 1000')\n",
    "tab = kx.q('([] x: til N; y: N?`AAPL`GOOG`MSFT; z: N?500f; w: N?1000; v: N?(0N 0 50 100 200 250))')\n",
    "tab"
   ]
  },
  {
   "cell_type": "markdown",
   "id": "9bd3dada",
   "metadata": {},
   "source": [
    "### Table.all()\n",
    "\n",
    "```\n",
    "Table.all(axis=0, bool_only=False, skipna=True)\n",
    "```\n",
    "\n",
    "Returns whether or not all values across the given axis have a `truthy` value.\n",
    "\n",
    "**Parameters:**\n",
    "\n",
    "| Name         | Type | Description                                                                      | Default |\n",
    "| :----------: | :--: | :------------------------------------------------------------------------------- | :-----: |\n",
    "| axis         | int  | The axis to calculate `all` across 0 is columns, 1 is rows.                      | 0       |\n",
    "| bool_only    | bool | Only use columns of the table that are boolean types.                            | False   |\n",
    "| skipna       | bool | Ignore any null values along the axis.                                           | True    |\n",
    "\n",
    "**Returns:**\n",
    "\n",
    "| Type               | Description                                                          |\n",
    "| :----------------: | :------------------------------------------------------------------- |\n",
    "| Dictionary         | A dictionary where the key represents the column name / row number and the values are the result of calling `all` on that column / row. |"
   ]
  },
  {
   "cell_type": "code",
   "execution_count": null,
   "id": "95aa447d",
   "metadata": {},
   "outputs": [],
   "source": [
    "tab.all()"
   ]
  },
  {
   "cell_type": "markdown",
   "id": "4ac12eb0",
   "metadata": {},
   "source": [
    "### Table.any()\n",
    "\n",
    "```\n",
    "Table.any(axis=0, bool_only=False, skipna=True)\n",
    "```\n",
    "\n",
    "Returns whether or not any values across the given axis have a `truthy` value.\n",
    "\n",
    "**Parameters:**\n",
    "\n",
    "| Name         | Type | Description                                                                      | Default |\n",
    "| :----------: | :--: | :------------------------------------------------------------------------------- | :-----: |\n",
    "| axis         | int  | The axis to calculate `any` across 0 is columns, 1 is rows.                      | 0       |\n",
    "| bool_only    | bool | Only use columns of the table that are boolean types.                            | False   |\n",
    "| skipna       | bool | Ignore any null values along the axis.                                           | True    |\n",
    "\n",
    "**Returns:**\n",
    "\n",
    "| Type               | Description                                                          |\n",
    "| :----------------: | :------------------------------------------------------------------- |\n",
    "| Dictionary         | A dictionary where the key represents the column name / row number and the values are the result of calling `any` on that column / row. |"
   ]
  },
  {
   "cell_type": "code",
   "execution_count": null,
   "id": "a43aabc4",
   "metadata": {},
   "outputs": [],
   "source": [
    "tab.any()"
   ]
  },
  {
   "cell_type": "markdown",
   "id": "81a8e19f",
   "metadata": {},
   "source": [
    "### Table.at[]\n",
    "\n",
    "```\n",
    "Table.at[row, col]\n",
    "```\n",
    "\n",
    "Access a single value for a row / column pair.\n",
    "\n",
    "Similar to `loc[]`, in that both provide label-based lookups. Use `at` if you only need to get or set a single value.\n",
    "\n",
    "The `at` property can be used for both assignment and retrieval of values at a given row and column."
   ]
  },
  {
   "cell_type": "markdown",
   "id": "44a37aff",
   "metadata": {},
   "source": [
    "**Examples:**\n",
    "\n",
    "Get the value of the `z` column in the 997th row."
   ]
  },
  {
   "cell_type": "code",
   "execution_count": null,
   "id": "618fe622",
   "metadata": {},
   "outputs": [],
   "source": [
    "tab.at[997, 'z']"
   ]
  },
  {
   "cell_type": "markdown",
   "id": "23203909",
   "metadata": {},
   "source": [
    "Reassign the value of the `z` column in the 997th row to `3.14159`."
   ]
  },
  {
   "cell_type": "code",
   "execution_count": null,
   "id": "978d991d",
   "metadata": {},
   "outputs": [],
   "source": [
    "tab.at[997, 'z'] = 3.14159\n",
    "tab.at[997, 'z']"
   ]
  },
  {
   "cell_type": "markdown",
   "id": "3d62cbbc",
   "metadata": {},
   "source": [
    "### Table.get()\n",
    "\n",
    "```\n",
    "Table.get(key, default=None)\n",
    "```\n",
    "\n",
    "Get a column or columns from a table by key, if the key does not exist return the default value.\n",
    "\n",
    "**Parameters:**\n",
    "\n",
    "| Name    | Type                   | Description                                             | Default    |\n",
    "| :-----: | :--------------------: | :------------------------------------------------------ | :--------: |\n",
    "| key     | Union[str, list[str]]  | The column name or list of names to get from the table. | _required_ |\n",
    "| default | int                    | The default value if the key is not found.              | None       |\n",
    "\n",
    "**Returns:**\n",
    "\n",
    "| Type              | Description                                                          |\n",
    "| :---------------: | :------------------------------------------------------------------- |\n",
    "| Union[Table, Any] | A table containing only the columns requested or the default value. |"
   ]
  },
  {
   "cell_type": "markdown",
   "id": "00c06637",
   "metadata": {},
   "source": [
    "**Examples:**\n",
    "\n",
    "Get the `y` column from the table."
   ]
  },
  {
   "cell_type": "code",
   "execution_count": null,
   "id": "f950cc1e",
   "metadata": {
    "scrolled": true
   },
   "outputs": [],
   "source": [
    "tab.get('y')"
   ]
  },
  {
   "cell_type": "markdown",
   "id": "78608b1c",
   "metadata": {},
   "source": [
    "Get the `y` and `z` columns from the table."
   ]
  },
  {
   "cell_type": "code",
   "execution_count": null,
   "id": "02d4d586",
   "metadata": {
    "scrolled": true
   },
   "outputs": [],
   "source": [
    "tab.get(['y', 'z'])"
   ]
  },
  {
   "cell_type": "markdown",
   "id": "2a2186aa",
   "metadata": {},
   "source": [
    "Attempt to get the `q` column from the table and receive none as that column does not exist."
   ]
  },
  {
   "cell_type": "code",
   "execution_count": null,
   "id": "a88ef7dc",
   "metadata": {},
   "outputs": [],
   "source": [
    "print(tab.get('q'))"
   ]
  },
  {
   "cell_type": "markdown",
   "id": "ea3dc01a",
   "metadata": {},
   "source": [
    "Attempt to get the `q` column from the table and receive the default value `not found` as that column does not exist."
   ]
  },
  {
   "cell_type": "code",
   "execution_count": null,
   "id": "2f3abc92",
   "metadata": {},
   "outputs": [],
   "source": [
    "tab.get('q', 'not found')"
   ]
  },
  {
   "cell_type": "markdown",
   "id": "b2195cfe",
   "metadata": {},
   "source": [
    "### Table.head()\n",
    "\n",
    "```\n",
    "Table.head(n=5)\n",
    "```\n",
    "\n",
    "Get the first n rows from a table.\n",
    "\n",
    "**Parameters:**\n",
    "\n",
    "| Name | Type | Description                   | Default |\n",
    "| :--: | :--: | :---------------------------- | :-----: |\n",
    "| n    | int  | The number of rows to return. | 5       |\n",
    "\n",
    "**Returns:**\n",
    "\n",
    "| Type  | Description                      |\n",
    "| :---: | :------------------------------- |\n",
    "| Table | The first `n` rows of the table. |"
   ]
  },
  {
   "cell_type": "markdown",
   "id": "18a0ca1e",
   "metadata": {},
   "source": [
    "**Examples:**\n",
    "\n",
    "Return the first 5 rows of the table."
   ]
  },
  {
   "cell_type": "code",
   "execution_count": null,
   "id": "5120ce1c",
   "metadata": {},
   "outputs": [],
   "source": [
    "tab.head()"
   ]
  },
  {
   "cell_type": "markdown",
   "id": "08f158a8",
   "metadata": {},
   "source": [
    "Return the first 10 rows of the table."
   ]
  },
  {
   "cell_type": "code",
   "execution_count": null,
   "id": "de9c2842",
   "metadata": {},
   "outputs": [],
   "source": [
    "tab.head(10)"
   ]
  },
  {
   "cell_type": "markdown",
   "id": "5e21bef1",
   "metadata": {},
   "source": [
    "### Table.isna()\n",
    "\n",
    "```\n",
    "Table.isna()\n",
    "```\n",
    "\n",
    "Detects null values on a Table object.\n",
    "\n",
    "**Parameters:**\n",
    "\n",
    "\n",
    "**Returns:**\n",
    "\n",
    "| Type               | Description                                                          |\n",
    "| :----------------: | :------------------------------------------------------------------- |\n",
    "| Table         | A Table with the same shape as the original but containing boolean values. 1b represents a null value was on its place and 0b represents the opposite. |"
   ]
  },
  {
   "cell_type": "code",
   "execution_count": null,
   "id": "d8ff16e1",
   "metadata": {},
   "outputs": [],
   "source": [
    "tab.isna()"
   ]
  },
  {
   "cell_type": "markdown",
   "id": "47d20b00",
   "metadata": {},
   "source": [
    "### Table.isnull()\n",
    "\n",
    "```\n",
    "Table.isnull()\n",
    "```\n",
    "\n",
    "Alias of Table.isna().\n",
    "\n",
    "Detects null values on a Table object.\n",
    "\n",
    "**Parameters:**\n",
    "\n",
    "\n",
    "**Returns:**\n",
    "\n",
    "| Type               | Description                                                          |\n",
    "| :----------------: | :------------------------------------------------------------------- |\n",
    "| Table         | A Table with the same shape as the original but containing boolean values. 1b represents a null value was on its place and 0b represents the opposite. |"
   ]
  },
  {
   "cell_type": "code",
   "execution_count": null,
   "id": "400c209e",
   "metadata": {},
   "outputs": [],
   "source": [
    "tab.isnull()"
   ]
  },
  {
   "cell_type": "markdown",
   "id": "fb3164d5",
   "metadata": {},
   "source": [
    "### Table.notna()\n",
    "\n",
    "```\n",
    "Table.notna()\n",
    "```\n",
    "\n",
    "Boolean inverse of Table.isna().\n",
    "\n",
    "Detects non-null values on a Table object.\n",
    "\n",
    "**Parameters:**\n",
    "\n",
    "\n",
    "**Returns:**\n",
    "\n",
    "| Type               | Description                                                          |\n",
    "| :----------------: | :------------------------------------------------------------------- |\n",
    "| Table         | A Table with the same shape as the original but containing boolean values. 1b represents a non null value was on its place and 0b represents the opposite. |"
   ]
  },
  {
   "cell_type": "code",
   "execution_count": null,
   "id": "4206eec3",
   "metadata": {},
   "outputs": [],
   "source": [
    "tab.notna()"
   ]
  },
  {
   "cell_type": "markdown",
   "id": "4e8e5c07",
   "metadata": {},
   "source": [
    "### Table.notnull()\n",
    "\n",
    "```\n",
    "Table.notna()\n",
    "```\n",
    "\n",
    "Boolean inverse of Table.isnull(). Alias of Table.isna()\n",
    "\n",
    "Detects non-null values on a Table object.\n",
    "\n",
    "**Parameters:**\n",
    "\n",
    "\n",
    "**Returns:**\n",
    "\n",
    "| Type               | Description                                                          |\n",
    "| :----------------: | :------------------------------------------------------------------- |\n",
    "| Table         | A Table with the same shape as the original but containing boolean values. 1b represents a non null value was on its place and 0b represents the opposite. |"
   ]
  },
  {
   "cell_type": "code",
   "execution_count": null,
   "id": "3138d21a",
   "metadata": {},
   "outputs": [],
   "source": [
    "tab.notnull()"
   ]
  },
  {
   "cell_type": "markdown",
   "id": "d1c370e4",
   "metadata": {},
   "source": [
    "### Table.iloc[]\n",
    "\n",
    "```\n",
    "Table.iloc[:, :]\n",
    "```\n",
    "\n",
    "Purely integer-location based indexing for selection by position.\n",
    "\n",
    "`iloc` is primarily integer position based (from 0 to length-1 of the axis), but may also be used with a BooleanVector.\n",
    "\n",
    "Allowed inputs are:\n",
    "- An integer, e.g. 5.\n",
    "- A list or array of integers, e.g. [4, 3, 0].\n",
    "- A slice object with ints, e.g. 1:7.\n",
    "- A BooleanVector.\n",
    "- A callable function with one argument (the calling Series or DataFrame) and that returns valid output for indexing (one of the above). This is useful in method chains, when you don’t have a reference to the calling object, but would like to base your selection on some value.\n",
    "- A tuple of row and column indexes. The tuple elements consist of one of the above inputs, e.g. (0, 1).\n",
    "\n",
    "**Returns:**\n",
    "\n",
    "| Type  | Description                                            |\n",
    "| :---: | :----------------------------------------------------- |\n",
    "| Table | A table containing only the columns / rows requested. |"
   ]
  },
  {
   "cell_type": "markdown",
   "id": "07e31d96",
   "metadata": {},
   "source": [
    "**Examples:**\n",
    "\n",
    "Get the second row from a table."
   ]
  },
  {
   "cell_type": "code",
   "execution_count": null,
   "id": "f8108853",
   "metadata": {
    "scrolled": true
   },
   "outputs": [],
   "source": [
    "tab.iloc[1]"
   ]
  },
  {
   "cell_type": "markdown",
   "id": "30c429f4",
   "metadata": {},
   "source": [
    "Get the first 5 rows from a table."
   ]
  },
  {
   "cell_type": "code",
   "execution_count": null,
   "id": "2f817967",
   "metadata": {},
   "outputs": [],
   "source": [
    "tab.iloc[:5]"
   ]
  },
  {
   "cell_type": "markdown",
   "id": "2eb41e47",
   "metadata": {},
   "source": [
    "Get all rows of the table where the `y` column is equal to `AAPL`."
   ]
  },
  {
   "cell_type": "code",
   "execution_count": null,
   "id": "69e14007",
   "metadata": {
    "scrolled": true
   },
   "outputs": [],
   "source": [
    "tab.iloc[tab['y'] == 'AAPL']"
   ]
  },
  {
   "cell_type": "markdown",
   "id": "7861f193",
   "metadata": {},
   "source": [
    "Get all rows of the table where the `y` column is equal to `AAPL`, and only return the `y`, `z` and `w` columns."
   ]
  },
  {
   "cell_type": "code",
   "execution_count": null,
   "id": "323cc0f8",
   "metadata": {},
   "outputs": [],
   "source": [
    "tab.iloc[tab['y'] == 'AAPL', ['y', 'z', 'w']]"
   ]
  },
  {
   "cell_type": "markdown",
   "id": "9de566f3",
   "metadata": {},
   "source": [
    "Replace all null values in the column `v` with the value `-100`."
   ]
  },
  {
   "cell_type": "code",
   "execution_count": null,
   "id": "be66947d",
   "metadata": {},
   "outputs": [],
   "source": [
    "tab.iloc[tab['v'] == kx.q('0N'), 'v'] = -100\n",
    "tab"
   ]
  },
  {
   "cell_type": "markdown",
   "id": "ed37aa73",
   "metadata": {},
   "source": [
    "### Table.loc[]\n",
    "\n",
    "```\n",
    "Table.loc[:, :]\n",
    "```\n",
    "\n",
    "Access a group of rows and columns by label or by BooleanVector.\n",
    "\n",
    "`loc` is a label based form of indexing, but may also be used with a boolean array.\n",
    "\n",
    "Allowed inputs are:\n",
    "\n",
    "- A single label, e.g. 5 or 'a', (note that 5 is interpreted as a label of the index, and never as an integer position along the index)\n",
    "- A list or array of labels, e.g. ['a', 'b', 'c']\n",
    "- A slice object with labels, e.g. 'a':'f'\n",
    "    - **Warning contrary to usual python slices, both the start and the stop are included**\n",
    "- A BooleanVector of the same length as the axis being sliced\n",
    "- An alignable BooleanVector. The index of the key will be aligned before masking\n",
    "- An alignable Index. The Index of the returned selection will be the input\n",
    "- A callable function with one argument (the calling Table like object) and that returns valid output for indexing (e.g. one of the above)\n",
    "\n",
    "Note:\n",
    "When the Pandas API is enabled, using `[]` to index into a table will use `Table.loc[]`\n",
    "\n",
    "**Returns:**\n",
    "\n",
    "| Type  | Description                                            |\n",
    "| :---: | :----------------------------------------------------- |\n",
    "| Table | A table containing only the columns / rows requested. |"
   ]
  },
  {
   "cell_type": "markdown",
   "id": "c68e21f1",
   "metadata": {},
   "source": [
    "**Examples:**\n",
    "\n",
    "Get every row in the `y` column."
   ]
  },
  {
   "cell_type": "code",
   "execution_count": null,
   "id": "e46092cc",
   "metadata": {
    "scrolled": true
   },
   "outputs": [],
   "source": [
    "tab[:, 'y']"
   ]
  },
  {
   "cell_type": "markdown",
   "id": "9e136f10",
   "metadata": {},
   "source": [
    "Get all rows of the table where the value in the `z` column is greater than `250.0`"
   ]
  },
  {
   "cell_type": "code",
   "execution_count": null,
   "id": "52d2f0fe",
   "metadata": {},
   "outputs": [],
   "source": [
    "tab[tab['z'] > 250.0]"
   ]
  },
  {
   "cell_type": "markdown",
   "id": "52c058a6",
   "metadata": {},
   "source": [
    "Replace all null values in the column `v` with the value `-100`."
   ]
  },
  {
   "cell_type": "code",
   "execution_count": null,
   "id": "960f1933",
   "metadata": {
    "scrolled": true
   },
   "outputs": [],
   "source": [
    "tab.loc[tab['v'] == kx.q('0N'), 'v'] = -100\n",
    "tab"
   ]
  },
  {
   "cell_type": "markdown",
   "id": "9b262eca",
   "metadata": {},
   "source": [
    "Replace all locations in column `v` where the value is `-100` with a null."
   ]
  },
  {
   "cell_type": "code",
   "execution_count": null,
   "id": "f4c974c7",
   "metadata": {},
   "outputs": [],
   "source": [
    "tab[tab['v'] == -100, 'v'] = kx.q('0N')\n",
    "tab"
   ]
  },
  {
   "cell_type": "markdown",
   "id": "ddc94e12",
   "metadata": {},
   "source": [
    "Usage of the `loc` functionality under the hood additionally allows users to set columns within a table for single or multiple columns. Data passed for this can be q/Python."
   ]
  },
  {
   "cell_type": "code",
   "execution_count": null,
   "id": "f9d06838",
   "metadata": {},
   "outputs": [],
   "source": [
    "tab['new_col'] = kx.q('1000?1f')"
   ]
  },
  {
   "cell_type": "code",
   "execution_count": null,
   "id": "1505d9bb",
   "metadata": {},
   "outputs": [],
   "source": [
    "tab[['new_col1', 'new_col2']] = [20, kx.q('1000?0Ng')]"
   ]
  },
  {
   "cell_type": "markdown",
   "id": "05765a04",
   "metadata": {},
   "source": [
    "### Table.sample()\n",
    "\n",
    "```\n",
    "Table.sample(n, frac, replace, weights, random_state, axis, ignore_index)\n",
    "```\n",
    "\n",
    "Sample random data from the table.\n",
    "\n",
    "**Parameters:**\n",
    "\n",
    "| Name         | Type  | Description                                                        | Default |\n",
    "| :----------: | :---: | :----------------------------------------------------------------- | :-----: |\n",
    "| n            | int   | Number of rows to return. Cannot be used with `frac`. Default is 1 if `frac` is None. | None |\n",
    "| frac         | float | Fraction of the rows to return. Cannot be used with `n`.           | None    |\n",
    "| replace      | bool  | Whether or not it should be possible to sample the same row twice. | False   |\n",
    "| weights      | None  | Not yet implemented.                                               | None    |\n",
    "| random_state | None  | Not yet implemented.                                               | None    |\n",
    "| axis         | None  | Not yet implemented.                                               | None    |\n",
    "| ignore_index | bool  | Not yet implemented.                                               | False   |\n",
    "\n",
    "**Returns:**\n",
    "\n",
    "| Type  | Description                                                        |\n",
    "| :---: | :----------------------------------------------------------------- |\n",
    "| Table | A table with the given column(s) renamed.                          |"
   ]
  },
  {
   "cell_type": "code",
   "execution_count": null,
   "id": "8b4a10be",
   "metadata": {
    "scrolled": true
   },
   "outputs": [],
   "source": [
    "# The examples in this section will use this example table filled with random data\n",
    "kx.q('N: 1000')\n",
    "tab = kx.q('([] x: til N; y: N?`AAPL`GOOG`MSFT; z: N?500f; w: N?1000; v: N?(0N 0 50 100 200 250))')\n",
    "tab.head()"
   ]
  },
  {
   "cell_type": "markdown",
   "id": "970c8ea4",
   "metadata": {},
   "source": [
    "**Examples:**\n",
    "\n",
    "Sample 10 Rows."
   ]
  },
  {
   "cell_type": "code",
   "execution_count": null,
   "id": "9dde77b1",
   "metadata": {},
   "outputs": [],
   "source": [
    "tab.sample(n=10)"
   ]
  },
  {
   "cell_type": "markdown",
   "id": "1d14afe9",
   "metadata": {},
   "source": [
    "Sample 10%  of the rows."
   ]
  },
  {
   "cell_type": "code",
   "execution_count": null,
   "id": "32772c46",
   "metadata": {},
   "outputs": [],
   "source": [
    "tab.sample(frac=0.1)"
   ]
  },
  {
   "cell_type": "markdown",
   "id": "82a7a79d",
   "metadata": {},
   "source": [
    "Sample 10%  of the rows and allow the same row to be sampled twice."
   ]
  },
  {
   "cell_type": "code",
   "execution_count": null,
   "id": "4c96839b",
   "metadata": {},
   "outputs": [],
   "source": [
    "tab.sample(frac=0.1, replace=True)"
   ]
  },
  {
   "cell_type": "markdown",
   "id": "82b501a6",
   "metadata": {
    "jp-MarkdownHeadingCollapsed": true
   },
   "source": [
    "### Table.select_dtypes()\n",
    "\n",
    "```\n",
    "Table.select_dtypes(include=None, exclude=None)\n",
    "```\n",
    "\n",
    "Return a subset of the DataFrame’s columns based on the column dtypes.\n",
    "\n",
    "Allowed inputs for `include`/`exclude` are:\n",
    "- A single dtype or string.\n",
    "- A list of dtypes or strings.\n",
    "- Inputs given for `include` and `exclude` cannot overlap.\n",
    "\n",
    "The dtype `kx.CharVector` will return an error. Use `kx.CharAtom` for a column of single chars.\n",
    "Both `kx.*Atom` and `kx.*Vector` will be taken to mean a column containing a single item per row of type `*`.  `kx.List` will include/exclude any columns containing mixed list data (including string columns).\n",
    "    \n",
    "**Parameters:**\n",
    "\n",
    "| Name    | Type             | Description                                      | Default |\n",
    "| :-----: | :--------------: | :----------------------------------------------: | :-----: |\n",
    "| include | Union[List, str] | A selection of dtypes or strings to be included. | None    |\n",
    "| exclude | Union[List, str] | A selection of dtypes or strings to be excluded. | None    |\n",
    "    \n",
    "At least one of these parameters must be supplied.\n",
    "    \n",
    "**Returns:**\n",
    "\n",
    "| Type      | Description                                                                                      |\n",
    "| :-------: | :----------------------------------------------------------------------------------------------: |\n",
    "| Dataframe | The subset of the frame including the dtypes in `include` and excluding the dtypes in `exclude`. |"
   ]
  },
  {
   "cell_type": "markdown",
   "id": "0570165c",
   "metadata": {},
   "source": [
    "**Examples:**\n",
    "\n",
    "The examples in the section will use the example table."
   ]
  },
  {
   "cell_type": "code",
   "execution_count": null,
   "id": "74ade8d1",
   "metadata": {},
   "outputs": [],
   "source": [
    "df = kx.q('([] c1:`a`b`c; c2:1 2 3h; c3:1 2 3j; c4:1 2 3i)')"
   ]
  },
  {
   "cell_type": "markdown",
   "id": "b889d7c7",
   "metadata": {},
   "source": [
    "Exclude columns containing symbols"
   ]
  },
  {
   "cell_type": "code",
   "execution_count": null,
   "id": "e8a792da",
   "metadata": {},
   "outputs": [],
   "source": [
    "df.select_dtypes(exclude = kx.SymbolVector)"
   ]
  },
  {
   "cell_type": "markdown",
   "id": "c87f28c4",
   "metadata": {},
   "source": [
    "Include a list of column types"
   ]
  },
  {
   "cell_type": "code",
   "execution_count": null,
   "id": "ac2af334",
   "metadata": {},
   "outputs": [],
   "source": [
    "df.select_dtypes(include = [kx.ShortVector, kx.LongVector])"
   ]
  },
  {
   "cell_type": "markdown",
   "id": "ede98735",
   "metadata": {},
   "source": [
    "### Table.tail()\n",
    "\n",
    "```\n",
    "Table.tail(n=5)\n",
    "```\n",
    "\n",
    "Get the last n rows from a table.\n",
    "\n",
    "**Parameters:**\n",
    "\n",
    "| Name | Type | Description                   | Default |\n",
    "| :--: | :--: | :---------------------------- | :-----: |\n",
    "| n    | int  | The number of rows to return. | 5       |\n",
    "\n",
    "**Returns:**\n",
    "\n",
    "| Type  | Description                      |\n",
    "| :---: | :------------------------------- |\n",
    "| Table | The last `n` rows of the table.  |"
   ]
  },
  {
   "cell_type": "markdown",
   "id": "a7b6bd44",
   "metadata": {},
   "source": [
    "**Examples:**\n",
    "\n",
    "Return the last 5 rows of the table."
   ]
  },
  {
   "cell_type": "code",
   "execution_count": null,
   "id": "d1f5f644",
   "metadata": {},
   "outputs": [],
   "source": [
    "tab.tail()"
   ]
  },
  {
   "cell_type": "markdown",
   "id": "181a4d86",
   "metadata": {},
   "source": [
    "Return the last 10 rows of the table."
   ]
  },
  {
   "cell_type": "code",
   "execution_count": null,
   "id": "c8a0bb7b",
   "metadata": {},
   "outputs": [],
   "source": [
    "tab.tail(10)"
   ]
  },
  {
   "cell_type": "markdown",
   "id": "29b0e773",
   "metadata": {},
   "source": [
    "## Data Joins/Merging"
   ]
  },
  {
   "cell_type": "markdown",
   "id": "666a7621",
   "metadata": {},
   "source": [
    "### Table.merge()\n",
    "\n",
    "```\n",
    "Table.merge(\n",
    "    right,\n",
    "    how='inner',\n",
    "    on=None,\n",
    "    left_on=None,\n",
    "    right_on=None,\n",
    "    left_index=False,\n",
    "    right_index=False,\n",
    "    sort=False,\n",
    "    suffixes=('_x', '_y'),\n",
    "    copy=True,\n",
    "    validate=None,\n",
    "    q_join=False\n",
    ")\n",
    "```\n",
    "\n",
    "Merge Table or KeyedTable objects with a database-style join.\n",
    "\n",
    "The join is done on columns or keys. If joining columns on columns, the Table key will be ignored. Otherwise if joining keys on keys or keys on a column or columns, the index will be passed on. When performing a cross merge, no column specifications to merge on are allowed.\n",
    "\n",
    "**Parameters:**\n",
    "\n",
    "| Name        | Type | Description                                                                       | Default |\n",
    "| :---------: | :--: | :-------------------------------------------------------------------------------- | :-----: |\n",
    "| right       | Union[Table/KeyedTable] | The object to merge with.                                      | _required_ |\n",
    "| how         | str  | The type of join to be used. One of {‘left’, ‘right’, ‘outer’, ‘inner’, ‘cross’}. | ‘inner’ |\n",
    "| on          | str  | The column name to join on.                                                       | None    |\n",
    "| left_on     | str  | The column name in the left table to join on.                                     | None    |\n",
    "| right_on    | str  | The column name in the right table to join on.                                    | None    |\n",
    "| left_index  | bool | Use the index of the left Table.                                                  | False   |\n",
    "| right_index | bool | Use the index of the right Table.                                                 | False   |\n",
    "| sort        | bool | Sort the join keys of the resulting table.                                        | False   |\n",
    "| suffixes    | Tuple(str, str) | The number of rows to return.                                          | ('\\_x', '\\_y') |\n",
    "| copy        | bool | If False avoid copies and modify the input table.                                 | None    |\n",
    "| validate    | str  | If specified checks if merge matches specified type.<br> - “one_to_one” or “1:1”: check if merge keys are unique in both left and right datasets.<br> - “one_to_many” or “1:m”: check if merge keys are unique in left dataset.<br> - “many_to_one” or “m:1”: check if merge keys are unique in right dataset.<br> - “many_to_many” or “m:m”: allowed, but does not result in checks.<br> | None    |\n",
    "| q_join      | bool | If True perform native q joins instead of the pandas SQL like joins. More documentation around these joins can be found [here.](https://code.kx.com/q/basics/joins/) | False   |\n",
    "\n",
    "**Returns:**\n",
    "\n",
    "| Type               | Description                                                         |\n",
    "| :----------------: | :------------------------------------------------------------------ |\n",
    "| Table / KeyedTable | The resulting table-like object after the join has been preformed. |"
   ]
  },
  {
   "cell_type": "markdown",
   "id": "61d1567a",
   "metadata": {},
   "source": [
    "**Examples:**\n",
    "\n",
    "Merge tab1 and tab2 on the lkey and rkey columns. The value columns have the default suffixes, \\_x and \\_y, appended."
   ]
  },
  {
   "cell_type": "code",
   "execution_count": null,
   "id": "8a9acd51",
   "metadata": {
    "scrolled": true
   },
   "outputs": [],
   "source": [
    "tab1 = kx.Table(data={'lkey': ['foo', 'bar', 'baz', 'foo'], 'value': [1, 2, 3, 5]})\n",
    "tab2 = kx.Table(data={'rkey': ['foo', 'bar', 'baz', 'foo'], 'value': [5, 6, 7, 8]})\n",
    "tab1.merge(tab2, left_on='lkey', right_on='rkey')"
   ]
  },
  {
   "cell_type": "markdown",
   "id": "e004bf64",
   "metadata": {},
   "source": [
    "Merge tab1 and tab2 on the lkey and rkey columns using a native q inner join. The value columns have the default suffixes, \\_x and \\_y, appended."
   ]
  },
  {
   "cell_type": "code",
   "execution_count": null,
   "id": "07df7437",
   "metadata": {},
   "outputs": [],
   "source": [
    "tab1.merge(tab2, left_on='lkey', right_on='rkey', q_join=True)"
   ]
  },
  {
   "cell_type": "markdown",
   "id": "7350d9db",
   "metadata": {},
   "source": [
    "Merge tab1 and tab2 with specified left and right suffixes appended to any overlapping columns."
   ]
  },
  {
   "cell_type": "code",
   "execution_count": null,
   "id": "23685dcb",
   "metadata": {},
   "outputs": [],
   "source": [
    "tab1.merge(tab2, left_on='lkey', right_on='rkey', suffixes=('_left', '_right'))"
   ]
  },
  {
   "cell_type": "markdown",
   "id": "3b2c65d4",
   "metadata": {},
   "source": [
    "Merge tab1 and tab2 but raise an exception if the Tables have any overlapping columns."
   ]
  },
  {
   "cell_type": "code",
   "execution_count": null,
   "id": "b5d16312",
   "metadata": {
    "scrolled": true
   },
   "outputs": [],
   "source": [
    "try:\n",
    "    tab1.merge(tab2, left_on='lkey', right_on='rkey', suffixes=(False, False))\n",
    "except BaseException as e:\n",
    "    print(f'Caught Error: {e}')"
   ]
  },
  {
   "cell_type": "code",
   "execution_count": null,
   "id": "793df3f3",
   "metadata": {},
   "outputs": [],
   "source": [
    "tab1 = kx.Table(data={'a': ['foo', 'bar'], 'b': [1, 2]})\n",
    "tab2 = kx.Table(data={'a': ['foo', 'baz'], 'c': [3, 4]})"
   ]
  },
  {
   "cell_type": "markdown",
   "id": "d58a52a3",
   "metadata": {},
   "source": [
    "Merge tab1 and tab2 on the `a` column using an inner join."
   ]
  },
  {
   "cell_type": "code",
   "execution_count": null,
   "id": "1180e6f4",
   "metadata": {
    "scrolled": true
   },
   "outputs": [],
   "source": [
    "tab1.merge(tab2, how='inner', on='a')"
   ]
  },
  {
   "cell_type": "markdown",
   "id": "b14e36da",
   "metadata": {},
   "source": [
    "Merge tab1 and tab2 on the `a` column using a left join."
   ]
  },
  {
   "cell_type": "code",
   "execution_count": null,
   "id": "4b0098da",
   "metadata": {},
   "outputs": [],
   "source": [
    "tab1.merge(tab2, how='left', on='a')"
   ]
  },
  {
   "cell_type": "markdown",
   "id": "00d0ad6a",
   "metadata": {},
   "source": [
    "Merge tab1 and tab2 using a cross join."
   ]
  },
  {
   "cell_type": "code",
   "execution_count": null,
   "id": "b55be868",
   "metadata": {
    "scrolled": true
   },
   "outputs": [],
   "source": [
    "tab1 = kx.Table(data={'left': ['foo', 'bar']})\n",
    "tab2 = kx.Table(data={'right': [7, 8]})\n",
    "tab1.merge(tab2, how='cross')"
   ]
  },
  {
   "cell_type": "markdown",
   "id": "7583c015",
   "metadata": {},
   "source": [
    "### Table.merge_asof()\n",
    "\n",
    "```\n",
    "Table.merge_asof(\n",
    "    right,\n",
    "    on=None,\n",
    "    left_on=None,\n",
    "    right_on=None,\n",
    "    left_index=False,\n",
    "    right_index=False,\n",
    "    by=None,\n",
    "    left_by=None,\n",
    "    right_by=None,\n",
    "    suffixes=('_x', '_y'),\n",
    "    tolerance=None,\n",
    "    allow_exact_matches=True,\n",
    "    direction='backward'\n",
    "\n",
    ")\n",
    "```\n",
    "\n",
    "Merge Table or KeyedTable objects with a database-style join.\n",
    "\n",
    "The join is done on columns or keys. If joining columns on columns, the Table key will be ignored. Otherwise if joining keys on keys or keys on a column or columns, the index will be passed on. When performing a cross merge, no column specifications to merge on are allowed.\n",
    "\n",
    "**Parameters:**\n",
    "\n",
    "| Name        | Type | Description                                                                       | Default |\n",
    "| :---------: | :--: | :-------------------------------------------------------------------------------- | :-----: |\n",
    "| right       | Union[Table/KeyedTable] | The object to merge with.                                      | _required_ |\n",
    "| how         | str  | The type of join to be used. One of {‘left’, ‘right’, ‘outer’, ‘inner’, ‘cross’}. | ‘inner’ |\n",
    "| on          | str  | The column name to join on.                                                       | None    |\n",
    "| left_on     | str  | The column name in the left table to join on.                                     | None    |\n",
    "| right_on    | str  | The column name in the right table to join on.                                    | None    |\n",
    "| left_index  | bool | Use the index of the left Table.                                                  | False   |\n",
    "| right_index | bool | Use the index of the right Table.                                                 | False   |\n",
    "| by          | str  | Not yet implemented.                                                              | None    |\n",
    "| left_by     | str  | Field names to match on in the left table.                                        | None    |\n",
    "| right_by    | str  | Field names to match on in the right table.                                       | None    |\n",
    "| suffixes    | Tuple(str, str) | The number of rows to return.                                          | ('\\_x', '\\_y') |\n",
    "| tolerance   | Any   | Not yet implemented.                                                             | None    |\n",
    "| allow_exact_matches | bool | Not yet implemented.                                                      | True    |\n",
    "| direction   | str   | Not yet implemented.                                                             | 'backward' |\n",
    "\n",
    "\n",
    "**Returns:**\n",
    "\n",
    "| Type               | Description                                                         |\n",
    "| :----------------: | :------------------------------------------------------------------ |\n",
    "| Table / KeyedTable | The resulting table like object after the join has been preformed. |"
   ]
  },
  {
   "cell_type": "markdown",
   "id": "908499df",
   "metadata": {},
   "source": [
    "**Examples:**\n",
    "\n",
    "Perform a simple asof join on two tables."
   ]
  },
  {
   "cell_type": "code",
   "execution_count": null,
   "id": "e660e496",
   "metadata": {},
   "outputs": [],
   "source": [
    "left  = kx.Table(data={\"a\": [1, 5, 10], \"left_val\": [\"a\", \"b\", \"c\"]})\n",
    "right = kx.Table(data={\"a\": [1, 2, 3, 6, 7], \"right_val\": [1, 2, 3, 6, 7]})\n",
    "left"
   ]
  },
  {
   "cell_type": "code",
   "execution_count": null,
   "id": "e456e4ad",
   "metadata": {},
   "outputs": [],
   "source": [
    "right"
   ]
  },
  {
   "cell_type": "code",
   "execution_count": null,
   "id": "d4616f6d",
   "metadata": {},
   "outputs": [],
   "source": [
    "left.merge_asof(right)"
   ]
  },
  {
   "cell_type": "markdown",
   "id": "496d5a72",
   "metadata": {},
   "source": [
    "Perform a asof join on two tables but first merge them on the by column."
   ]
  },
  {
   "cell_type": "code",
   "execution_count": null,
   "id": "3f0fcc13",
   "metadata": {},
   "outputs": [],
   "source": [
    "trades = kx.Table(data={\n",
    "    \"time\": [\n",
    "        pd.Timestamp(\"2016-05-25 13:30:00.023\"),\n",
    "        pd.Timestamp(\"2016-05-25 13:30:00.023\"),\n",
    "        pd.Timestamp(\"2016-05-25 13:30:00.030\"),\n",
    "        pd.Timestamp(\"2016-05-25 13:30:00.041\"),\n",
    "        pd.Timestamp(\"2016-05-25 13:30:00.048\"),\n",
    "        pd.Timestamp(\"2016-05-25 13:30:00.049\"),\n",
    "        pd.Timestamp(\"2016-05-25 13:30:00.072\"),\n",
    "        pd.Timestamp(\"2016-05-25 13:30:00.075\")\n",
    "    ],\n",
    "    \"ticker\": [\n",
    "       \"GOOG\",\n",
    "       \"MSFT\",\n",
    "       \"MSFT\",\n",
    "       \"MSFT\",\n",
    "       \"GOOG\",\n",
    "       \"AAPL\",\n",
    "       \"GOOG\",\n",
    "       \"MSFT\"\n",
    "   ],\n",
    "   \"bid\": [720.50, 51.95, 51.97, 51.99, 720.50, 97.99, 720.50, 52.01],\n",
    "   \"ask\": [720.93, 51.96, 51.98, 52.00, 720.93, 98.01, 720.88, 52.03]\n",
    "})\n",
    "quotes = kx.Table(data={\n",
    "   \"time\": [\n",
    "       pd.Timestamp(\"2016-05-25 13:30:00.023\"),\n",
    "       pd.Timestamp(\"2016-05-25 13:30:00.038\"),\n",
    "       pd.Timestamp(\"2016-05-25 13:30:00.048\"),\n",
    "       pd.Timestamp(\"2016-05-25 13:30:00.048\"),\n",
    "       pd.Timestamp(\"2016-05-25 13:30:00.048\")\n",
    "   ],\n",
    "   \"ticker\": [\"MSFT\", \"MSFT\", \"GOOG\", \"GOOG\", \"AAPL\"],\n",
    "   \"price\": [51.95, 51.95, 720.77, 720.92, 98.0],\n",
    "   \"quantity\": [75, 155, 100, 100, 100]\n",
    "})\n",
    "trades"
   ]
  },
  {
   "cell_type": "code",
   "execution_count": null,
   "id": "b7259913",
   "metadata": {},
   "outputs": [],
   "source": [
    "quotes"
   ]
  },
  {
   "cell_type": "code",
   "execution_count": null,
   "id": "32e41b85",
   "metadata": {},
   "outputs": [],
   "source": [
    "trades.merge_asof(quotes, on=\"time\")"
   ]
  },
  {
   "cell_type": "markdown",
   "id": "04e022a9",
   "metadata": {},
   "source": [
    "## Analytic functionality"
   ]
  },
  {
   "cell_type": "code",
   "execution_count": null,
   "id": "c167fdc9",
   "metadata": {},
   "outputs": [],
   "source": [
    "# All the examples in this section will use this example table.\n",
    "kx.q('N: 100')\n",
    "tab = kx.q('([] sym: N?`AAPL`GOOG`MSFT; price: 250f - N?500f; traded: 100 - N?200; hold: N?0b)')\n",
    "tab"
   ]
  },
  {
   "cell_type": "markdown",
   "id": "be074715",
   "metadata": {},
   "source": [
    "### Table.abs()\n",
    "\n",
    "```\n",
    "Table.abs(numeric_only=False)\n",
    "```\n",
    "\n",
    "Take the absolute value of each element in the table. This will raise an error if there are columns that contain data that have no absolute value.\n",
    "\n",
    "**Parameters:**\n",
    "\n",
    "| Name         | Type | Description                                                                      | Default |\n",
    "| :----------: | :--: | :------------------------------------------------------------------------------- | :-----: |\n",
    "| numeric_only | bool | Only use columns of the table that can be converted to an absolute value.        | False   |\n",
    "\n",
    "**Returns:**\n",
    "\n",
    "| Type               | Description                                                          |\n",
    "| :----------------: | :------------------------------------------------------------------- |\n",
    "| Table / KeyedTable | The resulting table like object with only positive numerical values. |"
   ]
  },
  {
   "cell_type": "code",
   "execution_count": null,
   "id": "52f27400",
   "metadata": {
    "scrolled": true
   },
   "outputs": [],
   "source": [
    "tab.abs(numeric_only=True)"
   ]
  },
  {
   "cell_type": "markdown",
   "id": "85d42035",
   "metadata": {},
   "source": [
    "### Table.count()\n",
    "\n",
    "```\n",
    "Table.count(axis=0, numeric_only=False)\n",
    "```\n",
    "\n",
    "Returns the count of non null values across the given axis.\n",
    "\n",
    "**Parameters:**\n",
    "\n",
    "| Name         | Type | Description                                                                      | Default |\n",
    "| :----------: | :--: | :------------------------------------------------------------------------------- | :-----: |\n",
    "| axis         | int  | The axis to count elements across 1 is columns, 0 is rows.                | 0       |\n",
    "| numeric_only | bool | Only use columns of the table that are of a numeric data type.                   | False   |\n",
    "\n",
    "**Returns:**\n",
    "\n",
    "| Type               | Description                                                          |\n",
    "| :----------------: | :------------------------------------------------------------------- |\n",
    "| Dictionary         | A dictionary where the key represent the column name / row number and the values are the result of calling `count` on that column / row. |"
   ]
  },
  {
   "cell_type": "code",
   "execution_count": null,
   "id": "a53125cb",
   "metadata": {},
   "outputs": [],
   "source": [
    "tab.count()"
   ]
  },
  {
   "cell_type": "markdown",
   "id": "77a5a83f",
   "metadata": {},
   "source": [
    "### Table.max()\n",
    "\n",
    "```\n",
    "Table.max(axis=0, skipna=True, numeric_only=False)\n",
    "```\n",
    "\n",
    "Returns the maximum value across the given axis.\n",
    "\n",
    "**Parameters:**\n",
    "\n",
    "| Name         | Type | Description                                                                      | Default |\n",
    "| :----------: | :--: | :------------------------------------------------------------------------------- | :-----: |\n",
    "| axis         | int  | The axis to calculate the maximum across 0 is columns, 1 is rows.                | 0       |\n",
    "| skipna       | bool | Ignore any null values along the axis.                                           | True    |\n",
    "| numeric_only | bool | Only use columns of the table that are of a numeric data type.                   | False   |\n",
    "\n",
    "**Returns:**\n",
    "\n",
    "| Type               | Description                                                          |\n",
    "| :----------------: | :------------------------------------------------------------------- |\n",
    "| Dictionary         | A dictionary where the key represents the column name / row number and the values are the result of calling `max` on that column / row. |"
   ]
  },
  {
   "cell_type": "code",
   "execution_count": null,
   "id": "5aea50f5",
   "metadata": {},
   "outputs": [],
   "source": [
    "tab.max()"
   ]
  },
  {
   "cell_type": "markdown",
   "id": "d98b298c",
   "metadata": {},
   "source": [
    "### Table.idxmin()\n",
    "\n",
    "```\n",
    "Table.idxmax(axis=0, skipna=True, numeric_only=False)\n",
    "```\n",
    "\n",
    "Return index of first occurrence of minimum over requested axis.\n",
    "\n",
    "**Parameters:**\n",
    "\n",
    "| Name         | Type | Description                                                                      | Default |\n",
    "| :----------: | :--: | :------------------------------------------------------------------------------- | :-----: |\n",
    "| axis         | int  | The axis to calculate the idxmin across 0 is columns, 1 is rows.                | 0       |\n",
    "| skipna       | bool | Ignore any null values along the axis.                                           | True    |\n",
    "| numeric_only | bool | Only use columns of the table that are of a numeric data type.                   | False   |\n",
    "\n",
    "**Returns:**\n",
    "\n",
    "| Type               | Description                                                          |\n",
    "| :----------------: | :------------------------------------------------------------------- |\n",
    "| Dictionary         | A dictionary where the key represents the column name / row number and the values are the result of calling `idxmin` on that column / row. |"
   ]
  },
  {
   "cell_type": "markdown",
   "id": "143f5483",
   "metadata": {},
   "source": [
    "**Examples:**\n",
    "\n",
    "Calculate the idxmin across the columns of a table"
   ]
  },
  {
   "cell_type": "code",
   "execution_count": null,
   "id": "da7cbf8f",
   "metadata": {},
   "outputs": [],
   "source": [
    "tab.idxmin()"
   ]
  },
  {
   "cell_type": "markdown",
   "id": "fb531e00",
   "metadata": {},
   "source": [
    "Calculate the idxmin across the rows of a table using only columns thar are of a numeric data type"
   ]
  },
  {
   "cell_type": "code",
   "execution_count": null,
   "id": "9907226a",
   "metadata": {},
   "outputs": [],
   "source": [
    "tab.idxmin(axis=1, numeric_only=True)"
   ]
  },
  {
   "cell_type": "markdown",
   "id": "d98b298c",
   "metadata": {},
   "source": [
    "### Table.idxmax()\n",
    "\n",
    "```\n",
    "Table.idxmax(axis=0, skipna=True, numeric_only=False)\n",
    "```\n",
    "\n",
    "Return index of first occurrence of maximum over requested axis.\n",
    "\n",
    "**Parameters:**\n",
    "\n",
    "| Name         | Type | Description                                                                      | Default |\n",
    "| :----------: | :--: | :------------------------------------------------------------------------------- | :-----: |\n",
    "| axis         | int  | The axis to calculate the idxmax across 0 is columns, 1 is rows.                | 0       |\n",
    "| skipna       | bool | Ignore any null values along the axis.                                           | True    |\n",
    "| numeric_only | bool | Only use columns of the table that are of a numeric data type.                   | False   |\n",
    "\n",
    "**Returns:**\n",
    "\n",
    "| Type               | Description                                                          |\n",
    "| :----------------: | :------------------------------------------------------------------- |\n",
    "| Dictionary         | A dictionary where the key represents the column name / row number and the values are the result of calling `idxmax` on that column / row. |"
   ]
  },
  {
   "cell_type": "markdown",
   "id": "143f5483",
   "metadata": {},
   "source": [
    "**Examples:**\n",
    "\n",
    "Calculate the idxmax across the columns of a table"
   ]
  },
  {
   "cell_type": "code",
   "execution_count": null,
   "id": "da7cbf8f",
   "metadata": {},
   "outputs": [],
   "source": [
    "tab.idxmax()"
   ]
  },
  {
   "cell_type": "markdown",
   "id": "fb531e00",
   "metadata": {},
   "source": [
    "Calculate the idxmax across the rows of a table using only columns thar are of a numeric data type"
   ]
  },
  {
   "cell_type": "code",
   "execution_count": null,
   "id": "9907226a",
   "metadata": {},
   "outputs": [],
   "source": [
    "tab.idxmax(axis=1, numeric_only=True)"
   ]
  },
  {
   "cell_type": "markdown",
   "id": "301ab2c2",
   "metadata": {},
   "source": [
    "### Table.min()\n",
    "\n",
    "```\n",
    "Table.min(axis=0, skipna=True, numeric_only=False)\n",
    "```\n",
    "\n",
    "Returns the minimum value across the given axis.\n",
    "\n",
    "**Parameters:**\n",
    "\n",
    "| Name         | Type | Description                                                                      | Default |\n",
    "| :----------: | :--: | :------------------------------------------------------------------------------- | :-----: |\n",
    "| axis         | int  | The axis to calculate the minimum across 0 is columns, 1 is rows.                | 0       |\n",
    "| skipna       | bool | Ignore any null values along the axis.                                           | True    |\n",
    "| numeric_only | bool | Only use columns of the table that are of a numeric data type.                   | False   |\n",
    "\n",
    "**Returns:**\n",
    "\n",
    "| Type               | Description                                                          |\n",
    "| :----------------: | :------------------------------------------------------------------- |\n",
    "| Dictionary         | A dictionary where the key represents the column name / row number and the values are the result of calling `min` on that column / row. |"
   ]
  },
  {
   "cell_type": "code",
   "execution_count": null,
   "id": "9f13e8a7",
   "metadata": {},
   "outputs": [],
   "source": [
    "tab.min()"
   ]
  },
  {
   "cell_type": "markdown",
   "id": "1bf3da2a",
   "metadata": {},
   "source": [
    "### Table.sum()\n",
    "\n",
    "```\n",
    "Table.sum(axis=0, skipna=True, numeric_only=False, min_count=0)\n",
    "```\n",
    "\n",
    "Returns the sum of all values across the given axis.\n",
    "\n",
    "**Parameters:**\n",
    "\n",
    "| Name         | Type | Description                                                                      | Default |\n",
    "| :----------: | :--: | :------------------------------------------------------------------------------- | :-----: |\n",
    "| axis         | int  | The axis to calculate the sum across 0 is columns, 1 is rows.                    | 0       |\n",
    "| skipna       | bool | Ignore any null values along the axis.                                           | True    |\n",
    "| numeric_only | bool | Only use columns of the table that are of a numeric data type.                   | False   |\n",
    "| min_count    | int  | If not set to 0 if there are less then `min_count` values across the axis a null value will be returned | 0 |\n",
    "\n",
    "**Returns:**\n",
    "\n",
    "| Type               | Description                                                          |\n",
    "| :----------------: | :------------------------------------------------------------------- |\n",
    "| Dictionary         | A dictionary where the key represents the column name / row number and the values are the result of calling `sum` on that column / row. |"
   ]
  },
  {
   "cell_type": "code",
   "execution_count": null,
   "id": "09975a7a",
   "metadata": {},
   "outputs": [],
   "source": [
    "tab.sum()"
   ]
  },
  {
   "cell_type": "markdown",
   "id": "97920009",
   "metadata": {},
   "source": [
    "### Table.mean()\n",
    "\n",
    "```\n",
    "Table.mean(axis=0, numeric_only=False)\n",
    "```\n",
    "\n",
    "Get the mean of values across the requested axis.\n",
    "\n",
    "**Parameters:**\n",
    "\n",
    "| Name         | Type | Description                                                | Default |\n",
    "| :----------: | :--: | :--------------------------------------------------------- | :-----: |\n",
    "| axis         | int  | The axis to calculate mean across 0 is columns, 1 is rows. | 0       |\n",
    "| numeric_only | bool | Include only columns / rows with numeric data.             | False   |\n",
    "\n",
    "**Returns:**\n",
    "\n",
    "| Type       | Description                                                                                    |\n",
    "| :--------: | :--------------------------------------------------------------------------------------------- |\n",
    "| Dictionary | The mean across each row / column with the key corresponding to the row number or column name. |"
   ]
  },
  {
   "cell_type": "markdown",
   "id": "dee2e8cc",
   "metadata": {},
   "source": [
    "**Examples:**\n",
    "\n",
    "Calculate the mean across the columns of a table"
   ]
  },
  {
   "cell_type": "code",
   "execution_count": null,
   "id": "9d4c8a22",
   "metadata": {},
   "outputs": [],
   "source": [
    "tab = kx.Table(data=\n",
    "    {\n",
    "        'a': [1, 2, 2, 4],\n",
    "        'b': [1, 2, 6, 7],\n",
    "        'c': [7, 8, 9, 10],\n",
    "        'd': [7, 11, 14, 14]\n",
    "    }\n",
    ")\n",
    "tab"
   ]
  },
  {
   "cell_type": "code",
   "execution_count": null,
   "id": "d02c4cfd",
   "metadata": {},
   "outputs": [],
   "source": [
    "tab.mean()"
   ]
  },
  {
   "cell_type": "markdown",
   "id": "c6feb4ea",
   "metadata": {},
   "source": [
    "Calculate the mean across the rows of a table"
   ]
  },
  {
   "cell_type": "code",
   "execution_count": null,
   "id": "506a6867",
   "metadata": {},
   "outputs": [],
   "source": [
    "tab.mean(axis=1)"
   ]
  },
  {
   "cell_type": "markdown",
   "id": "cd714c1b",
   "metadata": {},
   "source": [
    "### Table.median()\n",
    "\n",
    "```\n",
    "Table.median(axis=0, numeric_only=False)\n",
    "```\n",
    "\n",
    "Get the median of values across the requested axis.\n",
    "\n",
    "**Parameters:**\n",
    "\n",
    "| Name         | Type | Description                                                  | Default |\n",
    "| :----------: | :--: | :----------------------------------------------------------- | :-----: |\n",
    "| axis         | int  | The axis to calculate median across 0 is columns, 1 is rows. | 0       |\n",
    "| numeric_only | bool | Include only columns / rows with numeric data.               | False   |\n",
    "\n",
    "**Returns:**\n",
    "\n",
    "| Type       | Description                                                                                      |\n",
    "| :--------: | :----------------------------------------------------------------------------------------------- |\n",
    "| Dictionary | The median across each row / column with the key corresponding to the row number or column name. |"
   ]
  },
  {
   "cell_type": "markdown",
   "id": "00d44518",
   "metadata": {},
   "source": [
    "**Examples:**\n",
    "\n",
    "Calculate the median across the columns of a table"
   ]
  },
  {
   "cell_type": "code",
   "execution_count": null,
   "id": "df20ecfc",
   "metadata": {},
   "outputs": [],
   "source": [
    "tab = kx.Table(data=\n",
    "    {\n",
    "        'a': [1, 2, 2, 4],\n",
    "        'b': [1, 2, 6, 7],\n",
    "        'c': [7, 8, 9, 10],\n",
    "        'd': [7, 11, 14, 14]\n",
    "    }\n",
    ")\n",
    "tab"
   ]
  },
  {
   "cell_type": "code",
   "execution_count": null,
   "id": "6e9dc5be",
   "metadata": {},
   "outputs": [],
   "source": [
    "tab.median()"
   ]
  },
  {
   "cell_type": "markdown",
   "id": "585d9d01",
   "metadata": {},
   "source": [
    "Calculate the median across the rows of a table"
   ]
  },
  {
   "cell_type": "code",
   "execution_count": null,
   "id": "6ccf50df",
   "metadata": {},
   "outputs": [],
   "source": [
    "tab.median(axis=1)"
   ]
  },
  {
   "cell_type": "markdown",
   "id": "aeec2045",
   "metadata": {},
   "source": [
    "### Table.mode()\n",
    "\n",
    "```\n",
    "Table.mode(axis=0, numeric_only=False, dropna=True)\n",
    "```\n",
    "\n",
    "Get the mode of values across the requested axis.\n",
    "\n",
    "**Parameters:**\n",
    "\n",
    "| Name         | Type | Description                                                   | Default |\n",
    "| :----------: | :--: | :------------------------------------------------------------ | :-----: |\n",
    "| axis         | int  | The axis to calculate mode across 0 is columns, 1 is rows.    | 0       |\n",
    "| numeric_only | bool | Include only columns / rows with numeric data.                | False   |\n",
    "| dropna       | bool | Remove null values from the data before calculating the mode. | True    |\n",
    "\n",
    "**Returns:**\n",
    "\n",
    "| Type       | Description                                                                                       |\n",
    "| :--------: | :------------------------------------------------------------------------------------------------ |\n",
    "| Table      | The mode across each row / column with the column corresponding to the row number or column name. |"
   ]
  },
  {
   "cell_type": "markdown",
   "id": "c52ffed8",
   "metadata": {},
   "source": [
    "**Examples:**\n",
    "\n",
    "Calculate the mode across the columns of a table"
   ]
  },
  {
   "cell_type": "code",
   "execution_count": null,
   "id": "786fe3b6",
   "metadata": {},
   "outputs": [],
   "source": [
    "tab = kx.Table(data=\n",
    "    {\n",
    "        'a': [1, 2, 2, 4],\n",
    "        'b': [1, 2, 6, 7],\n",
    "        'c': [7, 8, 9, 10],\n",
    "        'd': [7, 11, 14, 14]\n",
    "    }\n",
    ")\n",
    "tab"
   ]
  },
  {
   "cell_type": "code",
   "execution_count": null,
   "id": "58909ffa",
   "metadata": {
    "scrolled": true
   },
   "outputs": [],
   "source": [
    "tab.mode()"
   ]
  },
  {
   "cell_type": "markdown",
   "id": "7d437b70",
   "metadata": {},
   "source": [
    "Calculate the median across the rows of a table"
   ]
  },
  {
   "cell_type": "code",
   "execution_count": null,
   "id": "cfa17533",
   "metadata": {},
   "outputs": [],
   "source": [
    "tab.mode(axis=1)"
   ]
  },
  {
   "cell_type": "markdown",
   "id": "4c270df3",
   "metadata": {},
   "source": [
    "Calculate the mode across columns and keep null values."
   ]
  },
  {
   "cell_type": "code",
   "execution_count": null,
   "id": "80afc141",
   "metadata": {
    "scrolled": true
   },
   "outputs": [],
   "source": [
    "tab = kx.Table(data=\n",
    "    {\n",
    "        'x': [0, 1, 2, 3, 4, 5, 6, 7, np.NaN, np.NaN],\n",
    "        'y': [10, 11, 12, 13, 14, 15, 16, 17, 18, np.NaN],\n",
    "        'z': ['a', 'b', 'c', 'd', 'd', 'e', 'e', 'f', 'g', 'h']\n",
    "    }\n",
    ")\n",
    "tab"
   ]
  },
  {
   "cell_type": "code",
   "execution_count": null,
   "id": "4e3300f5",
   "metadata": {},
   "outputs": [],
   "source": [
    "tab.mode(dropna=False)"
   ]
  },
  {
   "cell_type": "markdown",
   "id": "4117c73f",
   "metadata": {},
   "source": [
    "### Table.prod()\n",
    "\n",
    "```\n",
    "Table.prod(axis=0, skipna=True, numeric_only=False, min_count=0)\n",
    "```\n",
    "\n",
    "Returns the product of all values across the given axis.\n",
    "\n",
    "**Parameters:**\n",
    "\n",
    "| Name         | Type | Description                                                                      | Default |\n",
    "| :----------: | :--: | :------------------------------------------------------------------------------- | :-----: |\n",
    "| axis         | int  | The axis to calculate the product across 0 is columns, 1 is rows.                | 0       |\n",
    "| skipna       | bool | Ignore any null values along the axis.                                           | True    |\n",
    "| numeric_only | bool | Only use columns of the table that are of a numeric data type.                   | False   |\n",
    "| min_count    | int  | If not set to 0 if there are less then `min_count` values across the axis a null value will be returned | 0 |\n",
    "\n",
    "**Returns:**\n",
    "\n",
    "| Type               | Description                                                          |\n",
    "| :----------------: | :------------------------------------------------------------------- |\n",
    "| Dictionary         | A dictionary where the key represents the column name / row number and the values are the result of calling `prd` on that column / row. |"
   ]
  },
  {
   "cell_type": "code",
   "execution_count": null,
   "id": "a6c64b75",
   "metadata": {
    "scrolled": true
   },
   "outputs": [],
   "source": [
    "# This example will use a smaller version of the above table\n",
    "# as the result of calculating the product quickly goes over the integer limits.\n",
    "kx.q('N: 10')\n",
    "tab = kx.q('([] sym: N?`AAPL`GOOG`MSFT; price: 2.5f - N?5f; traded: 10 - N?20; hold: N?0b)')\n",
    "tab[tab['traded'] == 0, 'traded'] = 1\n",
    "tab[tab['price'] == 0, 'price'] = 1.0\n",
    "tab"
   ]
  },
  {
   "cell_type": "code",
   "execution_count": null,
   "id": "540297e2",
   "metadata": {},
   "outputs": [],
   "source": [
    "tab.prod(numeric_only=True)"
   ]
  },
  {
   "cell_type": "markdown",
   "id": "fe565b65-fbf2-47ba-a26e-791d09fd4f55",
   "metadata": {},
   "source": [
    "### Table.kurt()\n",
    "\n",
    "```\n",
    "Table.kurt(axis=0, skipna=True, numeric_only=False)\n",
    "```\n",
    "\n",
    "Return unbiased kurtosis over requested axis. Kurtosis obtained using Fisher’s definition of kurtosis (kurtosis of normal == 0.0). Normalized by N-1.\n",
    "\n",
    "\n",
    "**Parameters:**\n",
    "\n",
    "| Name         | Type | Description                                                                      | Default |\n",
    "| :----------: | :--: | :------------------------------------------------------------------------------- | :-----: |\n",
    "| axis         | int  | Axis for the function to be applied on. 0 is columns, 1 is rows.                    | 0       |\n",
    "| skipna       | bool | not yet implemented                                           | True    |\n",
    "| numeric_only | bool | Only use columns of the table that are of a numeric data type.                   | False   |\n",
    "\n",
    "**Returns:**\n",
    "\n",
    "| Type       | Description                                                                              |\n",
    "| :--------: | :--------------------------------------------------------------------------------------- |\n",
    "| Dictionary | Map of columns and their yielded kurtosis values |"
   ]
  },
  {
   "cell_type": "markdown",
   "id": "e6069cac-d260-4f80-9688-3d1ec273cd22",
   "metadata": {},
   "source": [
    "**Examples:**\n",
    "\n",
    "Calculate the kurt across the columns of a table"
   ]
  },
  {
   "cell_type": "code",
   "execution_count": null,
   "id": "4219c826-a84b-4722-9847-372d3837acdb",
   "metadata": {},
   "outputs": [],
   "source": [
    "tab = kx.Table(data=\n",
    "    {\n",
    "        'a': [1, 2, 2, 4],\n",
    "        'b': [1, 2, 6, 7],\n",
    "        'c': [7, 8, 9, 10],\n",
    "        'd': [7, 11, 14, 14]\n",
    "    }\n",
    ")\n",
    "tab"
   ]
  },
  {
   "cell_type": "code",
   "execution_count": null,
   "id": "437ab485-bf73-4209-b63e-aa0d1bfa5d58",
   "metadata": {},
   "outputs": [],
   "source": [
    "tab.kurt()"
   ]
  },
  {
   "cell_type": "markdown",
   "id": "ea3e1cf6-2304-4061-a846-1cbc0572ea9d",
   "metadata": {},
   "source": [
    "Calculate the kurtosis across the rows of a table"
   ]
  },
  {
   "cell_type": "code",
   "execution_count": null,
   "id": "63312e8b-76f0-46eb-b4d7-b2213561c86e",
   "metadata": {},
   "outputs": [],
   "source": [
    "tab.kurt(axis=1)"
   ]
  },
  {
   "cell_type": "markdown",
   "id": "b248fef1",
   "metadata": {},
   "source": [
    "### Table.sem()\n",
    "\n",
    "```\n",
    "Table.sem(axis=0, skipna=True, numeric_only=False, ddof=0)\n",
    "```\n",
    "Return unbiased standard error of the mean over requested axis. Normalized by N-1 by default. This can be changed using the ddof argument\n",
    "\n",
    "**Parameters:**\n",
    "\n",
    "| Name         | Type | Description                                                                      | Default |\n",
    "| :----------: | :--: | :------------------------------------------------------------------------------- | :-----: |\n",
    "| axis         | int  | The axis to calculate the sum across 0 is columns, 1 is rows.                    | 0       |\n",
    "| skipna       | bool | not yet implemented                                           | True    |\n",
    "| numeric_only | bool | Only use columns of the table that are of a numeric data type.                   | False   |\n",
    "| ddof    | int  | Delta Degrees of Freedom. The divisor used in calculations is N - ddof, where N represents the number of elements. | 1 |\n",
    "\n",
    "**Returns:**\n",
    "\n",
    "| Type               | Description                                                          |\n",
    "| :----------------: | :------------------------------------------------------------------- |\n",
    "| Dictionary         | The sem across each row / column with the key corresponding to the row number or column name. |"
   ]
  },
  {
   "cell_type": "markdown",
   "id": "71bd1d6f",
   "metadata": {},
   "source": [
    "**Examples**\n",
    "\n",
    "Calculate the sem across the columns of a table"
   ]
  },
  {
   "cell_type": "code",
   "execution_count": null,
   "id": "350c2b7c",
   "metadata": {},
   "outputs": [],
   "source": [
    "tab = kx.Table(data=\n",
    "        {\n",
    "            'a': [1, 2, 2, 4],\n",
    "            'b': [1, 2, 6, 7],\n",
    "            'c': [7, 8, 9, 10],\n",
    "            'd': [7, 11, 14, 14],\n",
    "        }\n",
    "    )\n",
    "tab"
   ]
  },
  {
   "cell_type": "code",
   "execution_count": null,
   "id": "b89307e9",
   "metadata": {},
   "outputs": [],
   "source": [
    "tab.sem()"
   ]
  },
  {
   "cell_type": "markdown",
   "id": "6933f01f",
   "metadata": {},
   "source": [
    "Calculate the sem across the rows of a table"
   ]
  },
  {
   "cell_type": "code",
   "execution_count": null,
   "id": "3edd3feb",
   "metadata": {},
   "outputs": [],
   "source": [
    "tab.sem(axis=1)"
   ]
  },
  {
   "cell_type": "markdown",
   "id": "ae7afe5a",
   "metadata": {},
   "source": [
    "Calculate sem accross columns with ddof=0:"
   ]
  },
  {
   "cell_type": "code",
   "execution_count": null,
   "id": "de626961",
   "metadata": {},
   "outputs": [],
   "source": [
    "tab.sem(ddof=0)"
   ]
  },
  {
   "cell_type": "markdown",
   "id": "c777923e",
   "metadata": {},
   "source": [
    "### Table.skew()\n",
    "\n",
    "```\n",
    "Table.skew(axis=0, skipna=True, numeric_only=False)\n",
    "```\n",
    "\n",
    "Returns the skewness of all values across the given axis.\n",
    "\n",
    "**Parameters:**\n",
    "\n",
    "| Name         | Type | Description                                                                      | Default |\n",
    "| :----------: | :--: | :------------------------------------------------------------------------------- | :-----: |\n",
    "| axis         | int  | The axis to calculate the skewness across 0 is columns, 1 is rows.                | 0       |\n",
    "| skipna       | bool | Ignore any null values along the axis.                                           | True    |\n",
    "| numeric_only | bool | Only use columns of the table that are of a numeric data type.                   | False   |\n",
    "\n",
    "\n",
    "**Returns:**\n",
    "\n",
    "| Type               | Description                                                          |\n",
    "| :----------------: | :------------------------------------------------------------------- |\n",
    "| Dictionary         | A dictionary where the key represent the column name / row number and the values are the result of calling `skew` on that column / row. |"
   ]
  },
  {
   "cell_type": "code",
   "execution_count": null,
   "id": "fc109f0f",
   "metadata": {},
   "outputs": [],
   "source": [
    "tab.skew(numeric_only=True)"
   ]
  },
  {
   "cell_type": "markdown",
   "id": "22940e03",
   "metadata": {},
   "source": [
    "### Table.std()\n",
    "\n",
    "```\n",
    "Table.std(axis=0, skipna=True, numeric_only=False, ddof=0)\n",
    "```\n",
    "\n",
    "Return sample standard deviation over requested axis. Normalized by N-1 by default. This can be changed using the ddof argument.\n",
    "\n",
    "\n",
    "**Parameters:**\n",
    "\n",
    "| Name         | Type | Description                                                                      | Default |\n",
    "| :----------: | :--: | :------------------------------------------------------------------------------- | :-----: |\n",
    "| axis         | int  | The axis to calculate the sum across 0 is columns, 1 is rows.                    | 0       |\n",
    "| skipna       | bool | not yet implemented                                           | True    |\n",
    "| numeric_only | bool | Only use columns of the table that are of a numeric data type.                   | False   |\n",
    "| ddof    | int  | Delta Degrees of Freedom. The divisor used in calculations is N - ddof, where N represents the number of elements. | 1 |\n",
    "\n",
    "**Returns:**\n",
    "\n",
    "| Type               | Description                                                          |\n",
    "| :----------------: | :------------------------------------------------------------------- |\n",
    "| Table         | The std across each row / column with the key corresponding to the row number or column name. |"
   ]
  },
  {
   "cell_type": "markdown",
   "id": "292f9c39",
   "metadata": {},
   "source": [
    "**Examples:**\n",
    "\n",
    "Calculate the std across the columns of a table"
   ]
  },
  {
   "cell_type": "code",
   "execution_count": null,
   "id": "f2df159e",
   "metadata": {},
   "outputs": [],
   "source": [
    "tab = kx.Table(data=\n",
    "    {\n",
    "        'a': [1, 2, 2, 4],\n",
    "        'b': [1, 2, 6, 7],\n",
    "        'c': [7, 8, 9, 10],\n",
    "        'd': [7, 11, 14, 14]\n",
    "    }\n",
    ")\n",
    "tab"
   ]
  },
  {
   "cell_type": "code",
   "execution_count": null,
   "id": "63d45751",
   "metadata": {},
   "outputs": [],
   "source": [
    "tab.std()"
   ]
  },
  {
   "cell_type": "markdown",
   "id": "2e9705de",
   "metadata": {},
   "source": [
    "Calculate the std across the rows of a table"
   ]
  },
  {
   "cell_type": "code",
   "execution_count": null,
   "id": "8edf71a4",
   "metadata": {},
   "outputs": [],
   "source": [
    "tab.std(axis=1)"
   ]
  },
  {
   "cell_type": "markdown",
   "id": "1ef61cd5",
   "metadata": {},
   "source": [
    "Calculate std accross columns with ddof=0:"
   ]
  },
  {
   "cell_type": "code",
   "execution_count": null,
   "id": "0f66fe87",
   "metadata": {},
   "outputs": [],
   "source": [
    "tab.std(ddof=0)"
   ]
  },
  {
   "cell_type": "markdown",
   "id": "c80d90ae",
   "metadata": {},
   "source": [
    "## Group By"
   ]
  },
  {
   "cell_type": "markdown",
   "id": "2e1d05d5",
   "metadata": {},
   "source": [
    "### Table.groupby()\n",
    "\n",
    "```\n",
    "Table.groupby(\n",
    "    by=None,\n",
    "    axis=0,\n",
    "    level=None,\n",
    "    as_index=True,\n",
    "    sort=True,\n",
    "    group_keys=True,\n",
    "    observed=False,\n",
    "    dropna=True\n",
    ")\n",
    "```\n",
    "\n",
    "Group data based on like values within columns to easily apply operations on groups.\n",
    "\n",
    "**Parameters:**\n",
    "\n",
    "| Name             | Type | Description                                                                 | Default  |\n",
    "| :--------------: | :--: | :-------------------------------------------------------------------------- | :------: |\n",
    "| by         | Union[Symbol/SymbolVector/int/list] | The column name(s) or column index(es) to group the data on. | None |\n",
    "| axis       | int                                 | Not Yet Implemented.                            | 0        |\n",
    "| level      | Union[Symbol/SymbolVector/int/list] | The column name(s) or column index(es) to group the data on. | None | \n",
    "| as_index   | bool                                | Return the table with groups as the key column. | True     |\n",
    "| sort       | bool                                | Sort the resulting table based off the key.     | True     |\n",
    "| group_keys | bool                                | Not Yet Implemented.                            | True     | \n",
    "| observed   | bool                                | Not Yet Implemented.                            | False    |\n",
    "| dropna     | bool                                | Drop groups where the group is null.            | True     |  \n",
    "\n",
    "Either `by` or `level` can be used to specify the columns to group on, using both will raise an error.\n",
    "\n",
    "Using and integer or list of integers is only possible when calling `groupby` on a `KeyedTable` object.\n",
    "\n",
    "**Returns:**\n",
    "\n",
    "| Type         | Description                                     |\n",
    "| :----------: | :---------------------------------------------- |\n",
    "| GroupbyTable | The resulting table after the grouping is done. |\n",
    "\n",
    "**Examples:**\n",
    "\n",
    "Example Table."
   ]
  },
  {
   "cell_type": "code",
   "execution_count": null,
   "id": "c0454f7d",
   "metadata": {
    "scrolled": true
   },
   "outputs": [],
   "source": [
    "tab = kx.Table(data={\n",
    "    'Animal': ['Falcon', 'Falcon', 'Parrot', 'Parrot'],\n",
    "    'Max Speed': [380., 370., 24., 26.],\n",
    "    'Max Altitude': [570., 555., 275., 300.]\n",
    "})\n",
    "\n",
    "tab"
   ]
  },
  {
   "cell_type": "markdown",
   "id": "55b6b4e0",
   "metadata": {},
   "source": [
    "Group on the `Animal` column and calculate the mean of the resulting `Max Speed` and `Max Altitude` columns."
   ]
  },
  {
   "cell_type": "code",
   "execution_count": null,
   "id": "30c55810",
   "metadata": {
    "scrolled": true
   },
   "outputs": [],
   "source": [
    "tab.groupby(kx.SymbolVector(['Animal'])).mean()"
   ]
  },
  {
   "cell_type": "markdown",
   "id": "0e62a99f",
   "metadata": {},
   "source": [
    "Example table with multiple columns to group on."
   ]
  },
  {
   "cell_type": "code",
   "execution_count": null,
   "id": "0ceddbbf",
   "metadata": {},
   "outputs": [],
   "source": [
    "tab = kx.q('2!', kx.Table(\n",
    "    data={\n",
    "        'Animal': ['Falcon', 'Falcon', 'Parrot', 'Parrot', 'Parrot'],\n",
    "        'Type': ['Captive', 'Wild', 'Captive', 'Wild', 'Wild'],\n",
    "        'Max Speed': [390., 350., 30., 20., 25.]\n",
    "    }\n",
    "))\n",
    "tab"
   ]
  },
  {
   "cell_type": "markdown",
   "id": "7e43e1bc",
   "metadata": {},
   "source": [
    "Group on multiple columns using thier indexes."
   ]
  },
  {
   "cell_type": "code",
   "execution_count": null,
   "id": "c281e305",
   "metadata": {},
   "outputs": [],
   "source": [
    "tab.groupby(level=[0, 1]).mean()"
   ]
  },
  {
   "cell_type": "markdown",
   "id": "e5d04220",
   "metadata": {},
   "source": [
    "Example table with Nulls."
   ]
  },
  {
   "cell_type": "code",
   "execution_count": null,
   "id": "ae67684c",
   "metadata": {},
   "outputs": [],
   "source": [
    "tab = kx.Table(\n",
    "    [\n",
    "        [\"a\", 12, 12],\n",
    "        [kx.q('`'), 12.3, 33.],\n",
    "        [\"b\", 12.3, 123],\n",
    "        [\"a\", 1, 1]\n",
    "    ],\n",
    "    columns=[\"a\", \"b\", \"c\"]\n",
    ")\n",
    "tab"
   ]
  },
  {
   "cell_type": "markdown",
   "id": "512021d7",
   "metadata": {},
   "source": [
    "Group on column `a` and keep null groups."
   ]
  },
  {
   "cell_type": "code",
   "execution_count": null,
   "id": "a09a6d3a",
   "metadata": {
    "scrolled": true
   },
   "outputs": [],
   "source": [
    "tab.groupby('a', dropna=False).sum()"
   ]
  },
  {
   "cell_type": "markdown",
   "id": "4ca2006b",
   "metadata": {},
   "source": [
    "Group on column `a` keeping null groups and not using the groups as an index column."
   ]
  },
  {
   "cell_type": "code",
   "execution_count": null,
   "id": "caa2576e",
   "metadata": {},
   "outputs": [],
   "source": [
    "tab.groupby('a', dropna=False, as_index=False).sum()"
   ]
  },
  {
   "cell_type": "markdown",
   "id": "660b3c92",
   "metadata": {},
   "source": [
    "## Apply\n",
    "\n",
    "### Table.apply()\n",
    "\n",
    "```\n",
    "Table.apply(\n",
    "    func,\n",
    "    *args,\n",
    "    axis=0,\n",
    "    raw=None,\n",
    "    result_type=None,\n",
    "    **kwargs\n",
    ")\n",
    "```\n",
    "\n",
    "Apply a function along an axis of the DataFrame.\n",
    "\n",
    "Objects passed to a function are passed as kx list objects.\n",
    "\n",
    "**Parameters:**\n",
    "\n",
    "| Name             | Type                                | Description                                                                  | Default  |\n",
    "| :--------------: | :---------------------------------: | :-------------------------------------------------------------------------- | :------: |\n",
    "| func             | function | Function to apply to each column or row. |  |\n",
    "| `*args`          | any      | Positional arguments to pass to `func` in addition to the kx list.                            | |\n",
    "| axis             | int      | The axis along which the function is applied, `0` applies function to each column, `1` applied function to each row. | 0 | \n",
    "| raw              | bool     | Not yet implemented. | None     |\n",
    "| result_type      | str      | Not yet implemented.     | None     |\n",
    "| `**kwargs`       | dict     | Additional keyword arguments to pass as keywords to `func`, this argument is not implemented in the case `func` is a kx callable function.                            | None     | \n",
    "\n",
    "\n",
    "**Returns:**\n",
    "\n",
    "| Type                      | Description                                     |\n",
    "| :-----------------------: | :---------------------------------------------- |\n",
    "| List, Dictionary or Table | Result of applying `func` along the giveen axis of the `kx.Table`. |\n",
    "\n",
    "**Examples:**\n",
    "\n",
    "Example Table."
   ]
  },
  {
   "cell_type": "code",
   "execution_count": null,
   "id": "d746cddb",
   "metadata": {},
   "outputs": [],
   "source": [
    "tab = kx.Table([[4, 9]] * 3, columns=['A', 'B'])\n",
    "\n",
    "tab"
   ]
  },
  {
   "cell_type": "markdown",
   "id": "54c09d0c",
   "metadata": {},
   "source": [
    "Apply square root on each item within a column"
   ]
  },
  {
   "cell_type": "code",
   "execution_count": null,
   "id": "f8bbcac7",
   "metadata": {},
   "outputs": [],
   "source": [
    "tab.apply(kx.q.sqrt)"
   ]
  },
  {
   "cell_type": "markdown",
   "id": "09a61483",
   "metadata": {},
   "source": [
    "Apply a reducing function sum on either axis"
   ]
  },
  {
   "cell_type": "code",
   "execution_count": null,
   "id": "84b92b9b",
   "metadata": {},
   "outputs": [],
   "source": [
    "tab.apply(kx.q.sum)"
   ]
  },
  {
   "cell_type": "code",
   "execution_count": null,
   "id": "169d8ed3",
   "metadata": {},
   "outputs": [],
   "source": [
    "tab.apply(lambda x: sum(x), axis=1)"
   ]
  },
  {
   "cell_type": "markdown",
   "id": "ed4d720c",
   "metadata": {},
   "source": [
    "## Aggregate\n",
    "\n",
    "### Table.agg()\n",
    "\n",
    "```\n",
    "Table.agg(\n",
    "    func,\n",
    "    axis=0,\n",
    "    *args,\n",
    "    **kwargs\n",
    ")\n",
    "```\n",
    "\n",
    "Aggregate data using one or more operations over a specified axis\n",
    "\n",
    "Objects passed to a function are passed as kx vector/list objects.\n",
    "\n",
    "**Parameters:**\n",
    "\n",
    "| Name             | Type                                | Description                                                                  | Default  |\n",
    "| :--------------: | :---------------------------------: | :-------------------------------------------------------------------------- | :------: |\n",
    "| func             | function, str, list or dict | Function to use for aggregating the data. If a function this must either work when passed a `Table` or when passed to `Table.apply`<br><br>Accepted combinations are:<br><ul><li>function</li><li>string function name</li><li>list of functions and/or function names, e.g. `[kx.q.sum, 'mean']`</li><li>dict of axis labels -> functions or function names</li><ul> |  |\n",
    "| `*args`          | any      | Positional arguments to pass to `func` in addition to the kx list.                            | |\n",
    "| axis             | int      | The axis along which the function is applied, `0` applies function to each column, at present row based application is not supported. | 0 | \n",
    "| `**kwargs`       | dict     | Additional keyword arguments to pass as keywords to `func`, this argument is not implemented in the case `func` is a kx callable function.                            | None     | \n",
    "\n",
    "\n",
    "**Returns:**\n",
    "\n",
    "| Type                      | Description                                     |\n",
    "| :-----------------------: | :---------------------------------------------- |\n",
    "| List, Dictionary or Table | Result of applying `func` along the giveen axis of the `kx.Table`. |\n",
    "\n",
    "**Examples:**\n",
    "\n",
    "Example Table."
   ]
  },
  {
   "cell_type": "code",
   "execution_count": null,
   "id": "2696cf42",
   "metadata": {},
   "outputs": [],
   "source": [
    "tab = kx.Table([[1, 2, 3],\n",
    "                   [4, 5, 6],\n",
    "                   [7, 8, 9],\n",
    "                   [kx.FloatAtom.null, kx.FloatAtom.null, kx.FloatAtom.null]],\n",
    "                  columns=['A', 'B', 'C'])\n",
    "\n",
    "tab"
   ]
  },
  {
   "cell_type": "markdown",
   "id": "3f90677b",
   "metadata": {},
   "source": [
    "Aggregate a list of functions over rows"
   ]
  },
  {
   "cell_type": "code",
   "execution_count": null,
   "id": "861e5787",
   "metadata": {},
   "outputs": [],
   "source": [
    "tab.agg(['sum', 'min'])"
   ]
  },
  {
   "cell_type": "markdown",
   "id": "ccdaee01",
   "metadata": {},
   "source": [
    "Perform an aggregation using a user specified function"
   ]
  },
  {
   "cell_type": "code",
   "execution_count": null,
   "id": "b5f9f25b",
   "metadata": {},
   "outputs": [],
   "source": [
    "import statistics\n",
    "def mode(x):\n",
    "    return statistics.mode(x)\n",
    "tab.agg(mode)"
   ]
  },
  {
   "cell_type": "markdown",
   "id": "667d9961",
   "metadata": {},
   "source": [
    "Apply an aggregation supplying column specification for supplied function"
   ]
  },
  {
   "cell_type": "code",
   "execution_count": null,
   "id": "60845603",
   "metadata": {},
   "outputs": [],
   "source": [
    "tab.agg({'A': 'max', 'B': mode})"
   ]
  },
  {
   "cell_type": "markdown",
   "id": "256f5496",
   "metadata": {},
   "source": [
    "## Data Preprocessing"
   ]
  },
  {
   "cell_type": "markdown",
   "id": "976e633c",
   "metadata": {},
   "source": [
    "### Table.add_prefix()\n",
    "\n",
    "```\n",
    "Table.add_prefix(columns)\n",
    "```\n",
    "\n",
    "Rename columns adding a prefix in a table and return the resulting Table object.\n",
    "\n",
    "**Parameters:**\n",
    "\n",
    "| Name    | Type            | Description                                                         | Default    |\n",
    "| :-----: | :-------------: | :------------------------------------------------------------------ | :--------: |\n",
    "| prefix  | str             | The string that will be concatenated with the name of the columns   | _required_ |\n",
    "| axis    | int             | Axis to add prefix on.                                              | 0          |\n",
    "\n",
    "**Returns:**\n",
    "\n",
    "| Type  | Description                                                        |\n",
    "| :---: | :----------------------------------------------------------------- |\n",
    "| Table | A table with the given column(s) renamed adding a prefix.                          |"
   ]
  },
  {
   "cell_type": "markdown",
   "id": "77ff0376",
   "metadata": {},
   "source": [
    "**Examples:**\n",
    "\n",
    "The initial table to which a prefix will be added to its columns"
   ]
  },
  {
   "cell_type": "code",
   "execution_count": null,
   "id": "c71b39c6",
   "metadata": {},
   "outputs": [],
   "source": [
    "tab.head()"
   ]
  },
  {
   "cell_type": "markdown",
   "id": "8b6968da",
   "metadata": {},
   "source": [
    "Add \"col_\" to table columns:"
   ]
  },
  {
   "cell_type": "code",
   "execution_count": null,
   "id": "aa98ca46",
   "metadata": {},
   "outputs": [],
   "source": [
    "tab.add_prefix(prefix=\"col_\").head()"
   ]
  },
  {
   "cell_type": "markdown",
   "id": "5f87eeba",
   "metadata": {},
   "source": [
    "### Table.add_suffix()\n",
    "\n",
    "```\n",
    "Table.add_suffix(columns)\n",
    "```\n",
    "\n",
    "Rename columns adding a suffix in a table and return the resulting Table object.\n",
    "\n",
    "**Parameters:**\n",
    "\n",
    "| Name    | Type            | Description                                                         | Default    |\n",
    "| :-----: | :-------------: | :------------------------------------------------------------------ | :--------: |\n",
    "| suffix  | str             | The string that will be concatenated with the name of the columns   | _required_ |\n",
    "| axis    | int             | Axis to add suffix on.                                              | 0          |\n",
    "\n",
    "**Returns:**\n",
    "\n",
    "| Type  | Description                                                        |\n",
    "| :---: | :----------------------------------------------------------------- |\n",
    "| Table | A table with the given column(s) renamed adding a suffix.          |"
   ]
  },
  {
   "cell_type": "markdown",
   "id": "dc449e82",
   "metadata": {},
   "source": [
    "**Examples:**\n",
    "\n",
    "The initial table to which a suffix will be added to its columns"
   ]
  },
  {
   "cell_type": "code",
   "execution_count": null,
   "id": "4471a14b",
   "metadata": {},
   "outputs": [],
   "source": [
    "tab.head()"
   ]
  },
  {
   "cell_type": "markdown",
   "id": "b01dfa6c",
   "metadata": {},
   "source": [
    "Add \"_col\" to table columns:"
   ]
  },
  {
   "cell_type": "code",
   "execution_count": null,
   "id": "c7c46631",
   "metadata": {},
   "outputs": [],
   "source": [
    "tab.add_suffix(suffix=\"_col\").head()"
   ]
  },
  {
   "cell_type": "markdown",
   "id": "d56eeae9",
   "metadata": {},
   "source": [
    "### Table.astype()\n",
    "\n",
    "```\n",
    "Table.astype(dtype, copy=True, errors='raise')\n",
    "```\n",
    "\n",
    "Cast a column/columns of the Dataframes object to a specified `dtype`.\n",
    "\n",
    "**Parameters:**\n",
    "\n",
    "| Name | Type | Description | Default |\n",
    "| :-: | :-: | :-: | :-: |\n",
    "| dtype | data type, or dict of column name -> data type | Use a PyKx wrapper data type or Python type to cast all columns to the same type. Alternatively, use {col: dtype, …}, where col is a column label and dtype is PyKx wrapper data type to cast one or more of the DataFrame’s columns to column-specific types. |  |\n",
    "| copy |  Boolean | Default of True, False not implemented | True |\n",
    "| errors |  {‘raise’, ‘ignore’} | If passed anything other than 'raise', it will return the dataframe | 'raise' |\n",
    "\n",
    "\n",
    "**Returns:**\n",
    "\n",
    "| Type | Description |\n",
    "| :-: | :-: |\n",
    "| Dataframe | The dataframe with columns casted according to passed dtypes |"
   ]
  },
  {
   "cell_type": "markdown",
   "id": "5d27ccde",
   "metadata": {},
   "source": [
    "**Examples:**\n",
    "\n",
    "The examples in the section will use the example table."
   ]
  },
  {
   "cell_type": "code",
   "execution_count": null,
   "id": "63d18dce",
   "metadata": {},
   "outputs": [],
   "source": [
    "df = kx.q('([] c1:1 2 3i; c2:1 2 3j; c3:1 2 3h; c4:1 2 3i)')"
   ]
  },
  {
   "cell_type": "markdown",
   "id": "4e6fad4f",
   "metadata": {},
   "source": [
    "Cast all columns to dtype LongVector"
   ]
  },
  {
   "cell_type": "code",
   "execution_count": null,
   "id": "0ef76c1e",
   "metadata": {},
   "outputs": [],
   "source": [
    "df.astype(kx.LongVector)"
   ]
  },
  {
   "cell_type": "markdown",
   "id": "1846286e",
   "metadata": {},
   "source": [
    "Casting as specified in the dictionary supplied with given dtype per column"
   ]
  },
  {
   "cell_type": "code",
   "execution_count": null,
   "id": "a4cc4bb7",
   "metadata": {},
   "outputs": [],
   "source": [
    "df.astype({'c1':kx.LongVector, 'c2':'kx.ShortVector'})"
   ]
  },
  {
   "cell_type": "markdown",
   "id": "c77a5800",
   "metadata": {},
   "source": [
    "The next example will use this table"
   ]
  },
  {
   "cell_type": "code",
   "execution_count": null,
   "id": "78b91d9f",
   "metadata": {},
   "outputs": [],
   "source": [
    "df = kx.q('([] c1:3#.z.p; c2:`abc`def`ghi; c3:1 2 3j; c4:(\"abc\";\"def\";\"ghi\");c5:\"abc\";c6:(1 2 3;4 5 6;7 8 9))')"
   ]
  },
  {
   "cell_type": "markdown",
   "id": "e89a0596",
   "metadata": {},
   "source": [
    "Casting char and string columns to symbol columns"
   ]
  },
  {
   "cell_type": "code",
   "execution_count": null,
   "id": "599dca72",
   "metadata": {},
   "outputs": [],
   "source": [
    "df.astype({'c4':kx.SymbolVector, 'c5':kx.SymbolVector})"
   ]
  },
  {
   "cell_type": "markdown",
   "id": "92ab62d2",
   "metadata": {},
   "source": [
    "### Table.drop()\n",
    "\n",
    "```\n",
    "Table.drop(item, axis=0)\n",
    "```\n",
    "\n",
    "Remove either columns or rows from a table and return the resulting Table object.\n",
    "\n",
    "**Parameters:**\n",
    "\n",
    "| Name    | Type                   | Description                                                 | Default    |\n",
    "| :-----: | :--------------------: | :---------------------------------------------------------- | :--------: |\n",
    "| item    | Union[str, list[str]]  | The column name(s) or row number(s) to drop from the table. | _required_ |\n",
    "| axis    | int                    | The column name or list of names to pop from the table.     | 0          |\n",
    "\n",
    "**Returns:**\n",
    "\n",
    "| Type  | Description                                                        |\n",
    "| :---: | :----------------------------------------------------------------- |\n",
    "| Table | A table with the given column(s) / row(s) removed.                 |"
   ]
  },
  {
   "cell_type": "markdown",
   "id": "756e1611",
   "metadata": {},
   "source": [
    "**Examples:**\n",
    "\n",
    "Drop rows from a table."
   ]
  },
  {
   "cell_type": "code",
   "execution_count": null,
   "id": "60fb2684",
   "metadata": {},
   "outputs": [],
   "source": [
    "# The examples in this section will use this example table filled with random data\n",
    "kx.q('N: 1000')\n",
    "tab = kx.q('([] x: til N; y: N?`AAPL`GOOG`MSFT; z: N?500f; w: N?1000; v: N?(0N 0 50 100 200 250))')\n",
    "tab.head()"
   ]
  },
  {
   "cell_type": "code",
   "execution_count": null,
   "id": "bc0db439",
   "metadata": {},
   "outputs": [],
   "source": [
    "tab.drop([0, 2, 4, 6, 8, 10]).head()"
   ]
  },
  {
   "cell_type": "markdown",
   "id": "b6b79c9b",
   "metadata": {},
   "source": [
    "Drop columns from a table."
   ]
  },
  {
   "cell_type": "code",
   "execution_count": null,
   "id": "41eb79c1",
   "metadata": {},
   "outputs": [],
   "source": [
    "tab.drop('y', axis=1).head()"
   ]
  },
  {
   "cell_type": "markdown",
   "id": "e34706ea",
   "metadata": {},
   "source": [
    "### Table.drop_duplicates()\n",
    "\n",
    "```\n",
    "Table.drop_duplicates()\n",
    "```\n",
    "\n",
    "Remove either columns or rows from a table and return the resulting Table object.\n",
    "\n",
    "**Returns:**\n",
    "\n",
    "| Type  | Description                              |\n",
    "| :---: | :--------------------------------------- |\n",
    "| Table | A table with all duplicate rows removed. |"
   ]
  },
  {
   "cell_type": "markdown",
   "id": "e9e064d1",
   "metadata": {},
   "source": [
    "**Examples:**\n",
    "\n",
    "Create a table with duplicates for the example"
   ]
  },
  {
   "cell_type": "code",
   "execution_count": null,
   "id": "7c8be915",
   "metadata": {},
   "outputs": [],
   "source": [
    "tab2 = kx.q('([] 100?`AAPL`GOOG`MSFT; 100?3)')\n",
    "tab2"
   ]
  },
  {
   "cell_type": "markdown",
   "id": "4af0c99d",
   "metadata": {},
   "source": [
    "Drop all duplicate rows from the table."
   ]
  },
  {
   "cell_type": "code",
   "execution_count": null,
   "id": "5f6ec5c7",
   "metadata": {},
   "outputs": [],
   "source": [
    "tab2.drop_duplicates()"
   ]
  },
  {
   "cell_type": "markdown",
   "id": "77282b77",
   "metadata": {},
   "source": [
    "### Table.pop()\n",
    "\n",
    "```\n",
    "Table.pop(item)\n",
    "```\n",
    "\n",
    "Remove a column or columns from a table by column name and return the column after it has been removed.\n",
    "\n",
    "**Parameters:**\n",
    "\n",
    "| Name    | Type                   | Description                                             | Default    |\n",
    "| :-----: | :--------------------: | :------------------------------------------------------ | :--------: |\n",
    "| item    | Union[str, list[str]]  | The column name or list of names to pop from the table. | _required_ |\n",
    "\n",
    "**Returns:**\n",
    "\n",
    "| Type  | Description                                                        |\n",
    "| :---: | :----------------------------------------------------------------- |\n",
    "| Table | A table containing only the columns removed from the input table. |"
   ]
  },
  {
   "cell_type": "markdown",
   "id": "6846f6a1",
   "metadata": {},
   "source": [
    "**Examples:**\n",
    "\n",
    "Remove the `v` column from the table and return it."
   ]
  },
  {
   "cell_type": "code",
   "execution_count": null,
   "id": "40ab2931",
   "metadata": {
    "scrolled": true
   },
   "outputs": [],
   "source": [
    "display(tab.head())\n",
    "print('\\n\\nPop the `v` column out of the table')\n",
    "display(tab.pop(\"v\"))\n",
    "print('\\n\\nUpdated Table')\n",
    "display(tab.head())"
   ]
  },
  {
   "cell_type": "markdown",
   "id": "45aca79f",
   "metadata": {},
   "source": [
    "Remove the `z` and `w` columns from the table and return them."
   ]
  },
  {
   "cell_type": "code",
   "execution_count": null,
   "id": "2f381911",
   "metadata": {},
   "outputs": [],
   "source": [
    "display(tab.head())\n",
    "print('\\n\\nPop the `z` and `w` columns out of the table')\n",
    "display(tab.pop([\"z\", \"w\"]).head())\n",
    "print('\\n\\nUpdated Table')\n",
    "display(tab.head())"
   ]
  },
  {
   "cell_type": "markdown",
   "id": "2f4954bb",
   "metadata": {},
   "source": [
    "### Table.rename()\n",
    "\n",
    "```\n",
    "Table.rename(labels=None, index=None, columns=None, axis=None, copy=None, inplace=False, level=None, errors='ignore')\n",
    "```\n",
    "\n",
    "Rename columns in a table and return the resulting Table object.\n",
    "\n",
    "**Parameters:**\n",
    "\n",
    "| Name     | Type   | Description                                                                                                     | Default |\n",
    "| :------: | :----: | :------------------------------------------------------------------------------------------------------------------| :---:|\n",
    "| labels   | dict   | A dictionary of either new index or column names to new names to be used in conjunction with the _axis_ parameter. | None |\n",
    "| columns  | dict   | A dictionary of column name to new column name to use when renaming.                                               | None |\n",
    "| index    | dict   | A dictionary of index to new index name to use when renaming keyed tables.                                         | None |\n",
    "| axis     | {0 or 'index', 1 or 'columns'} | Designating the axis to be renamed by the _labels_ dictionary.                             | None |\n",
    "| copy     | None   | Not yet implemented.                                                                                               | None |\n",
    "| inplace  | bool   | Not yet implemented.                                                                                               | None |\n",
    "| level    | None   | Not yet implemented.                                                                                               | None |\n",
    "| errors   | string | Not yet implemented.                                                                                               | None |\n",
    "\n",
    "**Returns:**\n",
    "\n",
    "| Type  | Description                                                         |\n",
    "| :---: | :-----------------------------------------------------------------  |\n",
    "| Table | A table with the given columns or indices renamed.                  |"
   ]
  },
  {
   "cell_type": "markdown",
   "id": "ddd7f1f2",
   "metadata": {},
   "source": [
    "**Examples:**\n",
    "\n",
    "The initial table we will be renaming columns on and a keyed table to rename the index on."
   ]
  },
  {
   "cell_type": "code",
   "execution_count": null,
   "id": "d844c2c3",
   "metadata": {},
   "outputs": [],
   "source": [
    "tab.head()\n",
    "key_tab = kx.KeyedTable(data=tab) "
   ]
  },
  {
   "cell_type": "markdown",
   "id": "9b819386",
   "metadata": {},
   "source": [
    "Rename column `x` to `index` and `y` to `symbol` using the `columns` keyword."
   ]
  },
  {
   "cell_type": "code",
   "execution_count": null,
   "id": "e352c9ba",
   "metadata": {},
   "outputs": [],
   "source": [
    "tab.rename(columns={'x': 'index', 'y': 'symbol'}).head()"
   ]
  },
  {
   "cell_type": "markdown",
   "id": "4f9e2895-a82a-4f8e-ae2c-d3f898ece131",
   "metadata": {},
   "source": [
    "Rename column `x` to `index` and `y` to `symbol` by setting the `axis` keyword."
   ]
  },
  {
   "cell_type": "code",
   "execution_count": null,
   "id": "16ae0555-9d92-4642-9671-03a2790216c8",
   "metadata": {},
   "outputs": [],
   "source": [
    "tab.rename({'x': 'index', 'y': 'symbol'}, axis = 1).head()"
   ]
  },
  {
   "cell_type": "markdown",
   "id": "70e2735a-b582-47f7-9557-5f64f2238e89",
   "metadata": {},
   "source": [
    "Rename index of a keyed table by using literal `index` as the `axis` parameter."
   ]
  },
  {
   "cell_type": "code",
   "execution_count": null,
   "id": "7b2bcbd6-32ef-4988-ac81-3de73222face",
   "metadata": {},
   "outputs": [],
   "source": [
    "key_tab.rename({0:\"a\", 1:\"b\"}, axis = 'index').head()"
   ]
  },
  {
   "cell_type": "markdown",
   "id": "b85d53ba",
   "metadata": {},
   "source": [
    "### Table.reset_index()\n",
    "\n",
    "```\n",
    "Table.reset_index(levels, *,\n",
    "                  drop=False, inplace=False,\n",
    "                  col_level=0, col_fill='',\n",
    "                  allow_duplicates=False,\n",
    "                  names=None)\n",
    "```\n",
    "\n",
    "Reset the keys/index of a keyed PyKX table. This can be used to remove/unset one or more keys within a table.\n",
    "\n",
    "**Parameters:**\n",
    "\n",
    "| Name | Type | Description | Default |\n",
    "| :-: | :-: | :-: | :-: |\n",
    "| level | int, str or list | The name/indices of the keys to be reset within the table. | None |\n",
    "| drop |  Boolean | Should remaining key columns be removed from the table post index resetting. | False |\n",
    "| inplace | Boolean | Not Yet Implemented | False |\n",
    "| col_level | int or str | Not Yet Implemented | 0 |\n",
    "| col_fill | object | Not Yet Implemented | '' |\n",
    "| allow_duplicates | Boolean | Can duplicate columns be created | False |\n",
    "| names | str or list | Not Yet Implemented | None |\n",
    "\n",
    "\n",
    "**Returns:**\n",
    "\n",
    "| Type | Description |\n",
    "| :-: | :-: |\n",
    "| Dataframe | The dataframe with table updated following index reset request |\n",
    "\n",
    "**Examples:**\n",
    "\n",
    "Generate data to be used for index resetting "
   ]
  },
  {
   "cell_type": "code",
   "execution_count": null,
   "id": "a723d14d",
   "metadata": {},
   "outputs": [],
   "source": [
    "N = 1000\n",
    "qtab = kx.Table(data = {\n",
    "    'x0': kx.random.random(N, ['a', 'b', 'c']),\n",
    "    'x1': kx.random.random(N, ['d', 'e', 'f']),\n",
    "    'x2': kx.random.random(N, ['g', 'h', 'i']),\n",
    "    'y0': kx.random.random(N, 10.0),\n",
    "    'y1': kx.random.random(N, 10.0),\n",
    "    'y2': kx.random.random(N, kx.GUIDAtom.null)\n",
    "    }).set_index(['x0', 'x1', 'x2'])\n",
    "qtab"
   ]
  },
  {
   "cell_type": "markdown",
   "id": "089ad779",
   "metadata": {},
   "source": [
    "Resetting the index of the table will result in original index columns being added to the table directly"
   ]
  },
  {
   "cell_type": "code",
   "execution_count": null,
   "id": "4662c138",
   "metadata": {},
   "outputs": [],
   "source": [
    "qtab.reset_index()"
   ]
  },
  {
   "cell_type": "markdown",
   "id": "4e019e54",
   "metadata": {},
   "source": [
    "Reset the index adding a specified named column to the table"
   ]
  },
  {
   "cell_type": "code",
   "execution_count": null,
   "id": "a990ea29",
   "metadata": {},
   "outputs": [],
   "source": [
    "qtab.reset_index('x0')"
   ]
  },
  {
   "cell_type": "markdown",
   "id": "f186c5fb",
   "metadata": {},
   "source": [
    "Reset the index using multiple named columns"
   ]
  },
  {
   "cell_type": "code",
   "execution_count": null,
   "id": "9c62edc4",
   "metadata": {},
   "outputs": [],
   "source": [
    "qtab.reset_index(['x0', 'x1'])"
   ]
  },
  {
   "cell_type": "markdown",
   "id": "c6f54a5c",
   "metadata": {},
   "source": [
    "Reset the index specifying the column `number` which is to be added to the table"
   ]
  },
  {
   "cell_type": "code",
   "execution_count": null,
   "id": "c52367f4",
   "metadata": {},
   "outputs": [],
   "source": [
    "qtab.reset_index(0)"
   ]
  },
  {
   "cell_type": "markdown",
   "id": "ee76fa24",
   "metadata": {},
   "source": [
    "Reset the index specifying multiple numbered columns"
   ]
  },
  {
   "cell_type": "code",
   "execution_count": null,
   "id": "0cf6b213",
   "metadata": {},
   "outputs": [],
   "source": [
    "qtab.reset_index([0, 2])"
   ]
  },
  {
   "cell_type": "markdown",
   "id": "7fc928a5",
   "metadata": {},
   "source": [
    "Drop index columns from table"
   ]
  },
  {
   "cell_type": "code",
   "execution_count": null,
   "id": "8596e5a1",
   "metadata": {},
   "outputs": [],
   "source": [
    "qtab.reset_index(drop=True)"
   ]
  },
  {
   "cell_type": "markdown",
   "id": "e95b57dd",
   "metadata": {},
   "source": [
    "Drop specified key columns from table"
   ]
  },
  {
   "cell_type": "code",
   "execution_count": null,
   "id": "dde1ee77",
   "metadata": {},
   "outputs": [],
   "source": [
    "qtab.reset_index('x0', drop=True)"
   ]
  },
  {
   "cell_type": "markdown",
   "id": "8e19ddeb",
   "metadata": {},
   "source": [
    "### Table.set_index()\n",
    "\n",
    "```\n",
    "Table.set_index(\n",
    "    keys,\n",
    "    drop=True,\n",
    "    append=False,\n",
    "    inplace=False,\n",
    "    verify_integrity=False,\n",
    ")\n",
    "```\n",
    "\n",
    "Add index/indexes to a Table/KeyedTable.\n",
    "\n",
    "**Parameters:**\n",
    "\n",
    "| Name             | Type | Description                                                              | Default    |\n",
    "| :--------------: | :--: | :----------------------------------------------------------------------- | :--------: |\n",
    "| keys             | Union[Symbol/SymbolVector/Table] | The key(s) or data to key on                 | _required_ |\n",
    "| drop             | bool                             | Not Yet Implemented                          | True       |\n",
    "| append           | bool                             | Whether to append columns to existing index. | False      | \n",
    "| inplace          | bool                             | Not Yet Implemented                          | False      |\n",
    "| verify_integrity | bool                             | Check the new index for duplicates           | False      |    \n",
    "\n",
    "**Returns:**\n",
    "\n",
    "| Type       | Description                                    |\n",
    "| :--------: | :--------------------------------------------- |\n",
    "| KeyedTable | The resulting table after the index is applied |\n",
    "\n",
    "**Examples:**\n",
    "\n",
    "Adding indexes:"
   ]
  },
  {
   "cell_type": "code",
   "execution_count": null,
   "id": "6ede4322",
   "metadata": {},
   "outputs": [],
   "source": [
    "kx.q('N: 10')\n",
    "tab = kx.q('([] sym: N?`AAPL`GOOG`MSFT; price: 2.5f - N?5f; traded: N?0 1; hold: N?01b)')"
   ]
  },
  {
   "cell_type": "code",
   "execution_count": null,
   "id": "f6708166",
   "metadata": {},
   "outputs": [],
   "source": [
    "#Setting a single index\n",
    "tab.set_index('sym')"
   ]
  },
  {
   "cell_type": "code",
   "execution_count": null,
   "id": "abf46438",
   "metadata": {},
   "outputs": [],
   "source": [
    "#Setting multipe indexes\n",
    "tab.set_index(['sym', 'traded'])"
   ]
  },
  {
   "cell_type": "code",
   "execution_count": null,
   "id": "567ff8e9",
   "metadata": {},
   "outputs": [],
   "source": [
    "#Pass a table as index (lengths must match)\n",
    "status = kx.q('{select movement from ungroup select movement:`down`up 0<=deltas price by sym from x}',tab)\n",
    "tab.set_index(status)"
   ]
  },
  {
   "cell_type": "markdown",
   "id": "fb24895d",
   "metadata": {},
   "source": [
    "Appending:"
   ]
  },
  {
   "cell_type": "code",
   "execution_count": null,
   "id": "d080737f",
   "metadata": {},
   "outputs": [],
   "source": [
    "#Default is false - previous index 'sym' deleted and replaced by 'hold'\n",
    "tab.set_index('sym').set_index('hold')"
   ]
  },
  {
   "cell_type": "code",
   "execution_count": null,
   "id": "c33e779e",
   "metadata": {},
   "outputs": [],
   "source": [
    "#append= True will retain 'sym' index and add 'hold' as second index\n",
    "tab.set_index('sym').set_index('hold', append= True)"
   ]
  },
  {
   "cell_type": "markdown",
   "id": "c7eab4a6",
   "metadata": {},
   "source": [
    "Verify Integrity:"
   ]
  },
  {
   "cell_type": "code",
   "execution_count": null,
   "id": "98fc7587",
   "metadata": {},
   "outputs": [],
   "source": [
    "#Will allow duplicates in index:\n",
    "tab.set_index('sym')"
   ]
  },
  {
   "cell_type": "code",
   "execution_count": null,
   "id": "b17c1a22",
   "metadata": {},
   "outputs": [],
   "source": [
    "#Will error as 'sym' has duplicates\n",
    "try:\n",
    "    tab.set_index('sym', verify_integrity= True)\n",
    "except kx.QError as e:\n",
    "    print(f'Caught Error: {e}')"
   ]
  }
 ],
 "metadata": {
  "kernelspec": {
   "display_name": "Python 3 (ipykernel)",
   "language": "python",
   "name": "python3"
  },
  "language_info": {
   "codemirror_mode": {
    "name": "ipython",
    "version": 3
   },
   "file_extension": ".py",
   "mimetype": "text/x-python",
   "name": "python",
   "nbconvert_exporter": "python",
   "pygments_lexer": "ipython3",
   "version": "3.10.12"
  }
 },
 "nbformat": 4,
 "nbformat_minor": 5
}
