{
 "cells": [
  {
   "cell_type": "markdown",
   "id": "12a1e6cd",
   "metadata": {},
   "source": [
    "# Pandas API\n",
    "The purpose of this notebook is to provide a demonstration of the capabilities of the pandas like API for PyKX Table objects.\n",
    "\n",
    "To follow along please download this notebook using the following <a href=\"./Pandas_API.ipynb\" download>link</a>.\n",
    "\n",
    "This demonstration will outline the following\n",
    "\n",
    "1. [Metadata properties](#metadata)\n",
    "2. [Indexing operations](#indexing)\n",
    "3. [Reindexing operations](#reindexing)\n",
    "4. [Merging tables](#merging)\n",
    "5. [Computations](#computations)\n",
    "6. [Setting Indexes](#setting-indexes)"
   ]
  },
  {
   "cell_type": "code",
   "execution_count": null,
   "id": "2f4437ca",
   "metadata": {},
   "outputs": [],
   "source": [
    "import os\n",
    "os.environ['IGNORE_QHOME'] = '1' # Ignore symlinking PyKX q libraries to QHOME \n",
    "os.environ['PYKX_Q_LOADED_MARKER'] = '' # Only used here for running Notebook under mkdocs-jupyter during document generation.\n",
    "import pykx as kx\n",
    "import numpy as np\n",
    "import pandas as pd\n",
    "kx.q.system.console_size = [10, 80]"
   ]
  },
  {
   "cell_type": "markdown",
   "id": "13e03cb2",
   "metadata": {},
   "source": [
    "## Constructing Tables"
   ]
  },
  {
   "cell_type": "markdown",
   "id": "e76d1fc5",
   "metadata": {},
   "source": [
    "### Table\n",
    "\n",
    "Create a table from a list of rows or by converting a Python dictionary object\n",
    "\n",
    "**Parameters:**\n",
    "\n",
    "| Name    | Type               | Description                                                            | Default  |\n",
    "| :-----: | :----------------: | :--------------------------------------------------------------------- | :------: |\n",
    "| x       | Union[list, array] | An array like object containing the contents of each row of the table. | None     |\n",
    "| data    | dict               | A dictionary to be converted into a Table object.                      | None     |\n",
    "| columns | list[str]          | A list of column names to use when constructing from an array of rows. | None     |\n",
    "\n",
    "**Returns:**\n",
    "\n",
    "| Type  | Description                         |\n",
    "| :---: | :---------------------------------- |\n",
    "| Table | The newly constructed table object. |\n",
    "\n",
    "**Examples:**\n",
    "\n",
    "Create a table from a dictionary object."
   ]
  },
  {
   "cell_type": "code",
   "execution_count": null,
   "id": "7b5f69f2",
   "metadata": {},
   "outputs": [],
   "source": [
    "kx.Table(data={'x': list(range(10)), 'y': [10 - x for x in range(10)]})"
   ]
  },
  {
   "cell_type": "markdown",
   "id": "673d9e9a",
   "metadata": {},
   "source": [
    "Create a Table from an array like object."
   ]
  },
  {
   "cell_type": "code",
   "execution_count": null,
   "id": "c701c1b9",
   "metadata": {},
   "outputs": [],
   "source": [
    "kx.Table([[0, 1], [2, 3], [4, 5], [6, 7], [8, 9]])"
   ]
  },
  {
   "cell_type": "markdown",
   "id": "c8eb1622",
   "metadata": {},
   "source": [
    "Create a Table from an array like object and provide names for the columns to use."
   ]
  },
  {
   "cell_type": "code",
   "execution_count": null,
   "id": "103f866d",
   "metadata": {},
   "outputs": [],
   "source": [
    "kx.Table([[0, 1, 2], [3, 4, 5], [6, 7, 8], [9, 10, 11]], columns=['x', 'y', 'z'])"
   ]
  },
  {
   "cell_type": "markdown",
   "id": "bfd1da8e",
   "metadata": {},
   "source": [
    "### Keyed Table\n",
    "\n",
    "Create a keyed table from a list of rows or by converting a Python dictionary object\n",
    "\n",
    "**Parameters:**\n",
    "\n",
    "| Name    | Type               | Description                                                            | Default  |\n",
    "| :-----: | :----------------: | :--------------------------------------------------------------------- | :------: |\n",
    "| x       | Union[list, array] | An array like object containing the contents of each row of the table. | None     |\n",
    "| data    | dict               | A dictionary to be converted into a Table object.                      | None     |\n",
    "| columns | list[str]          | A list of column names to use when constructing from an array of rows. | None     |\n",
    "| index   | list[Any]          | An array like object to use as the index column of the table.          | None     |\n",
    "\n",
    "**Returns:**\n",
    "\n",
    "| Type       | Description                               |\n",
    "| :--------: | :---------------------------------------- |\n",
    "| KeyedTable | The newly constructed keyed table object. |\n",
    "\n",
    "**Examples:**\n",
    "\n",
    "Create a keyed table from a dictionary object."
   ]
  },
  {
   "cell_type": "code",
   "execution_count": null,
   "id": "765be7de",
   "metadata": {},
   "outputs": [],
   "source": [
    "kx.KeyedTable(data={'x': list(range(10)), 'y': list(10 - x for x in range(10))})"
   ]
  },
  {
   "cell_type": "markdown",
   "id": "f8082a5a",
   "metadata": {},
   "source": [
    "Create a keyed table from a list of rows."
   ]
  },
  {
   "cell_type": "code",
   "execution_count": null,
   "id": "ecd10819",
   "metadata": {},
   "outputs": [],
   "source": [
    "kx.KeyedTable([[0, 1], [2, 3], [4, 5], [6, 7], [8, 9]])"
   ]
  },
  {
   "cell_type": "markdown",
   "id": "7be93c23",
   "metadata": {},
   "source": [
    "Create a keyed table from a list of rows and provide names for the resulting columns."
   ]
  },
  {
   "cell_type": "code",
   "execution_count": null,
   "id": "51d94e4d",
   "metadata": {},
   "outputs": [],
   "source": [
    "kx.KeyedTable([[0, 1, 2], [3, 4, 5], [6, 7, 8], [9, 10, 11]], columns=['x', 'y', 'z'])"
   ]
  },
  {
   "cell_type": "markdown",
   "id": "8157961c",
   "metadata": {},
   "source": [
    "Create a keyed table with a specified index column."
   ]
  },
  {
   "cell_type": "code",
   "execution_count": null,
   "id": "2405a759",
   "metadata": {},
   "outputs": [],
   "source": [
    "kx.KeyedTable(data={'x': list(range(10)), 'y': list(10 - x for x in range(10))}, index=[2 * x for x in range(10)])"
   ]
  },
  {
   "cell_type": "markdown",
   "id": "e9ff8aa6",
   "metadata": {},
   "source": [
    "## Metadata"
   ]
  },
  {
   "cell_type": "code",
   "execution_count": null,
   "id": "fed3a938",
   "metadata": {},
   "outputs": [],
   "source": [
    "kx.q('N: 1000')\n",
    "tab = kx.q('([] x: til N; y: N?`AAPL`GOOG`MSFT; z: N?500f; w: N?1000; v: N?(0N 0 50 100 200 250))')\n",
    "tab"
   ]
  },
  {
   "cell_type": "markdown",
   "id": "3e5de382",
   "metadata": {},
   "source": [
    "### Table.columns\n",
    "\n",
    "Get the name of each column in the table"
   ]
  },
  {
   "cell_type": "code",
   "execution_count": null,
   "id": "a355d654",
   "metadata": {},
   "outputs": [],
   "source": [
    "tab.columns"
   ]
  },
  {
   "cell_type": "markdown",
   "id": "9baab247",
   "metadata": {},
   "source": [
    "### Table.dtypes\n",
    "\n",
    "Get the pandas dtype of each column"
   ]
  },
  {
   "cell_type": "code",
   "execution_count": null,
   "id": "f72c7071",
   "metadata": {},
   "outputs": [],
   "source": [
    "tab.dtypes"
   ]
  },
  {
   "cell_type": "markdown",
   "id": "5393cbb5",
   "metadata": {},
   "source": [
    "### Table.empty\n",
    "\n",
    "Returns True if the table is empty otherwise returns False."
   ]
  },
  {
   "cell_type": "code",
   "execution_count": null,
   "id": "d62ce629",
   "metadata": {},
   "outputs": [],
   "source": [
    "tab.empty"
   ]
  },
  {
   "cell_type": "markdown",
   "id": "de0a60d6",
   "metadata": {},
   "source": [
    "### Table.ndim\n",
    "\n",
    "Get the nuber of columns within the table."
   ]
  },
  {
   "cell_type": "code",
   "execution_count": null,
   "id": "27aa4a92",
   "metadata": {},
   "outputs": [],
   "source": [
    "tab.ndim"
   ]
  },
  {
   "cell_type": "markdown",
   "id": "d8b6533c",
   "metadata": {},
   "source": [
    "### Table.shape\n",
    "\n",
    "Get the shape of the table as a tuple (number of rows, number of columns)."
   ]
  },
  {
   "cell_type": "code",
   "execution_count": null,
   "id": "3bd69cae",
   "metadata": {},
   "outputs": [],
   "source": [
    "tab.shape"
   ]
  },
  {
   "cell_type": "markdown",
   "id": "50f7c03c",
   "metadata": {},
   "source": [
    "### Table.size\n",
    "\n",
    "Get the number of values in the table (rows * cols)."
   ]
  },
  {
   "cell_type": "code",
   "execution_count": null,
   "id": "072269ec",
   "metadata": {
    "scrolled": false
   },
   "outputs": [],
   "source": [
    "tab.size"
   ]
  },
  {
   "cell_type": "markdown",
   "id": "394b9b9d",
   "metadata": {},
   "source": [
    "### Table.mean()\n",
    "\n",
    "```\n",
    "Table.mean(axis=0, numeric_only=False)\n",
    "```\n",
    "\n",
    "Get the mean of values across the requested axis.\n",
    "\n",
    "**Parameters:**\n",
    "\n",
    "| Name         | Type | Description                                                | Default |\n",
    "| :----------: | :--: | :--------------------------------------------------------- | :-----: |\n",
    "| axis         | int  | The axis to calculate mean across 0 is columns, 1 is rows. | 0       |\n",
    "| numeric_only | bool | Include only columns / rows with numeric data.             | False   |\n",
    "\n",
    "**Returns:**\n",
    "\n",
    "| Type       | Description                                                                                    |\n",
    "| :--------: | :--------------------------------------------------------------------------------------------- |\n",
    "| Dictionary | The mean across each row / column with the key corresponding to the row number or column name. |"
   ]
  },
  {
   "cell_type": "markdown",
   "id": "7d0ae9ce",
   "metadata": {},
   "source": [
    "**Examples:**\n",
    "\n",
    "Calculate the mean across the columns of a table"
   ]
  },
  {
   "cell_type": "code",
   "execution_count": null,
   "id": "0a3883ab",
   "metadata": {},
   "outputs": [],
   "source": [
    "tab = kx.Table(data=\n",
    "    {\n",
    "        'a': [1, 2, 2, 4],\n",
    "        'b': [1, 2, 6, 7],\n",
    "        'c': [7, 8, 9, 10],\n",
    "        'd': [7, 11, 14, 14]\n",
    "    }\n",
    ")\n",
    "tab"
   ]
  },
  {
   "cell_type": "code",
   "execution_count": null,
   "id": "65f9d7ed",
   "metadata": {},
   "outputs": [],
   "source": [
    "tab.mean()"
   ]
  },
  {
   "cell_type": "markdown",
   "id": "94f312a5",
   "metadata": {},
   "source": [
    "Calculate the mean across the rows of a table"
   ]
  },
  {
   "cell_type": "code",
   "execution_count": null,
   "id": "3d96dc12",
   "metadata": {},
   "outputs": [],
   "source": [
    "tab.mean(axis=1)"
   ]
  },
  {
   "cell_type": "markdown",
   "id": "d102ec1b",
   "metadata": {},
   "source": [
    "### Table.median()\n",
    "\n",
    "```\n",
    "Table.median(axis=0, numeric_only=False)\n",
    "```\n",
    "\n",
    "Get the median of values across the requested axis.\n",
    "\n",
    "**Parameters:**\n",
    "\n",
    "| Name         | Type | Description                                                  | Default |\n",
    "| :----------: | :--: | :----------------------------------------------------------- | :-----: |\n",
    "| axis         | int  | The axis to calculate median across 0 is columns, 1 is rows. | 0       |\n",
    "| numeric_only | bool | Include only columns / rows with numeric data.               | False   |\n",
    "\n",
    "**Returns:**\n",
    "\n",
    "| Type       | Description                                                                                      |\n",
    "| :--------: | :----------------------------------------------------------------------------------------------- |\n",
    "| Dictionary | The median across each row / column with the key corresponding to the row number or column name. |"
   ]
  },
  {
   "cell_type": "markdown",
   "id": "e2341a7c",
   "metadata": {},
   "source": [
    "**Examples:**\n",
    "\n",
    "Calculate the median across the columns of a table"
   ]
  },
  {
   "cell_type": "code",
   "execution_count": null,
   "id": "d9a17a3b",
   "metadata": {},
   "outputs": [],
   "source": [
    "tab = kx.Table(data=\n",
    "    {\n",
    "        'a': [1, 2, 2, 4],\n",
    "        'b': [1, 2, 6, 7],\n",
    "        'c': [7, 8, 9, 10],\n",
    "        'd': [7, 11, 14, 14]\n",
    "    }\n",
    ")\n",
    "tab"
   ]
  },
  {
   "cell_type": "code",
   "execution_count": null,
   "id": "d93621d4",
   "metadata": {},
   "outputs": [],
   "source": [
    "tab.median()"
   ]
  },
  {
   "cell_type": "markdown",
   "id": "b9822d60",
   "metadata": {},
   "source": [
    "Calculate the median across the rows of a table"
   ]
  },
  {
   "cell_type": "code",
   "execution_count": null,
   "id": "ab0b5159",
   "metadata": {
    "scrolled": false
   },
   "outputs": [],
   "source": [
    "tab.median(axis=1)"
   ]
  },
  {
   "cell_type": "markdown",
   "id": "7041b59d",
   "metadata": {},
   "source": [
    "### Table.mode()\n",
    "\n",
    "```\n",
    "Table.mode(axis=0, numeric_only=False, dropna=True)\n",
    "```\n",
    "\n",
    "Get the mode of values across the requested axis.\n",
    "\n",
    "**Parameters:**\n",
    "\n",
    "| Name         | Type | Description                                                   | Default |\n",
    "| :----------: | :--: | :------------------------------------------------------------ | :-----: |\n",
    "| axis         | int  | The axis to calculate mode across 0 is columns, 1 is rows.    | 0       |\n",
    "| numeric_only | bool | Include only columns / rows with numeric data.                | False   |\n",
    "| dropna       | bool | Remove null values from the data before calculating the mode. | True    |\n",
    "\n",
    "**Returns:**\n",
    "\n",
    "| Type       | Description                                                                                       |\n",
    "| :--------: | :------------------------------------------------------------------------------------------------ |\n",
    "| Table      | The mode across each row / column with the column corresponding to the row number or column name. |"
   ]
  },
  {
   "cell_type": "markdown",
   "id": "100d30fa",
   "metadata": {},
   "source": [
    "**Examples:**\n",
    "\n",
    "Calculate the mode across the columns of a table"
   ]
  },
  {
   "cell_type": "code",
   "execution_count": null,
   "id": "806786d9",
   "metadata": {},
   "outputs": [],
   "source": [
    "tab = kx.Table(data=\n",
    "    {\n",
    "        'a': [1, 2, 2, 4],\n",
    "        'b': [1, 2, 6, 7],\n",
    "        'c': [7, 8, 9, 10],\n",
    "        'd': [7, 11, 14, 14]\n",
    "    }\n",
    ")\n",
    "tab"
   ]
  },
  {
   "cell_type": "code",
   "execution_count": null,
   "id": "7ccc77a8",
   "metadata": {
    "scrolled": true
   },
   "outputs": [],
   "source": [
    "tab.mode()"
   ]
  },
  {
   "cell_type": "markdown",
   "id": "3bf74453",
   "metadata": {},
   "source": [
    "Calculate the median across the rows of a table"
   ]
  },
  {
   "cell_type": "code",
   "execution_count": null,
   "id": "d3c86b05",
   "metadata": {
    "scrolled": false
   },
   "outputs": [],
   "source": [
    "tab.mode(axis=1)"
   ]
  },
  {
   "cell_type": "markdown",
   "id": "ab19909d",
   "metadata": {},
   "source": [
    "Calculate the mode across columns and keep null values."
   ]
  },
  {
   "cell_type": "code",
   "execution_count": null,
   "id": "cf30480e",
   "metadata": {
    "scrolled": true
   },
   "outputs": [],
   "source": [
    "tab = kx.Table(data=\n",
    "    {\n",
    "        'x': [0, 1, 2, 3, 4, 5, 6, 7, np.NaN, np.NaN],\n",
    "        'y': [10, 11, 12, 13, 14, 15, 16, 17, 18, np.NaN],\n",
    "        'z': ['a', 'b', 'c', 'd', 'd', 'e', 'e', 'f', 'g', 'h']\n",
    "    }\n",
    ")\n",
    "tab"
   ]
  },
  {
   "cell_type": "code",
   "execution_count": null,
   "id": "f5e48708",
   "metadata": {},
   "outputs": [],
   "source": [
    "tab.mode(dropna=False)"
   ]
  },
  {
   "cell_type": "markdown",
   "id": "24cf11d3",
   "metadata": {},
   "source": [
    "## Indexing"
   ]
  },
  {
   "cell_type": "code",
   "execution_count": null,
   "id": "6fb377dc",
   "metadata": {},
   "outputs": [],
   "source": [
    "# The examples in this section will use this example table filled with random data\n",
    "kx.q('N: 1000')\n",
    "tab = kx.q('([] x: til N; y: N?`AAPL`GOOG`MSFT; z: N?500f; w: N?1000; v: N?(0N 0 50 100 200 250))')\n",
    "tab"
   ]
  },
  {
   "cell_type": "markdown",
   "id": "c1c04832",
   "metadata": {},
   "source": [
    "### Table.head()\n",
    "\n",
    "```\n",
    "Table.head(n=5)\n",
    "```\n",
    "\n",
    "Get the first n rows from a table.\n",
    "\n",
    "**Parameters:**\n",
    "\n",
    "| Name | Type | Description                   | Default |\n",
    "| :--: | :--: | :---------------------------- | :-----: |\n",
    "| n    | int  | The number of rows to return. | 5       |\n",
    "\n",
    "**Returns:**\n",
    "\n",
    "| Type  | Description                      |\n",
    "| :---: | :------------------------------- |\n",
    "| Table | The first `n` rows of the table. |"
   ]
  },
  {
   "cell_type": "markdown",
   "id": "3a1376fd",
   "metadata": {},
   "source": [
    "**Examples:**\n",
    "\n",
    "Return the first 5 rows of the table."
   ]
  },
  {
   "cell_type": "code",
   "execution_count": null,
   "id": "f0bf8f86",
   "metadata": {
    "scrolled": false
   },
   "outputs": [],
   "source": [
    "tab.head()"
   ]
  },
  {
   "cell_type": "markdown",
   "id": "93e184ff",
   "metadata": {},
   "source": [
    "Return the first 10 rows of the table."
   ]
  },
  {
   "cell_type": "code",
   "execution_count": null,
   "id": "9e3e5b67",
   "metadata": {},
   "outputs": [],
   "source": [
    "tab.head(10)"
   ]
  },
  {
   "cell_type": "markdown",
   "id": "76e7a8fe",
   "metadata": {},
   "source": [
    "### Table.tail()\n",
    "\n",
    "```\n",
    "Table.tail(n=5)\n",
    "```\n",
    "\n",
    "Get the last n rows from a table.\n",
    "\n",
    "**Parameters:**\n",
    "\n",
    "| Name | Type | Description                   | Default |\n",
    "| :--: | :--: | :---------------------------- | :-----: |\n",
    "| n    | int  | The number of rows to return. | 5       |\n",
    "\n",
    "**Returns:**\n",
    "\n",
    "| Type  | Description                      |\n",
    "| :---: | :------------------------------- |\n",
    "| Table | The last `n` rows of the table.  |"
   ]
  },
  {
   "cell_type": "markdown",
   "id": "bc99337e",
   "metadata": {},
   "source": [
    "**Examples:**\n",
    "\n",
    "Return the last 5 rows of the table."
   ]
  },
  {
   "cell_type": "code",
   "execution_count": null,
   "id": "3b261b98",
   "metadata": {},
   "outputs": [],
   "source": [
    "tab.tail()"
   ]
  },
  {
   "cell_type": "markdown",
   "id": "9871118a",
   "metadata": {},
   "source": [
    "Return the last 10 rows of the table."
   ]
  },
  {
   "cell_type": "code",
   "execution_count": null,
   "id": "dd3970b3",
   "metadata": {},
   "outputs": [],
   "source": [
    "tab.tail(10)"
   ]
  },
  {
   "cell_type": "markdown",
   "id": "507b8049",
   "metadata": {},
   "source": [
    "### Table.get()\n",
    "\n",
    "```\n",
    "Table.get(key, default=None)\n",
    "```\n",
    "\n",
    "Get a column or columns from a table by key, if the key does not exist return the default value.\n",
    "\n",
    "**Parameters:**\n",
    "\n",
    "| Name    | Type                   | Description                                             | Default    |\n",
    "| :-----: | :--------------------: | :------------------------------------------------------ | :--------: |\n",
    "| key     | Union[str, list[str]]  | The column name or list of names to get from the table. | _required_ |\n",
    "| default | int                    | The default value if the key is not found.              | None       |\n",
    "\n",
    "**Returns:**\n",
    "\n",
    "| Type              | Description                                                          |\n",
    "| :---------------: | :------------------------------------------------------------------- |\n",
    "| Union[Table, Any] | A table contatining only the columns requested or the default value. |"
   ]
  },
  {
   "cell_type": "markdown",
   "id": "ec0f77c7",
   "metadata": {},
   "source": [
    "**Examples:**\n",
    "\n",
    "Get the `y` column from the table."
   ]
  },
  {
   "cell_type": "code",
   "execution_count": null,
   "id": "5a5a6d38",
   "metadata": {
    "scrolled": true
   },
   "outputs": [],
   "source": [
    "tab.get('y')"
   ]
  },
  {
   "cell_type": "markdown",
   "id": "528ef898",
   "metadata": {},
   "source": [
    "Get the `y` and `z` columns from the table."
   ]
  },
  {
   "cell_type": "code",
   "execution_count": null,
   "id": "50dc3d41",
   "metadata": {
    "scrolled": true
   },
   "outputs": [],
   "source": [
    "tab.get(['y', 'z'])"
   ]
  },
  {
   "cell_type": "markdown",
   "id": "5671306b",
   "metadata": {},
   "source": [
    "Attempt to get the `q` column from the table and recieve none as that column does not exist."
   ]
  },
  {
   "cell_type": "code",
   "execution_count": null,
   "id": "f4e793d7",
   "metadata": {},
   "outputs": [],
   "source": [
    "print(tab.get('q'))"
   ]
  },
  {
   "cell_type": "markdown",
   "id": "4ae7804e",
   "metadata": {},
   "source": [
    "Attempt to get the `q` column from the table and recieve the default value `not found` as that column does not exist."
   ]
  },
  {
   "cell_type": "code",
   "execution_count": null,
   "id": "4fb7dafd",
   "metadata": {},
   "outputs": [],
   "source": [
    "tab.get('q', 'not found')"
   ]
  },
  {
   "cell_type": "markdown",
   "id": "b9bffb97",
   "metadata": {},
   "source": [
    "### Table.at[]\n",
    "\n",
    "```\n",
    "Table.at[row, col]\n",
    "```\n",
    "\n",
    "Access a single value for a row / column pair.\n",
    "\n",
    "Similar to `loc[]`, in that both provide label-based lookups. Use `at` if you only need to get or set a single value.\n",
    "\n",
    "The `at` property can be used for both assignment and retrieval of values at a given row and column."
   ]
  },
  {
   "cell_type": "markdown",
   "id": "631f538b",
   "metadata": {},
   "source": [
    "**Examples:**\n",
    "\n",
    "Get the value of the `z` column in the 997th row."
   ]
  },
  {
   "cell_type": "code",
   "execution_count": null,
   "id": "e88eb0b9",
   "metadata": {},
   "outputs": [],
   "source": [
    "tab.at[997, 'z']"
   ]
  },
  {
   "cell_type": "markdown",
   "id": "3b2a6f91",
   "metadata": {},
   "source": [
    "Reassign the value of the `z` column in the 997th row to `3.14159`."
   ]
  },
  {
   "cell_type": "code",
   "execution_count": null,
   "id": "514ceeb0",
   "metadata": {},
   "outputs": [],
   "source": [
    "tab.at[997, 'z'] = 3.14159\n",
    "tab.at[997, 'z']"
   ]
  },
  {
   "cell_type": "markdown",
   "id": "9d807946",
   "metadata": {},
   "source": [
    "### Table.loc[]\n",
    "\n",
    "```\n",
    "Table.loc[:, :]\n",
    "```\n",
    "\n",
    "Access a group of rows and columns by label or by BooleanVector.\n",
    "\n",
    "`loc` is a label based form of indexing, but may also be used with a boolean array.\n",
    "\n",
    "Allowed inputs are:\n",
    "\n",
    "- A single label, e.g. 5 or 'a', (note that 5 is interpreted as a label of the index, and never as an integer position along the index)\n",
    "- A list or array of labels, e.g. ['a', 'b', 'c']\n",
    "- A slice object with labels, e.g. 'a':'f'\n",
    "    - **Warning contrary to usual python slices, both the start and the stop are included**\n",
    "- A BooleanVector of the same length as the axis being sliced\n",
    "- An alignable BooleanVector. The index of the key will be aligned before masking\n",
    "- An alignable Index. The Index of the returned selection will be the input\n",
    "- A callable function with one argument (the calling Table like object) and that returns valid output for indexing (e.g. one of the above)\n",
    "\n",
    "Note:\n",
    "When the Pandas API is enabled, using `[]` to index into a table will use `Table.loc[]`\n",
    "\n",
    "**Returns:**\n",
    "\n",
    "| Type  | Description                                            |\n",
    "| :---: | :----------------------------------------------------- |\n",
    "| Table | A table contatining only the columns / rows requested. |"
   ]
  },
  {
   "cell_type": "markdown",
   "id": "fc696884",
   "metadata": {},
   "source": [
    "**Examples:**\n",
    "\n",
    "Get every row in the `y` column."
   ]
  },
  {
   "cell_type": "code",
   "execution_count": null,
   "id": "076e08a4",
   "metadata": {
    "scrolled": true
   },
   "outputs": [],
   "source": [
    "tab[:, 'y']"
   ]
  },
  {
   "cell_type": "markdown",
   "id": "dd6c4a2f",
   "metadata": {},
   "source": [
    "Get all rows of the table where the value in the `z` column is greater than `250.0`"
   ]
  },
  {
   "cell_type": "code",
   "execution_count": null,
   "id": "eec5938e",
   "metadata": {},
   "outputs": [],
   "source": [
    "tab[tab['z'] > 250.0]"
   ]
  },
  {
   "cell_type": "markdown",
   "id": "8ce7195e",
   "metadata": {},
   "source": [
    "Replace all null values in the column `v` with the value `-100`."
   ]
  },
  {
   "cell_type": "code",
   "execution_count": null,
   "id": "4fec8625",
   "metadata": {
    "scrolled": true
   },
   "outputs": [],
   "source": [
    "tab.loc[tab['v'] == kx.q('0N'), 'v'] = -100\n",
    "tab"
   ]
  },
  {
   "cell_type": "markdown",
   "id": "81343ea4",
   "metadata": {},
   "source": [
    "Replace all locations in column `v` where the value is `-100` with a null."
   ]
  },
  {
   "cell_type": "code",
   "execution_count": null,
   "id": "d49ba7ff",
   "metadata": {},
   "outputs": [],
   "source": [
    "tab[tab['v'] == -100, 'v'] = kx.q('0N')\n",
    "tab"
   ]
  },
  {
   "cell_type": "markdown",
   "id": "dirty-deviation",
   "metadata": {},
   "source": [
    "Usage of the `loc` functionality under the hood additionally allows users to set columns within a table for single or multiple columns. Data passed for this can be q/Python."
   ]
  },
  {
   "cell_type": "code",
   "execution_count": null,
   "id": "economic-administration",
   "metadata": {},
   "outputs": [],
   "source": [
    "tab['new_col'] = kx.q('1000?1f')"
   ]
  },
  {
   "cell_type": "code",
   "execution_count": null,
   "id": "parliamentary-simon",
   "metadata": {},
   "outputs": [],
   "source": [
    "tab[['new_col1', 'new_col2']] = [20, kx.q('1000?0Ng')]"
   ]
  },
  {
   "cell_type": "markdown",
   "id": "8aeb5b10",
   "metadata": {},
   "source": [
    "### Table.iloc[]\n",
    "\n",
    "```\n",
    "Table.iloc[:, :]\n",
    "```\n",
    "\n",
    "Purely integer-location based indexing for selection by position.\n",
    "\n",
    "`iloc` is primarily integer position based (from 0 to length-1 of the axis), but may also be used with a BooleanVector.\n",
    "\n",
    "Allowed inputs are:\n",
    "- An integer, e.g. 5.\n",
    "- A list or array of integers, e.g. [4, 3, 0].\n",
    "- A slice object with ints, e.g. 1:7.\n",
    "- A BooleanVector.\n",
    "- A callable function with one argument (the calling Series or DataFrame) and that returns valid output for indexing (one of the above). This is useful in method chains, when you don’t have a reference to the calling object, but would like to base your selection on some value.\n",
    "- A tuple of row and column indexes. The tuple elements consist of one of the above inputs, e.g. (0, 1).\n",
    "\n",
    "**Returns:**\n",
    "\n",
    "| Type  | Description                                            |\n",
    "| :---: | :----------------------------------------------------- |\n",
    "| Table | A table contatining only the columns / rows requested. |"
   ]
  },
  {
   "cell_type": "markdown",
   "id": "a6e24ecf",
   "metadata": {},
   "source": [
    "**Examples:**\n",
    "\n",
    "Get the second row from a table."
   ]
  },
  {
   "cell_type": "code",
   "execution_count": null,
   "id": "a3460c85",
   "metadata": {
    "scrolled": true
   },
   "outputs": [],
   "source": [
    "tab.iloc[1]"
   ]
  },
  {
   "cell_type": "markdown",
   "id": "2bdb5d71",
   "metadata": {},
   "source": [
    "Get the first 5 rows from a table."
   ]
  },
  {
   "cell_type": "code",
   "execution_count": null,
   "id": "4ef3767c",
   "metadata": {
    "scrolled": false
   },
   "outputs": [],
   "source": [
    "tab.iloc[:5]"
   ]
  },
  {
   "cell_type": "markdown",
   "id": "f869425e",
   "metadata": {},
   "source": [
    "Get all rows of the table where the `y` column is equal to `AAPL`."
   ]
  },
  {
   "cell_type": "code",
   "execution_count": null,
   "id": "bd3d1613",
   "metadata": {
    "scrolled": true
   },
   "outputs": [],
   "source": [
    "tab.iloc[tab['y'] == 'AAPL']"
   ]
  },
  {
   "cell_type": "markdown",
   "id": "bcc638af",
   "metadata": {},
   "source": [
    "Get all rows of the table where the `y` column is equal to `AAPL`, and only return the `y`, `z` and `w` columns."
   ]
  },
  {
   "cell_type": "code",
   "execution_count": null,
   "id": "19491b1a",
   "metadata": {},
   "outputs": [],
   "source": [
    "tab.iloc[tab['y'] == 'AAPL', ['y', 'z', 'w']]"
   ]
  },
  {
   "cell_type": "markdown",
   "id": "7a7bcdd8",
   "metadata": {},
   "source": [
    "Replace all null values in the column `v` with the value `-100`."
   ]
  },
  {
   "cell_type": "code",
   "execution_count": null,
   "id": "8dbd832b",
   "metadata": {},
   "outputs": [],
   "source": [
    "tab.iloc[tab['v'] == kx.q('0N'), 'v'] = -100\n",
    "tab"
   ]
  },
  {
   "cell_type": "markdown",
   "id": "37ad1ee6",
   "metadata": {},
   "source": [
    "### Table.pop()\n",
    "\n",
    "```\n",
    "Table.pop(item)\n",
    "```\n",
    "\n",
    "Remove a column or columns from a table by column name and return the column after it has been removed.\n",
    "\n",
    "**Parameters:**\n",
    "\n",
    "| Name    | Type                   | Description                                             | Default    |\n",
    "| :-----: | :--------------------: | :------------------------------------------------------ | :--------: |\n",
    "| item    | Union[str, list[str]]  | The column name or list of names to pop from the table. | _required_ |\n",
    "\n",
    "**Returns:**\n",
    "\n",
    "| Type  | Description                                                        |\n",
    "| :---: | :----------------------------------------------------------------- |\n",
    "| Table | A table contatining only the columns removed from the input table. |"
   ]
  },
  {
   "cell_type": "markdown",
   "id": "a7e8dc98",
   "metadata": {},
   "source": [
    "**Examples:**\n",
    "\n",
    "Remove the `v` column from the table and return it."
   ]
  },
  {
   "cell_type": "code",
   "execution_count": null,
   "id": "cc748ad8",
   "metadata": {
    "scrolled": true
   },
   "outputs": [],
   "source": [
    "display(tab.head())\n",
    "print('\\n\\nPop the `v` column out of the table')\n",
    "display(tab.pop(\"v\"))\n",
    "print('\\n\\nUpdated Table')\n",
    "display(tab.head())"
   ]
  },
  {
   "cell_type": "markdown",
   "id": "231ebfbb",
   "metadata": {},
   "source": [
    "Remove the `z` and `w` columns from the table and return them."
   ]
  },
  {
   "cell_type": "code",
   "execution_count": null,
   "id": "2aea8b3e",
   "metadata": {
    "scrolled": false
   },
   "outputs": [],
   "source": [
    "display(tab.head())\n",
    "print('\\n\\nPop the `z` and `w` columns out of the table')\n",
    "display(tab.pop([\"z\", \"w\"]).head())\n",
    "print('\\n\\nUpdated Table')\n",
    "display(tab.head())"
   ]
  },
  {
   "cell_type": "markdown",
   "id": "56ce1b1d",
   "metadata": {},
   "source": [
    "## Reindexing"
   ]
  },
  {
   "cell_type": "code",
   "execution_count": null,
   "id": "a4c1d74b",
   "metadata": {
    "scrolled": true
   },
   "outputs": [],
   "source": [
    "# The examples in this section will use this example table filled with random data\n",
    "kx.q('N: 1000')\n",
    "tab = kx.q('([] x: til N; y: N?`AAPL`GOOG`MSFT; z: N?500f; w: N?1000; v: N?(0N 0 50 100 200 250))')\n",
    "tab.head()"
   ]
  },
  {
   "cell_type": "markdown",
   "id": "e47a4340",
   "metadata": {},
   "source": [
    "### Table.drop()\n",
    "\n",
    "```\n",
    "Table.drop(item, axis=0)\n",
    "```\n",
    "\n",
    "Remove either columns or rows from a table and return the resulting Table object.\n",
    "\n",
    "**Parameters:**\n",
    "\n",
    "| Name    | Type                   | Description                                                 | Default    |\n",
    "| :-----: | :--------------------: | :---------------------------------------------------------- | :--------: |\n",
    "| item    | Union[str, list[str]]  | The column name(s) or row number(s) to drop from the table. | _required_ |\n",
    "| axis    | int                    | The column name or list of names to pop from the table.     | 0          |\n",
    "\n",
    "**Returns:**\n",
    "\n",
    "| Type  | Description                                                        |\n",
    "| :---: | :----------------------------------------------------------------- |\n",
    "| Table | A table with the given column(s) / row(s) removed.                 |"
   ]
  },
  {
   "cell_type": "markdown",
   "id": "a0417a0f",
   "metadata": {},
   "source": [
    "**Examples:**\n",
    "\n",
    "Drop rows from a table."
   ]
  },
  {
   "cell_type": "code",
   "execution_count": null,
   "id": "2932fb5f",
   "metadata": {},
   "outputs": [],
   "source": [
    "tab.drop([0, 2, 4, 6, 8, 10]).head()"
   ]
  },
  {
   "cell_type": "markdown",
   "id": "5368f9f1",
   "metadata": {},
   "source": [
    "Drop columns from a table."
   ]
  },
  {
   "cell_type": "code",
   "execution_count": null,
   "id": "02c1221f",
   "metadata": {},
   "outputs": [],
   "source": [
    "tab.drop('y', axis=1).head()"
   ]
  },
  {
   "cell_type": "markdown",
   "id": "a88ea856",
   "metadata": {},
   "source": [
    "### Table.drop_duplicates()\n",
    "\n",
    "```\n",
    "Table.drop_duplicates()\n",
    "```\n",
    "\n",
    "Remove either columns or rows from a table and return the resulting Table object.\n",
    "\n",
    "**Returns:**\n",
    "\n",
    "| Type  | Description                              |\n",
    "| :---: | :--------------------------------------- |\n",
    "| Table | A table with all duplicate rows removed. |"
   ]
  },
  {
   "cell_type": "markdown",
   "id": "90493dae",
   "metadata": {},
   "source": [
    "**Examples:**\n",
    "\n",
    "Create a table with duplicates for the example"
   ]
  },
  {
   "cell_type": "code",
   "execution_count": null,
   "id": "baccc6bd",
   "metadata": {},
   "outputs": [],
   "source": [
    "tab2 = kx.q('([] 100?`AAPL`GOOG`MSFT; 100?3)')\n",
    "tab2"
   ]
  },
  {
   "cell_type": "markdown",
   "id": "cd94c2b6",
   "metadata": {},
   "source": [
    "Drop all duplicate rows from the table."
   ]
  },
  {
   "cell_type": "code",
   "execution_count": null,
   "id": "c6dfca99",
   "metadata": {},
   "outputs": [],
   "source": [
    "tab2.drop_duplicates()"
   ]
  },
  {
   "cell_type": "markdown",
   "id": "ece21d55",
   "metadata": {},
   "source": [
    "### Table.rename()\n",
    "\n",
    "```\n",
    "Table.rename(columns)\n",
    "```\n",
    "\n",
    "Rename columns in a table and return the resulting Table object.\n",
    "\n",
    "**Parameters:**\n",
    "\n",
    "| Name    | Type            | Description                                                         | Default    |\n",
    "| :-----: | :-------------: | :------------------------------------------------------------------ | :--------: |\n",
    "| item    | dict[str, str]  | A dictonary of column name to new column name to use when renaming. | _required_ |\n",
    "\n",
    "**Returns:**\n",
    "\n",
    "| Type  | Description                                                        |\n",
    "| :---: | :----------------------------------------------------------------- |\n",
    "| Table | A table with the given column(s) renamed.                          |"
   ]
  },
  {
   "cell_type": "markdown",
   "id": "d49a17ce",
   "metadata": {},
   "source": [
    "**Examples:**\n",
    "\n",
    "The inital table we will be renaming columns on."
   ]
  },
  {
   "cell_type": "code",
   "execution_count": null,
   "id": "585ea2e9",
   "metadata": {},
   "outputs": [],
   "source": [
    "tab.head()"
   ]
  },
  {
   "cell_type": "markdown",
   "id": "b88b46fd",
   "metadata": {},
   "source": [
    "Rename column `y` to `symbol` and `z` to `price`."
   ]
  },
  {
   "cell_type": "code",
   "execution_count": null,
   "id": "ed9c511f",
   "metadata": {},
   "outputs": [],
   "source": [
    "tab.rename(columns={'y': 'symbol', 'z': 'price'}).head()"
   ]
  },
  {
   "cell_type": "markdown",
   "id": "10582eaa",
   "metadata": {},
   "source": [
    "### Table.sample()\n",
    "\n",
    "```\n",
    "Table.sample(n, frac, replace, weights, random_state, axis, ignore_index)\n",
    "```\n",
    "\n",
    "Sample random data from the table.\n",
    "\n",
    "**Parameters:**\n",
    "\n",
    "| Name         | Type  | Description                                                        | Default |\n",
    "| :----------: | :---: | :----------------------------------------------------------------- | :-----: |\n",
    "| n            | int   | Number of rows to return. Cannot be used with `frac`. Default is 1 if `frac` is None. | None |\n",
    "| frac         | float | Fraction of the rows to return. Cannot be used with `n`.           | None    |\n",
    "| replace      | bool  | Whether or not it should be possible to sample the same row twice. | False   |\n",
    "| weights      | None  | Not yet implemented.                                               | None    |\n",
    "| random_state | None  | Not yet implemented.                                               | None    |\n",
    "| axis         | None  | Not yet implemented.                                               | None    |\n",
    "| ignore_index | bool  | Not yet implemented.                                               | False   |\n",
    "\n",
    "**Returns:**\n",
    "\n",
    "| Type  | Description                                                        |\n",
    "| :---: | :----------------------------------------------------------------- |\n",
    "| Table | A table with the given column(s) renamed.                          |"
   ]
  },
  {
   "cell_type": "markdown",
   "id": "0271484d",
   "metadata": {},
   "source": [
    "**Examples:**\n",
    "\n",
    "Sample 10 Rows."
   ]
  },
  {
   "cell_type": "code",
   "execution_count": null,
   "id": "187059eb",
   "metadata": {},
   "outputs": [],
   "source": [
    "tab.sample(n=10)"
   ]
  },
  {
   "cell_type": "markdown",
   "id": "d5d52b8b",
   "metadata": {},
   "source": [
    "Sample 10%  of the rows."
   ]
  },
  {
   "cell_type": "code",
   "execution_count": null,
   "id": "f6aa2289",
   "metadata": {},
   "outputs": [],
   "source": [
    "tab.sample(frac=0.1)"
   ]
  },
  {
   "cell_type": "markdown",
   "id": "a9d80fe9",
   "metadata": {},
   "source": [
    "Sample 10%  of the rows and allow the same row to be sampled twice."
   ]
  },
  {
   "cell_type": "code",
   "execution_count": null,
   "id": "17096534",
   "metadata": {},
   "outputs": [],
   "source": [
    "tab.sample(frac=0.1, replace=True)"
   ]
  },
  {
   "cell_type": "markdown",
   "id": "32794d29",
   "metadata": {},
   "source": [
    "### Table.select_dtypes()\n",
    "\n",
    "```\n",
    "Table.select_dtypes(include=None, exclude=None)\n",
    "```\n",
    "\n",
    "Return a subset of the DataFrame’s columns based on the column dtypes.\n",
    "    \n",
    "**Parameters:**\n",
    "\n",
    "| Name    | Type             | Description                                      | Default |\n",
    "| :-----: | :--------------: | :----------------------------------------------: | :-----: |\n",
    "| include | Union[List, str] | A selection of dtypes or strings to be included. | None    |\n",
    "| exclude | Union[List, str] | A selection of dtypes or strings to be excluded. | None    |\n",
    "    \n",
    "At least one of these parameters must be supplied.\n",
    "    \n",
    "**Returns:**\n",
    "\n",
    "| Type      | Description                                                                                      |\n",
    "| :-------: | :----------------------------------------------------------------------------------------------: |\n",
    "| Dataframe | The subset of the frame including the dtypes in `include` and excluding the dtypes in `exclude`. |"
   ]
  },
  {
   "cell_type": "markdown",
   "id": "a94cc6e5",
   "metadata": {},
   "source": [
    "**Examples:**\n",
    "\n",
    "The examples in the section will use the example table."
   ]
  },
  {
   "cell_type": "code",
   "execution_count": null,
   "id": "8fcaa4fb",
   "metadata": {},
   "outputs": [],
   "source": [
    "df = kx.q('([] c1:`a`b`c; c2:1 2 3h; c3:1 2 3j; c4:1 2 3i)')"
   ]
  },
  {
   "cell_type": "markdown",
   "id": "3dc6ef75",
   "metadata": {},
   "source": [
    "Exclude columns contatining symbols"
   ]
  },
  {
   "cell_type": "code",
   "execution_count": null,
   "id": "7d1a3e61",
   "metadata": {},
   "outputs": [],
   "source": [
    "df.select_dtypes(exclude = kx.SymbolVector)"
   ]
  },
  {
   "cell_type": "markdown",
   "id": "7009cb76",
   "metadata": {},
   "source": [
    "Include a list of column types"
   ]
  },
  {
   "cell_type": "code",
   "execution_count": null,
   "id": "b71e87fa",
   "metadata": {},
   "outputs": [],
   "source": [
    "df.select_dtypes(include = [kx.ShortVector, kx.LongVector])"
   ]
  },
  {
   "cell_type": "markdown",
   "id": "54417754",
   "metadata": {},
   "source": [
    "### Table.astype()\n",
    "\n",
    "```\n",
    "Table.astype(dtype, copy=True, errors='raise')\n",
    "```\n",
    "\n",
    "Cast a column/columns of the Dataframes object to a specified `dtype`.\n",
    "\n",
    "**Parameters:**\n",
    "\n",
    "| Name | Type | Description | Default |\n",
    "| :-: | :-: | :-: | :-: |\n",
    "| dtype | data type, or dict of column name -> data type | Use a PyKx wrapper data type or Python type to cast all columns to the same type. Alternatively, use {col: dtype, …}, where col is a column label and dtype is PyKx wrapper data type to cast one or more of the DataFrame’s columns to column-specific types. |  |\n",
    "| copy |  Boolean | Default of True, False not implemented | True |\n",
    "| errors |  {‘raise’, ‘ignore’} | If passed anything other than 'raise', it will return the dataframe | 'raise' |\n",
    "\n",
    "\n",
    "**Returns:**\n",
    "\n",
    "| Type | Description |\n",
    "| :-: | :-: |\n",
    "| Dataframe | The dataframe with columns casted according to passed dtypes |"
   ]
  },
  {
   "cell_type": "markdown",
   "id": "20546f87",
   "metadata": {},
   "source": [
    "**Examples:**\n",
    "\n",
    "The examples in the section will use the example table."
   ]
  },
  {
   "cell_type": "code",
   "execution_count": null,
   "id": "33e3cf56",
   "metadata": {},
   "outputs": [],
   "source": [
    "df = kx.q('([] c1:1 2 3i; c2:1 2 3j; c3:1 2 3h; c4:1 2 3i)')"
   ]
  },
  {
   "cell_type": "markdown",
   "id": "16b2ee25",
   "metadata": {},
   "source": [
    "Cast all columns to dtype LongVector"
   ]
  },
  {
   "cell_type": "code",
   "execution_count": null,
   "id": "ac977798",
   "metadata": {},
   "outputs": [],
   "source": [
    "df.astype(kx.LongVector)"
   ]
  },
  {
   "cell_type": "markdown",
   "id": "51850e87",
   "metadata": {},
   "source": [
    "Casting as specified in the dcitionary supplied with given dtype per column"
   ]
  },
  {
   "cell_type": "code",
   "execution_count": null,
   "id": "d8c2f1f9",
   "metadata": {},
   "outputs": [],
   "source": [
    "df.astype({'c1':kx.LongVector, 'c2':'kx.ShortVector'})"
   ]
  },
  {
   "cell_type": "markdown",
   "id": "ada1bfd4",
   "metadata": {},
   "source": [
    "The next example will use this table"
   ]
  },
  {
   "cell_type": "code",
   "execution_count": null,
   "id": "ab8261b8",
   "metadata": {},
   "outputs": [],
   "source": [
    "df = kx.q('([] c1:3#.z.p; c2:`abc`def`ghi; c3:1 2 3j; c4:(\"abc\";\"def\";\"ghi\");c5:\"abc\";c6:(1 2 3;4 5 6;7 8 9))')"
   ]
  },
  {
   "cell_type": "markdown",
   "id": "a2972dc0",
   "metadata": {},
   "source": [
    "Casting char and string columns to symbol columns"
   ]
  },
  {
   "cell_type": "code",
   "execution_count": null,
   "id": "c2c019bc",
   "metadata": {},
   "outputs": [],
   "source": [
    "df.astype({'c4':kx.SymbolVector, 'c5':kx.SymbolVector})"
   ]
  },
  {
   "cell_type": "markdown",
   "id": "e0b57863",
   "metadata": {},
   "source": [
    "## Merging"
   ]
  },
  {
   "cell_type": "markdown",
   "id": "8b1c0dc5",
   "metadata": {},
   "source": [
    "### Table.merge()\n",
    "\n",
    "```\n",
    "Table.merge(\n",
    "    right,\n",
    "    how='inner',\n",
    "    on=None,\n",
    "    left_on=None,\n",
    "    right_on=None,\n",
    "    left_index=False,\n",
    "    right_index=False,\n",
    "    sort=False,\n",
    "    suffixes=('_x', '_y'),\n",
    "    copy=True,\n",
    "    validate=None,\n",
    "    q_join=False\n",
    ")\n",
    "```\n",
    "\n",
    "Merge Table or KeyedTable objects with a database-style join.\n",
    "\n",
    "The join is done on columns or indexes. If joining columns on columns, the DataFrame indexes will be ignored. Otherwise if joining indexes on indexes or indexes on a column or columns, the index will be passed on. When performing a cross merge, no column specifications to merge on are allowed.\n",
    "\n",
    "**Parameters:**\n",
    "\n",
    "| Name        | Type | Description                                                                       | Default |\n",
    "| :---------: | :--: | :-------------------------------------------------------------------------------- | :-----: |\n",
    "| right       | Union[Table/KeyedTable] | The object to merge with.                                      | _required_ |\n",
    "| how         | str  | The type of join to be used. One of {‘left’, ‘right’, ‘outer’, ‘inner’, ‘cross’}. | ‘inner’ |\n",
    "| on          | str  | The column name to join on.                                                       | None    |\n",
    "| left_on     | str  | The column name in the left table to join on.                                     | None    |\n",
    "| right_on    | str  | The column name in the right table to join on.                                    | None    |\n",
    "| left_index  | bool | Use the index of the left Table.                                                  | False   |\n",
    "| right_index | bool | Use the index of the right Table.                                                 | False   |\n",
    "| sort        | bool | Sort the join keys of the resulting table.                                        | False   |\n",
    "| suffixes    | Tuple(str, str) | The number of rows to return.                                          | ('\\_x', '\\_y') |\n",
    "| copy        | bool | If False avoid copies and modify the input table.                                 | None    |\n",
    "| validate    | str  | If specified checks if merge matches specified type.<br> - “one_to_one” or “1:1”: check if merge keys are unique in both left and right datasets.<br> - “one_to_many” or “1:m”: check if merge keys are unique in left dataset.<br> - “many_to_one” or “m:1”: check if merge keys are unique in right dataset.<br> - “many_to_many” or “m:m”: allowed, but does not result in checks.<br> | None    |\n",
    "| q_join      | bool | If True perform native q joins instead of the pandas SQL like joins. More documentation around these joins can be found [here.](https://code.kx.com/q/basics/joins/) | False   |\n",
    "\n",
    "**Returns:**\n",
    "\n",
    "| Type               | Description                                                         |\n",
    "| :----------------: | :------------------------------------------------------------------ |\n",
    "| Table / KeyedTable | The resulting table like object after the join has been preformed. |"
   ]
  },
  {
   "cell_type": "markdown",
   "id": "9542857c",
   "metadata": {},
   "source": [
    "**Examples:**\n",
    "\n",
    "Merge tab1 and tab2 on the lkey and rkey columns. The value columns have the default suffixes, \\_x and \\_y, appended."
   ]
  },
  {
   "cell_type": "code",
   "execution_count": null,
   "id": "847941a9",
   "metadata": {
    "scrolled": true
   },
   "outputs": [],
   "source": [
    "tab1 = kx.Table(data={'lkey': ['foo', 'bar', 'baz', 'foo'], 'value': [1, 2, 3, 5]})\n",
    "tab2 = kx.Table(data={'rkey': ['foo', 'bar', 'baz', 'foo'], 'value': [5, 6, 7, 8]})\n",
    "tab1.merge(tab2, left_on='lkey', right_on='rkey')"
   ]
  },
  {
   "cell_type": "markdown",
   "id": "4b6793c9",
   "metadata": {},
   "source": [
    "Merge tab1 and tab2 on the lkey and rkey columns using a native q inner join. The value columns have the default suffixes, \\_x and \\_y, appended."
   ]
  },
  {
   "cell_type": "code",
   "execution_count": null,
   "id": "023b555b",
   "metadata": {},
   "outputs": [],
   "source": [
    "tab1.merge(tab2, left_on='lkey', right_on='rkey', q_join=True)"
   ]
  },
  {
   "cell_type": "markdown",
   "id": "9449f90b",
   "metadata": {},
   "source": [
    "Merge tab1 and tab2 with specified left and right suffixes appended to any overlapping columns."
   ]
  },
  {
   "cell_type": "code",
   "execution_count": null,
   "id": "87ad643d",
   "metadata": {},
   "outputs": [],
   "source": [
    "tab1.merge(tab2, left_on='lkey', right_on='rkey', suffixes=('_left', '_right'))"
   ]
  },
  {
   "cell_type": "markdown",
   "id": "49deadfd",
   "metadata": {},
   "source": [
    "Merge tab1 and tab2 but raise an exception if the Tables have any overlapping columns."
   ]
  },
  {
   "cell_type": "code",
   "execution_count": null,
   "id": "a3d45ec4",
   "metadata": {
    "scrolled": true
   },
   "outputs": [],
   "source": [
    "try:\n",
    "    tab1.merge(tab2, left_on='lkey', right_on='rkey', suffixes=(False, False))\n",
    "except BaseException as e:\n",
    "    print(f'Caught Error: {e}')"
   ]
  },
  {
   "cell_type": "code",
   "execution_count": null,
   "id": "ee3ef9a8",
   "metadata": {},
   "outputs": [],
   "source": [
    "tab1 = kx.Table(data={'a': ['foo', 'bar'], 'b': [1, 2]})\n",
    "tab2 = kx.Table(data={'a': ['foo', 'baz'], 'c': [3, 4]})"
   ]
  },
  {
   "cell_type": "markdown",
   "id": "b62f2e3b",
   "metadata": {},
   "source": [
    "Merge tab1 and tab2 on the `a` column using an inner join."
   ]
  },
  {
   "cell_type": "code",
   "execution_count": null,
   "id": "8f17070f",
   "metadata": {
    "scrolled": true
   },
   "outputs": [],
   "source": [
    "tab1.merge(tab2, how='inner', on='a')"
   ]
  },
  {
   "cell_type": "markdown",
   "id": "2aaf6b4b",
   "metadata": {},
   "source": [
    "Merge tab1 and tab2 on the `a` column using a left join."
   ]
  },
  {
   "cell_type": "code",
   "execution_count": null,
   "id": "64cfb314",
   "metadata": {},
   "outputs": [],
   "source": [
    "tab1.merge(tab2, how='left', on='a')"
   ]
  },
  {
   "cell_type": "markdown",
   "id": "374c2905",
   "metadata": {},
   "source": [
    "Merge tab1 and tab2 using a cross join."
   ]
  },
  {
   "cell_type": "code",
   "execution_count": null,
   "id": "51f94109",
   "metadata": {
    "scrolled": true
   },
   "outputs": [],
   "source": [
    "tab1 = kx.Table(data={'left': ['foo', 'bar']})\n",
    "tab2 = kx.Table(data={'right': [7, 8]})\n",
    "tab1.merge(tab2, how='cross')"
   ]
  },
  {
   "cell_type": "markdown",
   "id": "d4293b88",
   "metadata": {},
   "source": [
    "### Table.merge_asof()\n",
    "\n",
    "```\n",
    "Table.merge_asof(\n",
    "    right,\n",
    "    on=None,\n",
    "    left_on=None,\n",
    "    right_on=None,\n",
    "    left_index=False,\n",
    "    right_index=False,\n",
    "    by=None,\n",
    "    left_by=None,\n",
    "    right_by=None,\n",
    "    suffixes=('_x', '_y'),\n",
    "    tolerance=None,\n",
    "    allow_exact_matches=True,\n",
    "    direction='backward'\n",
    "\n",
    ")\n",
    "```\n",
    "\n",
    "Merge Table or KeyedTable objects with a database-style join.\n",
    "\n",
    "The join is done on columns or indexes. If joining columns on columns, the DataFrame indexes will be ignored. Otherwise if joining indexes on indexes or indexes on a column or columns, the index will be passed on. When performing a cross merge, no column specifications to merge on are allowed.\n",
    "\n",
    "**Parameters:**\n",
    "\n",
    "| Name        | Type | Description                                                                       | Default |\n",
    "| :---------: | :--: | :-------------------------------------------------------------------------------- | :-----: |\n",
    "| right       | Union[Table/KeyedTable] | The object to merge with.                                      | _required_ |\n",
    "| how         | str  | The type of join to be used. One of {‘left’, ‘right’, ‘outer’, ‘inner’, ‘cross’}. | ‘inner’ |\n",
    "| on          | str  | The column name to join on.                                                       | None    |\n",
    "| left_on     | str  | The column name in the left table to join on.                                     | None    |\n",
    "| right_on    | str  | The column name in the right table to join on.                                    | None    |\n",
    "| left_index  | bool | Use the index of the left Table.                                                  | False   |\n",
    "| right_index | bool | Use the index of the right Table.                                                 | False   |\n",
    "| by          | str  | Not yet implemented.                                                              | None    |\n",
    "| left_by     | str  | Field names to match on in the left table.                                        | None    |\n",
    "| right_by    | str  | Field names to match on in the right table.                                       | None    |\n",
    "| suffixes    | Tuple(str, str) | The number of rows to return.                                          | ('\\_x', '\\_y') |\n",
    "| tolerance   | Any   | Not yet implemented.                                                             | None    |\n",
    "| allow_exact_matches | bool | Not yet implemented.                                                      | True    |\n",
    "| direction   | str   | Not yet implemented.                                                             | 'backward' |\n",
    "\n",
    "\n",
    "**Returns:**\n",
    "\n",
    "| Type               | Description                                                         |\n",
    "| :----------------: | :------------------------------------------------------------------ |\n",
    "| Table / KeyedTable | The resulting table like object after the join has been preformed. |"
   ]
  },
  {
   "cell_type": "markdown",
   "id": "bf6bc139",
   "metadata": {},
   "source": [
    "**Examples:**\n",
    "\n",
    "Perform a simple asof join on two tables."
   ]
  },
  {
   "cell_type": "code",
   "execution_count": null,
   "id": "338f553c",
   "metadata": {},
   "outputs": [],
   "source": [
    "left  = kx.Table(data={\"a\": [1, 5, 10], \"left_val\": [\"a\", \"b\", \"c\"]})\n",
    "right = kx.Table(data={\"a\": [1, 2, 3, 6, 7], \"right_val\": [1, 2, 3, 6, 7]})\n",
    "left"
   ]
  },
  {
   "cell_type": "code",
   "execution_count": null,
   "id": "2d7b0d9b",
   "metadata": {},
   "outputs": [],
   "source": [
    "right"
   ]
  },
  {
   "cell_type": "code",
   "execution_count": null,
   "id": "5949e8b3",
   "metadata": {},
   "outputs": [],
   "source": [
    "left.merge_asof(right)"
   ]
  },
  {
   "cell_type": "markdown",
   "id": "6976cfc0",
   "metadata": {},
   "source": [
    "Perform a asof join on two tables but first merge them on the by column."
   ]
  },
  {
   "cell_type": "code",
   "execution_count": null,
   "id": "7e9c7ee0",
   "metadata": {},
   "outputs": [],
   "source": [
    "trades = kx.Table(data={\n",
    "    \"time\": [\n",
    "        pd.Timestamp(\"2016-05-25 13:30:00.023\"),\n",
    "        pd.Timestamp(\"2016-05-25 13:30:00.023\"),\n",
    "        pd.Timestamp(\"2016-05-25 13:30:00.030\"),\n",
    "        pd.Timestamp(\"2016-05-25 13:30:00.041\"),\n",
    "        pd.Timestamp(\"2016-05-25 13:30:00.048\"),\n",
    "        pd.Timestamp(\"2016-05-25 13:30:00.049\"),\n",
    "        pd.Timestamp(\"2016-05-25 13:30:00.072\"),\n",
    "        pd.Timestamp(\"2016-05-25 13:30:00.075\")\n",
    "    ],\n",
    "    \"ticker\": [\n",
    "       \"GOOG\",\n",
    "       \"MSFT\",\n",
    "       \"MSFT\",\n",
    "       \"MSFT\",\n",
    "       \"GOOG\",\n",
    "       \"AAPL\",\n",
    "       \"GOOG\",\n",
    "       \"MSFT\"\n",
    "   ],\n",
    "   \"bid\": [720.50, 51.95, 51.97, 51.99, 720.50, 97.99, 720.50, 52.01],\n",
    "   \"ask\": [720.93, 51.96, 51.98, 52.00, 720.93, 98.01, 720.88, 52.03]\n",
    "})\n",
    "quotes = kx.Table(data={\n",
    "   \"time\": [\n",
    "       pd.Timestamp(\"2016-05-25 13:30:00.023\"),\n",
    "       pd.Timestamp(\"2016-05-25 13:30:00.038\"),\n",
    "       pd.Timestamp(\"2016-05-25 13:30:00.048\"),\n",
    "       pd.Timestamp(\"2016-05-25 13:30:00.048\"),\n",
    "       pd.Timestamp(\"2016-05-25 13:30:00.048\")\n",
    "   ],\n",
    "   \"ticker\": [\"MSFT\", \"MSFT\", \"GOOG\", \"GOOG\", \"AAPL\"],\n",
    "   \"price\": [51.95, 51.95, 720.77, 720.92, 98.0],\n",
    "   \"quantity\": [75, 155, 100, 100, 100]\n",
    "})\n",
    "trades"
   ]
  },
  {
   "cell_type": "code",
   "execution_count": null,
   "id": "444c426a",
   "metadata": {},
   "outputs": [],
   "source": [
    "quotes"
   ]
  },
  {
   "cell_type": "code",
   "execution_count": null,
   "id": "d2e16d4a",
   "metadata": {},
   "outputs": [],
   "source": [
    "trades.merge_asof(quotes, on=\"time\")"
   ]
  },
  {
   "cell_type": "markdown",
   "id": "ca5c9a5f",
   "metadata": {},
   "source": [
    "## Computations"
   ]
  },
  {
   "cell_type": "code",
   "execution_count": null,
   "id": "674cb468",
   "metadata": {},
   "outputs": [],
   "source": [
    "# All the examples in this section will use this example table.\n",
    "kx.q('N: 100')\n",
    "tab = kx.q('([] sym: N?`AAPL`GOOG`MSFT; price: 250f - N?500f; traded: 100 - N?200; hold: N?0b)')\n",
    "tab"
   ]
  },
  {
   "cell_type": "markdown",
   "id": "92136283",
   "metadata": {},
   "source": [
    "### Table.abs()\n",
    "\n",
    "```\n",
    "Table.abs(numeric_only=False)\n",
    "```\n",
    "\n",
    "Take the absolute value of each element in the table. Will raise an error if there are columns that contain data that have no absolute value.\n",
    "\n",
    "**Parameters:**\n",
    "\n",
    "| Name         | Type | Description                                                                      | Default |\n",
    "| :----------: | :--: | :------------------------------------------------------------------------------- | :-----: |\n",
    "| numeric_only | bool | Only use columns of the table that can be converted to an absolute value.        | False   |\n",
    "\n",
    "**Returns:**\n",
    "\n",
    "| Type               | Description                                                          |\n",
    "| :----------------: | :------------------------------------------------------------------- |\n",
    "| Table / KeyedTable | The resulting table like object with only positive numerical values. |"
   ]
  },
  {
   "cell_type": "code",
   "execution_count": null,
   "id": "7b08d857",
   "metadata": {
    "scrolled": true
   },
   "outputs": [],
   "source": [
    "tab.abs(numeric_only=True)"
   ]
  },
  {
   "cell_type": "markdown",
   "id": "ad57d9cf",
   "metadata": {},
   "source": [
    "### Table.all()\n",
    "\n",
    "```\n",
    "Table.all(axis=0, bool_only=False, skipna=True)\n",
    "```\n",
    "\n",
    "Returns whether or not all values across the given axis have a `truthy` value.\n",
    "\n",
    "**Parameters:**\n",
    "\n",
    "| Name         | Type | Description                                                                      | Default |\n",
    "| :----------: | :--: | :------------------------------------------------------------------------------- | :-----: |\n",
    "| axis         | int  | The axis to calculate `all` across 0 is columns, 1 is rows.                      | 0       |\n",
    "| bool_only    | bool | Only use columns of the table that are boolean types.                            | False   |\n",
    "| skipna       | bool | Ignore any null values along the axis.                                           | True    |\n",
    "\n",
    "**Returns:**\n",
    "\n",
    "| Type               | Description                                                          |\n",
    "| :----------------: | :------------------------------------------------------------------- |\n",
    "| Dictionary         | A dictionary where the key represent the column name / row number and the values are the result of calling `all` on that column / row. |"
   ]
  },
  {
   "cell_type": "code",
   "execution_count": null,
   "id": "b37d2e15",
   "metadata": {},
   "outputs": [],
   "source": [
    "tab.all()"
   ]
  },
  {
   "cell_type": "markdown",
   "id": "fd14012f",
   "metadata": {},
   "source": [
    "### Table.any()\n",
    "\n",
    "```\n",
    "Table.any(axis=0, bool_only=False, skipna=True)\n",
    "```\n",
    "\n",
    "Returns whether or not any values across the given axis have a `truthy` value.\n",
    "\n",
    "**Parameters:**\n",
    "\n",
    "| Name         | Type | Description                                                                      | Default |\n",
    "| :----------: | :--: | :------------------------------------------------------------------------------- | :-----: |\n",
    "| axis         | int  | The axis to calculate `any` across 0 is columns, 1 is rows.                      | 0       |\n",
    "| bool_only    | bool | Only use columns of the table that are boolean types.                            | False   |\n",
    "| skipna       | bool | Ignore any null values along the axis.                                           | True    |\n",
    "\n",
    "**Returns:**\n",
    "\n",
    "| Type               | Description                                                          |\n",
    "| :----------------: | :------------------------------------------------------------------- |\n",
    "| Dictionary         | A dictionary where the key represent the column name / row number and the values are the result of calling `any` on that column / row. |"
   ]
  },
  {
   "cell_type": "code",
   "execution_count": null,
   "id": "581cf133",
   "metadata": {},
   "outputs": [],
   "source": [
    "tab.any()"
   ]
  },
  {
   "cell_type": "markdown",
   "id": "c42f7ec0",
   "metadata": {},
   "source": [
    "### Table.max()\n",
    "\n",
    "```\n",
    "Table.max(axis=0, skipna=True, numeric_only=False)\n",
    "```\n",
    "\n",
    "Returns the maximum value across the given axis.\n",
    "\n",
    "**Parameters:**\n",
    "\n",
    "| Name         | Type | Description                                                                      | Default |\n",
    "| :----------: | :--: | :------------------------------------------------------------------------------- | :-----: |\n",
    "| axis         | int  | The axis to calculate the maximum across 0 is columns, 1 is rows.                | 0       |\n",
    "| skipna       | bool | Ignore any null values along the axis.                                           | True    |\n",
    "| numeric_only | bool | Only use columns of the table that are of a numeric data type.                   | False   |\n",
    "\n",
    "**Returns:**\n",
    "\n",
    "| Type               | Description                                                          |\n",
    "| :----------------: | :------------------------------------------------------------------- |\n",
    "| Dictionary         | A dictionary where the key represent the column name / row number and the values are the result of calling `max` on that column / row. |"
   ]
  },
  {
   "cell_type": "code",
   "execution_count": null,
   "id": "dd8a84e1",
   "metadata": {},
   "outputs": [],
   "source": [
    "tab.max()"
   ]
  },
  {
   "cell_type": "markdown",
   "id": "fb28288f",
   "metadata": {},
   "source": [
    "### Table.min()\n",
    "\n",
    "```\n",
    "Table.min(axis=0, skipna=True, numeric_only=False)\n",
    "```\n",
    "\n",
    "Returns the minimum value across the given axis.\n",
    "\n",
    "**Parameters:**\n",
    "\n",
    "| Name         | Type | Description                                                                      | Default |\n",
    "| :----------: | :--: | :------------------------------------------------------------------------------- | :-----: |\n",
    "| axis         | int  | The axis to calculate the minimum across 0 is columns, 1 is rows.                | 0       |\n",
    "| skipna       | bool | Ignore any null values along the axis.                                           | True    |\n",
    "| numeric_only | bool | Only use columns of the table that are of a numeric data type.                   | False   |\n",
    "\n",
    "**Returns:**\n",
    "\n",
    "| Type               | Description                                                          |\n",
    "| :----------------: | :------------------------------------------------------------------- |\n",
    "| Dictionary         | A dictionary where the key represent the column name / row number and the values are the result of calling `min` on that column / row. |"
   ]
  },
  {
   "cell_type": "code",
   "execution_count": null,
   "id": "0fe40c65",
   "metadata": {},
   "outputs": [],
   "source": [
    "tab.min()"
   ]
  },
  {
   "cell_type": "markdown",
   "id": "af783468",
   "metadata": {},
   "source": [
    "### Table.sum()\n",
    "\n",
    "```\n",
    "Table.sum(axis=0, skipna=True, numeric_only=False, min_count=0)\n",
    "```\n",
    "\n",
    "Returns the sum of all values across the given axis.\n",
    "\n",
    "**Parameters:**\n",
    "\n",
    "| Name         | Type | Description                                                                      | Default |\n",
    "| :----------: | :--: | :------------------------------------------------------------------------------- | :-----: |\n",
    "| axis         | int  | The axis to calculate the sum across 0 is columns, 1 is rows.                    | 0       |\n",
    "| skipna       | bool | Ignore any null values along the axis.                                           | True    |\n",
    "| numeric_only | bool | Only use columns of the table that are of a numeric data type.                   | False   |\n",
    "| min_count    | int  | If not set to 0 if there are less then `min_count` values across the axis a null value will be returned | 0 |\n",
    "\n",
    "**Returns:**\n",
    "\n",
    "| Type               | Description                                                          |\n",
    "| :----------------: | :------------------------------------------------------------------- |\n",
    "| Dictionary         | A dictionary where the key represent the column name / row number and the values are the result of calling `sum` on that column / row. |"
   ]
  },
  {
   "cell_type": "code",
   "execution_count": null,
   "id": "32519605",
   "metadata": {},
   "outputs": [],
   "source": [
    "tab.sum()"
   ]
  },
  {
   "cell_type": "markdown",
   "id": "621766f6",
   "metadata": {},
   "source": [
    "### Table.prod()\n",
    "\n",
    "```\n",
    "Table.prod(axis=0, skipna=True, numeric_only=False, min_count=0)\n",
    "```\n",
    "\n",
    "Returns the product of all values across the given axis.\n",
    "\n",
    "**Parameters:**\n",
    "\n",
    "| Name         | Type | Description                                                                      | Default |\n",
    "| :----------: | :--: | :------------------------------------------------------------------------------- | :-----: |\n",
    "| axis         | int  | The axis to calculate the product across 0 is columns, 1 is rows.                | 0       |\n",
    "| skipna       | bool | Ignore any null values along the axis.                                           | True    |\n",
    "| numeric_only | bool | Only use columns of the table that are of a numeric data type.                   | False   |\n",
    "| min_count    | int  | If not set to 0 if there are less then `min_count` values across the axis a null value will be returned | 0 |\n",
    "\n",
    "**Returns:**\n",
    "\n",
    "| Type               | Description                                                          |\n",
    "| :----------------: | :------------------------------------------------------------------- |\n",
    "| Dictionary         | A dictionary where the key represent the column name / row number and the values are the result of calling `prd` on that column / row. |"
   ]
  },
  {
   "cell_type": "code",
   "execution_count": null,
   "id": "97c7c26b",
   "metadata": {
    "scrolled": true
   },
   "outputs": [],
   "source": [
    "# This example will use a smaller version of the above table\n",
    "# as the result of calculating the product quickly goes over the integer limits.\n",
    "kx.q('N: 10')\n",
    "tab = kx.q('([] sym: N?`AAPL`GOOG`MSFT; price: 2.5f - N?5f; traded: 10 - N?20; hold: N?0b)')\n",
    "tab[tab['traded'] == 0, 'traded'] = 1\n",
    "tab[tab['price'] == 0, 'price'] = 1.0\n",
    "tab"
   ]
  },
  {
   "cell_type": "code",
   "execution_count": null,
   "id": "9222c8ba",
   "metadata": {},
   "outputs": [],
   "source": [
    "tab.prod(numeric_only=True)"
   ]
  },
  {
   "cell_type": "markdown",
   "id": "655c3ad2",
   "metadata": {},
   "source": [
    "## Setting Indexes"
   ]
  },
  {
   "cell_type": "markdown",
   "id": "6ad74ce0",
   "metadata": {},
   "source": [
    "### Table.set_index()\n",
    "\n",
    "```\n",
    "Table.set_index(\n",
    "    keys,\n",
    "    drop=True,\n",
    "    append=False,\n",
    "    inplace=False,\n",
    "    verify_integrity=False,\n",
    ")\n",
    "```\n",
    "\n",
    "Add index/indexes to a Table/KeyedTable.\n",
    "\n",
    "**Parameters:**\n",
    "\n",
    "| Name             | Type | Description                                                              | Default    |\n",
    "| :--------------: | :--: | :----------------------------------------------------------------------- | :--------: |\n",
    "| keys             | Union[Symbol/SymbolVector/Table] | The key(s) or data to key on                 | _required_ |\n",
    "| drop             | bool                             | Not Yet Implemented                          | True       |\n",
    "| append           | bool                             | Whether to append columns to existing index. | False      | \n",
    "| inplace          | bool                             | Not Yet Implemented                          | False      |\n",
    "| verify_integrity | bool                             | Check the new index for duplicates           | False      |    \n",
    "\n",
    "**Returns:**\n",
    "\n",
    "| Type       | Description                                    |\n",
    "| :--------: | :--------------------------------------------- |\n",
    "| KeyedTable | The resulting table after the index is applied |\n",
    "\n",
    "**Examples:**\n",
    "\n",
    "Adding indexes:"
   ]
  },
  {
   "cell_type": "code",
   "execution_count": null,
   "id": "bdd21889",
   "metadata": {},
   "outputs": [],
   "source": [
    "kx.q('N: 10')\n",
    "tab = kx.q('([] sym: N?`AAPL`GOOG`MSFT; price: 2.5f - N?5f; traded: N?0 1; hold: N?01b)')"
   ]
  },
  {
   "cell_type": "code",
   "execution_count": null,
   "id": "cf782f61",
   "metadata": {},
   "outputs": [],
   "source": [
    "#Setting a single index\n",
    "tab.set_index('sym')"
   ]
  },
  {
   "cell_type": "code",
   "execution_count": null,
   "id": "0c54f760",
   "metadata": {},
   "outputs": [],
   "source": [
    "#Setting multipe indexes\n",
    "tab.set_index(['sym', 'traded'])"
   ]
  },
  {
   "cell_type": "code",
   "execution_count": null,
   "id": "825afd87",
   "metadata": {},
   "outputs": [],
   "source": [
    "#Pass a table as index (lengths must match)\n",
    "status = kx.q('{select movement from ungroup select movement:`down`up 0<=deltas price by sym from x}',tab)\n",
    "tab.set_index(status)"
   ]
  },
  {
   "cell_type": "markdown",
   "id": "72efa53c",
   "metadata": {},
   "source": [
    "Appending:"
   ]
  },
  {
   "cell_type": "code",
   "execution_count": null,
   "id": "d2b9b266",
   "metadata": {},
   "outputs": [],
   "source": [
    "#Default is false - previous index 'sym' deleted and replaced by 'hold'\n",
    "tab.set_index('sym').set_index('hold')"
   ]
  },
  {
   "cell_type": "code",
   "execution_count": null,
   "id": "af569818",
   "metadata": {},
   "outputs": [],
   "source": [
    "#append= True will retain 'sym' index and add 'hold' as second index\n",
    "tab.set_index('sym').set_index('hold', append= True)"
   ]
  },
  {
   "cell_type": "markdown",
   "id": "3224889a",
   "metadata": {},
   "source": [
    "Verify Integrity:"
   ]
  },
  {
   "cell_type": "code",
   "execution_count": null,
   "id": "74347bef",
   "metadata": {},
   "outputs": [],
   "source": [
    "#Will allow duplicates in index:\n",
    "tab.set_index('sym')"
   ]
  },
  {
   "cell_type": "code",
   "execution_count": null,
   "id": "edca3507",
   "metadata": {},
   "outputs": [],
   "source": [
    "#Will error as 'sym' has duplicates\n",
    "try:\n",
    "    tab.set_index('sym', verify_integrity= True)\n",
    "except kx.QError as e:\n",
    "    print(f'Caught Error: {e}')"
   ]
  },
  {
   "cell_type": "markdown",
   "id": "e9d74bb5",
   "metadata": {},
   "source": [
    "## Group By"
   ]
  },
  {
   "cell_type": "markdown",
   "id": "ae3ec2eb",
   "metadata": {},
   "source": [
    "### Table.groupby()\n",
    "\n",
    "```\n",
    "Table.groupby(\n",
    "    by=None,\n",
    "    axis=0,\n",
    "    level=None,\n",
    "    as_index=True,\n",
    "    sort=True,\n",
    "    group_keys=True,\n",
    "    observed=False,\n",
    "    dropna=True\n",
    ")\n",
    "```\n",
    "\n",
    "Group data based on like values within columns to easily apply operations on groups.\n",
    "\n",
    "**Parameters:**\n",
    "\n",
    "| Name             | Type | Description                                                                 | Default  |\n",
    "| :--------------: | :--: | :-------------------------------------------------------------------------- | :------: |\n",
    "| by         | Union[Symbol/SymbolVector/int/list] | The column name(s) or column index(es) to group the data on. | None |\n",
    "| axis       | int                                 | Not Yet Implemented.                            | 0        |\n",
    "| level      | Union[Symbol/SymbolVector/int/list] | The column name(s) or column index(es) to group the data on. | None | \n",
    "| as_index   | bool                                | Return the table with groups as the key column. | True     |\n",
    "| sort       | bool                                | Sort the resulting table based off the key.     | True     |\n",
    "| group_keys | bool                                | Not Yet Implemented.                            | True     | \n",
    "| observed   | bool                                | Not Yet Implemented.                            | False    |\n",
    "| dropna     | bool                                | Drop groups where the group is null.            | True     |  \n",
    "\n",
    "Either `by` or `level` can be used to specify the columns to group on, using both will raise an error.\n",
    "\n",
    "Using and integer or list of integers is only possible when calling `groupby` on a `KeyedTable` object.\n",
    "\n",
    "**Returns:**\n",
    "\n",
    "| Type         | Description                                     |\n",
    "| :----------: | :---------------------------------------------- |\n",
    "| GroupbyTable | The resulting table after the grouping is done. |\n",
    "\n",
    "**Examples:**\n",
    "\n",
    "Example Table."
   ]
  },
  {
   "cell_type": "code",
   "execution_count": null,
   "id": "189eabbe",
   "metadata": {
    "scrolled": true
   },
   "outputs": [],
   "source": [
    "tab = kx.Table(data={\n",
    "    'Animal': ['Falcon', 'Falcon', 'Parrot', 'Parrot'],\n",
    "    'Max Speed': [380., 370., 24., 26.],\n",
    "    'Max Altitude': [570., 555., 275., 300.]\n",
    "})\n",
    "\n",
    "tab"
   ]
  },
  {
   "cell_type": "markdown",
   "id": "d805052d",
   "metadata": {},
   "source": [
    "Group on the `Animal` column and calculate the mean of the resulting `Max Speed` and `Max Altitude` columns."
   ]
  },
  {
   "cell_type": "code",
   "execution_count": null,
   "id": "00cc7660",
   "metadata": {
    "scrolled": true
   },
   "outputs": [],
   "source": [
    "tab.groupby(kx.SymbolVector(['Animal'])).mean()"
   ]
  },
  {
   "cell_type": "markdown",
   "id": "c7ef160d",
   "metadata": {},
   "source": [
    "Example table with multiple columns to group on."
   ]
  },
  {
   "cell_type": "code",
   "execution_count": null,
   "id": "3204bd59",
   "metadata": {},
   "outputs": [],
   "source": [
    "tab = kx.q('2!', kx.Table(\n",
    "    data={\n",
    "        'Animal': ['Falcon', 'Falcon', 'Parrot', 'Parrot', 'Parrot'],\n",
    "        'Type': ['Captive', 'Wild', 'Captive', 'Wild', 'Wild'],\n",
    "        'Max Speed': [390., 350., 30., 20., 25.]\n",
    "    }\n",
    "))\n",
    "tab"
   ]
  },
  {
   "cell_type": "markdown",
   "id": "77008f71",
   "metadata": {},
   "source": [
    "Group on multiple columns using thier indexes."
   ]
  },
  {
   "cell_type": "code",
   "execution_count": null,
   "id": "cfd22d01",
   "metadata": {},
   "outputs": [],
   "source": [
    "tab.groupby(level=[0, 1]).mean()"
   ]
  },
  {
   "cell_type": "markdown",
   "id": "58e77d29",
   "metadata": {},
   "source": [
    "Example table with Nulls."
   ]
  },
  {
   "cell_type": "code",
   "execution_count": null,
   "id": "96bb6e4d",
   "metadata": {},
   "outputs": [],
   "source": [
    "tab = kx.Table(\n",
    "    [\n",
    "        [\"a\", 12, 12],\n",
    "        [kx.q('`'), 12.3, 33.],\n",
    "        [\"b\", 12.3, 123],\n",
    "        [\"a\", 1, 1]\n",
    "    ],\n",
    "    columns=[\"a\", \"b\", \"c\"]\n",
    ")\n",
    "tab"
   ]
  },
  {
   "cell_type": "markdown",
   "id": "a13c11f4",
   "metadata": {},
   "source": [
    "Group on column `a` and keep null groups."
   ]
  },
  {
   "cell_type": "code",
   "execution_count": null,
   "id": "95d7734a",
   "metadata": {
    "scrolled": true
   },
   "outputs": [],
   "source": [
    "tab.groupby('a', dropna=False).sum()"
   ]
  },
  {
   "cell_type": "markdown",
   "id": "1645ae2b",
   "metadata": {},
   "source": [
    "Group on column `a` keeping null groups and not using the groups as an index column."
   ]
  },
  {
   "cell_type": "code",
   "execution_count": null,
   "id": "bf8dc14c",
   "metadata": {},
   "outputs": [],
   "source": [
    "tab.groupby('a', dropna=False, as_index=False).sum()"
   ]
  },
  {
   "cell_type": "markdown",
   "id": "undefined-bruce",
   "metadata": {},
   "source": [
    "## Apply\n",
    "\n",
    "### Table.apply()\n",
    "\n",
    "```\n",
    "Table.apply(\n",
    "    func,\n",
    "    *args,\n",
    "    axis=0,\n",
    "    raw=None,\n",
    "    result_type=None,\n",
    "    **kwargs\n",
    ")\n",
    "```\n",
    "\n",
    "Apply a function along an axis of the DataFrame.\n",
    "\n",
    "Objects passed to a function are passed as kx list objects.\n",
    "\n",
    "**Parameters:**\n",
    "\n",
    "| Name             | Type                                | Description                                                                  | Default  |\n",
    "| :--------------: | :---------------------------------: | :-------------------------------------------------------------------------- | :------: |\n",
    "| func             | function | Function to apply to each column or row. |  |\n",
    "| `*args`          | any      | Positional arguments to pass to `func` in addition to the kx list.                            | |\n",
    "| axis             | int      | The axis along which the function is applied, `0` applies function to each column, `1` applied function to each row. | 0 | \n",
    "| raw              | bool     | Not yet implemented. | None     |\n",
    "| result_type      | str      | Not yet implemented.     | None     |\n",
    "| `**kwargs`       | dict     | Additional keyword arguments to pass as keywords to `func`, this argument is not implemented in the case `func` is a kx callable function.                            | None     | \n",
    "\n",
    "\n",
    "**Returns:**\n",
    "\n",
    "| Type                      | Description                                     |\n",
    "| :-----------------------: | :---------------------------------------------- |\n",
    "| List, Dictionary or Table | Result of applying `func` along the giveen axis of the `kx.Table`. |\n",
    "\n",
    "**Examples:**\n",
    "\n",
    "Example Table."
   ]
  },
  {
   "cell_type": "code",
   "execution_count": null,
   "id": "cooperative-construction",
   "metadata": {},
   "outputs": [],
   "source": [
    "tab = kx.Table([[4, 9]] * 3, columns=['A', 'B'])\n",
    "\n",
    "tab"
   ]
  },
  {
   "cell_type": "markdown",
   "id": "micro-dodge",
   "metadata": {},
   "source": [
    "Apply square root on each item within a column"
   ]
  },
  {
   "cell_type": "code",
   "execution_count": null,
   "id": "handmade-bridal",
   "metadata": {},
   "outputs": [],
   "source": [
    "tab.apply(kx.q.sqrt)"
   ]
  },
  {
   "cell_type": "markdown",
   "id": "accepted-planning",
   "metadata": {},
   "source": [
    "Apply a reducing function sum on either axis"
   ]
  },
  {
   "cell_type": "code",
   "execution_count": null,
   "id": "acquired-wholesale",
   "metadata": {},
   "outputs": [],
   "source": [
    "tab.apply(kx.q.sum)"
   ]
  },
  {
   "cell_type": "code",
   "execution_count": null,
   "id": "informal-algebra",
   "metadata": {},
   "outputs": [],
   "source": [
    "tab.apply(lambda x: sum(x), axis=1)"
   ]
  }
 ],
 "metadata": {
  "kernelspec": {
   "display_name": "Python 3",
   "language": "python",
   "name": "python3"
  },
  "language_info": {
   "codemirror_mode": {
    "name": "ipython",
    "version": 3
   },
   "file_extension": ".py",
   "mimetype": "text/x-python",
   "name": "python",
   "nbconvert_exporter": "python",
   "pygments_lexer": "ipython3",
   "version": "3.8.3"
  }
 },
 "nbformat": 4,
 "nbformat_minor": 5
}
